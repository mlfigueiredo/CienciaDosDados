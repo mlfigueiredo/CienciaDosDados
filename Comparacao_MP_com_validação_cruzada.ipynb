{
  "nbformat": 4,
  "nbformat_minor": 0,
  "metadata": {
    "colab": {
      "provenance": [],
      "include_colab_link": true
    },
    "kernelspec": {
      "name": "python3",
      "display_name": "Python 3"
    },
    "language_info": {
      "name": "python"
    }
  },
  "cells": [
    {
      "cell_type": "markdown",
      "metadata": {
        "id": "view-in-github",
        "colab_type": "text"
      },
      "source": [
        "<a href=\"https://colab.research.google.com/github/mlfigueiredo/CienciaDosDados/blob/main/Comparacao_MP_com_valida%C3%A7%C3%A3o_cruzada.ipynb\" target=\"_parent\"><img src=\"https://colab.research.google.com/assets/colab-badge.svg\" alt=\"Open In Colab\"/></a>"
      ]
    },
    {
      "cell_type": "markdown",
      "metadata": {
        "id": "A1eaRA1fD2PW"
      },
      "source": [
        "# <font color='purple'> Comparação de Máquinas Preditivas - Com ou Sem validação Cruzada </font>\n",
        "![](https://images.squarespace-cdn.com/content/v1/5feb53185d3dab691b47361b/1609930650139-9NRI63XUJ29Y7E9LEA9G/12eca-machine-learning.gif)"
      ]
    },
    {
      "cell_type": "markdown",
      "metadata": {
        "id": "YPg-Mplj0enh"
      },
      "source": [
        "# 1° Importação de Pacotes"
      ]
    },
    {
      "cell_type": "code",
      "metadata": {
        "id": "ULGNjIqgeZRD"
      },
      "source": [
        "# Comparação de vários algoritmos com e sem validação cruzada\n",
        "from pandas import read_csv\n",
        "from matplotlib import pyplot\n",
        "from sklearn.model_selection import train_test_split\n",
        "from sklearn.model_selection import cross_val_score #avalidação da máquina preditiva com validação cruzada\n",
        "from sklearn.model_selection import StratifiedKFold #função para fatiar o dataset com validação cruzada\n",
        "from sklearn.linear_model import LogisticRegression\n",
        "from sklearn.tree import DecisionTreeClassifier\n",
        "from sklearn.neighbors import KNeighborsClassifier\n",
        "from sklearn.discriminant_analysis import LinearDiscriminantAnalysis\n",
        "from sklearn.naive_bayes import GaussianNB\n",
        "from sklearn.svm import SVC\n",
        "from sklearn.ensemble import GradientBoostingClassifier\n",
        "from sklearn.ensemble import ExtraTreesClassifier\n",
        "from sklearn.ensemble import RandomForestClassifier\n",
        "from xgboost import XGBClassifier"
      ],
      "execution_count": 1,
      "outputs": []
    },
    {
      "cell_type": "code",
      "metadata": {
        "id": "kntXujaAFKpG"
      },
      "source": [
        "import warnings\n",
        "warnings.filterwarnings(\"ignore\")"
      ],
      "execution_count": 2,
      "outputs": []
    },
    {
      "cell_type": "code",
      "metadata": {
        "id": "NMoDNc-yD4ox"
      },
      "source": [
        "# Load dataset\n",
        "url = \"https://raw.githubusercontent.com/jbrownlee/Datasets/master/iris.csv\"\n",
        "cabeçalho = ['sepal-length', 'sepal-width', 'petal-length', 'petal-width', 'class']\n",
        "dataset = read_csv(url, names=cabeçalho)"
      ],
      "execution_count": 3,
      "outputs": []
    },
    {
      "cell_type": "code",
      "metadata": {
        "id": "ODyQ-8oGDM2i",
        "colab": {
          "base_uri": "https://localhost:8080/"
        },
        "outputId": "ac1c1ed5-5044-4ebe-c91e-57e870f03ddc"
      },
      "source": [
        "# shape\n",
        "print(dataset.shape)"
      ],
      "execution_count": 8,
      "outputs": [
        {
          "output_type": "stream",
          "name": "stdout",
          "text": [
            "(150, 5)\n"
          ]
        }
      ]
    },
    {
      "cell_type": "code",
      "metadata": {
        "id": "8rcQaspZDVLH",
        "colab": {
          "base_uri": "https://localhost:8080/"
        },
        "outputId": "b4c242aa-d145-4434-ef69-4c0d33e40cfb"
      },
      "source": [
        "# head\n",
        "print(dataset.head(25))"
      ],
      "execution_count": 9,
      "outputs": [
        {
          "output_type": "stream",
          "name": "stdout",
          "text": [
            "    sepal-length  sepal-width  petal-length  petal-width        class\n",
            "0            5.1          3.5           1.4          0.2  Iris-setosa\n",
            "1            4.9          3.0           1.4          0.2  Iris-setosa\n",
            "2            4.7          3.2           1.3          0.2  Iris-setosa\n",
            "3            4.6          3.1           1.5          0.2  Iris-setosa\n",
            "4            5.0          3.6           1.4          0.2  Iris-setosa\n",
            "5            5.4          3.9           1.7          0.4  Iris-setosa\n",
            "6            4.6          3.4           1.4          0.3  Iris-setosa\n",
            "7            5.0          3.4           1.5          0.2  Iris-setosa\n",
            "8            4.4          2.9           1.4          0.2  Iris-setosa\n",
            "9            4.9          3.1           1.5          0.1  Iris-setosa\n",
            "10           5.4          3.7           1.5          0.2  Iris-setosa\n",
            "11           4.8          3.4           1.6          0.2  Iris-setosa\n",
            "12           4.8          3.0           1.4          0.1  Iris-setosa\n",
            "13           4.3          3.0           1.1          0.1  Iris-setosa\n",
            "14           5.8          4.0           1.2          0.2  Iris-setosa\n",
            "15           5.7          4.4           1.5          0.4  Iris-setosa\n",
            "16           5.4          3.9           1.3          0.4  Iris-setosa\n",
            "17           5.1          3.5           1.4          0.3  Iris-setosa\n",
            "18           5.7          3.8           1.7          0.3  Iris-setosa\n",
            "19           5.1          3.8           1.5          0.3  Iris-setosa\n",
            "20           5.4          3.4           1.7          0.2  Iris-setosa\n",
            "21           5.1          3.7           1.5          0.4  Iris-setosa\n",
            "22           4.6          3.6           1.0          0.2  Iris-setosa\n",
            "23           5.1          3.3           1.7          0.5  Iris-setosa\n",
            "24           4.8          3.4           1.9          0.2  Iris-setosa\n"
          ]
        }
      ]
    },
    {
      "cell_type": "code",
      "metadata": {
        "id": "FO4x2Z4VDXEx",
        "colab": {
          "base_uri": "https://localhost:8080/"
        },
        "outputId": "070e9570-abd5-4bd1-eb58-3dc02a65bcb9"
      },
      "source": [
        "# descriptions\n",
        "print(dataset.describe().T)"
      ],
      "execution_count": 10,
      "outputs": [
        {
          "output_type": "stream",
          "name": "stdout",
          "text": [
            "              count      mean       std  min  25%   50%  75%  max\n",
            "sepal-length  150.0  5.843333  0.828066  4.3  5.1  5.80  6.4  7.9\n",
            "sepal-width   150.0  3.054000  0.433594  2.0  2.8  3.00  3.3  4.4\n",
            "petal-length  150.0  3.758667  1.764420  1.0  1.6  4.35  5.1  6.9\n",
            "petal-width   150.0  1.198667  0.763161  0.1  0.3  1.30  1.8  2.5\n"
          ]
        }
      ]
    },
    {
      "cell_type": "code",
      "metadata": {
        "id": "dhD7vWcTDZ5E",
        "colab": {
          "base_uri": "https://localhost:8080/"
        },
        "outputId": "491e1d10-59b9-4fde-870c-4857eb104cd7"
      },
      "source": [
        "# class distribution\n",
        "print(dataset.groupby('class').size())"
      ],
      "execution_count": 16,
      "outputs": [
        {
          "output_type": "stream",
          "name": "stdout",
          "text": [
            "class\n",
            "Iris-setosa        50\n",
            "Iris-versicolor    50\n",
            "Iris-virginica     50\n",
            "dtype: int64\n"
          ]
        }
      ]
    },
    {
      "cell_type": "code",
      "metadata": {
        "id": "1O_t4p23DfJh",
        "colab": {
          "base_uri": "https://localhost:8080/",
          "height": 268
        },
        "outputId": "08c1778f-45fb-4010-e4d8-70e8d824ecf5"
      },
      "source": [
        "# box and whisker plots\n",
        "dataset.plot(kind='box', subplots=True, layout=(1,4), sharex=False, sharey=False)\n",
        "pyplot.show()"
      ],
      "execution_count": 34,
      "outputs": [
        {
          "output_type": "display_data",
          "data": {
            "text/plain": [
              "<Figure size 432x288 with 4 Axes>"
            ],
            "image/png": "[encoded data removed]"
          },
          "metadata": {
            "needs_background": "light"
          }
        }
      ]
    },
    {
      "cell_type": "code",
      "metadata": {
        "id": "2ryBDbRfDhOZ",
        "colab": {
          "base_uri": "https://localhost:8080/",
          "height": 281
        },
        "outputId": "c41d6671-c713-4be6-b17b-d3eabf931316"
      },
      "source": [
        "# histograms\n",
        "dataset.hist()\n",
        "pyplot.show()"
      ],
      "execution_count": 42,
      "outputs": [
        {
          "output_type": "display_data",
          "data": {
            "text/plain": [
              "<Figure size 432x288 with 4 Axes>"
            ],
            "image/png": "[encoded data removed]"
          },
          "metadata": {
            "needs_background": "light"
          }
        }
      ]
    },
    {
      "cell_type": "code",
      "metadata": {
        "id": "y6y-e9UoDmux"
      },
      "source": [
        "# Split-out validation dataset\n",
        "array = dataset.values\n",
        "X = array[:,0:4]\n",
        "y = array[:,4]\n",
        "\n",
        "#X_train, X_validation, Y_train, Y_validation = train_test_split(X, y, test_size=0.20, random_state=1)"
      ],
      "execution_count": 43,
      "outputs": []
    },
    {
      "cell_type": "code",
      "metadata": {
        "id": "1blWs8YJDprB"
      },
      "source": [
        "# Criar uma Lista de Algoritmos a serem utilizados\n",
        "models = []\n",
        "\n",
        "# Fazer um append (acrescentar) na lista 'models' \n",
        "models.append(('LR', LogisticRegression()))\n",
        "models.append(('LDA', LinearDiscriminantAnalysis()))\n",
        "models.append(('KNN', KNeighborsClassifier()))\n",
        "models.append(('CART', DecisionTreeClassifier()))\n",
        "models.append(('NB', GaussianNB()))\n",
        "models.append(('SVM', SVC(gamma='auto')))\n",
        "models.append(('DT', DecisionTreeClassifier()))\n",
        "models.append(('GBM', GradientBoostingClassifier()))\n",
        "models.append(('ET', ExtraTreesClassifier()))\n",
        "models.append(('RF', RandomForestClassifier()))\n",
        "models.append(('XGB', XGBClassifier()))\n"
      ],
      "execution_count": 46,
      "outputs": []
    },
    {
      "cell_type": "code",
      "source": [
        "models"
      ],
      "metadata": {
        "colab": {
          "base_uri": "https://localhost:8080/"
        },
        "id": "wA1wIS422y8f",
        "outputId": "0fb9b497-5c40-4afd-b87b-e40177fd26d1"
      },
      "execution_count": 47,
      "outputs": [
        {
          "output_type": "execute_result",
          "data": {
            "text/plain": [
              "[('LR', LogisticRegression()),\n",
              " ('LDA', LinearDiscriminantAnalysis()),\n",
              " ('KNN', KNeighborsClassifier()),\n",
              " ('CART', DecisionTreeClassifier()),\n",
              " ('NB', GaussianNB()),\n",
              " ('SVM', SVC(gamma='auto')),\n",
              " ('DT', DecisionTreeClassifier()),\n",
              " ('GBM', GradientBoostingClassifier()),\n",
              " ('ET', ExtraTreesClassifier()),\n",
              " ('RF', RandomForestClassifier()),\n",
              " ('XGB', XGBClassifier())]"
            ]
          },
          "metadata": {},
          "execution_count": 47
        }
      ]
    },
    {
      "cell_type": "code",
      "metadata": {
        "id": "RGB9T-v8G7Ex"
      },
      "source": [
        "# Make predictions on validation dataset\n",
        "#model = SVC(gamma='auto')\n",
        "#model.fit(X_train, Y_train)\n",
        "#predictions = model.predict(X_validation)"
      ],
      "execution_count": null,
      "outputs": []
    },
    {
      "cell_type": "code",
      "metadata": {
        "id": "W37hPDH7HdLT"
      },
      "source": [
        "# Evaluate predictions\n",
        "#print(accuracy_score(Y_validation, predictions))\n",
        "#print(confusion_matrix(Y_validation, predictions))\n",
        "#print(classification_report(Y_validation, predictions))"
      ],
      "execution_count": null,
      "outputs": []
    },
    {
      "cell_type": "code",
      "metadata": {
        "id": "WrfaJ4ikFdRb",
        "colab": {
          "base_uri": "https://localhost:8080/"
        },
        "outputId": "c8ee6b1d-fde7-403b-a50c-1caa0933b32f"
      },
      "source": [
        "\n",
        "# evaluate each model in turn\n",
        "names = []\n",
        "resultado = []\n",
        "\n",
        "for name, model in models:\n",
        "\n",
        "\tkfold = StratifiedKFold(n_splits=10, random_state=1, shuffle=True)\n",
        " \n",
        "\tcv_results = cross_val_score(model, X, y, cv=kfold, scoring='accuracy')\n",
        " \n",
        "\tresultado.append(cv_results)\n",
        " \n",
        "\tnames.append(name)\n",
        " \n",
        "\tprint('%s: %f (%f)' % (name, cv_results.mean()*100, cv_results.std()*100))\n",
        " \n"
      ],
      "execution_count": 52,
      "outputs": [
        {
          "output_type": "stream",
          "name": "stdout",
          "text": [
            "LR: 96.000000 (4.422166)\n",
            "LDA: 98.000000 (3.055050)\n",
            "KNN: 96.666667 (3.333333)\n",
            "CART: 94.666667 (6.531973)\n",
            "NB: 96.000000 (4.422166)\n",
            "SVM: 97.333333 (3.265986)\n",
            "DT: 94.666667 (6.531973)\n",
            "GBM: 95.333333 (5.206833)\n",
            "ET: 95.333333 (5.206833)\n",
            "RF: 94.000000 (6.960204)\n",
            "XGB: 94.666667 (4.988877)\n"
          ]
        }
      ]
    },
    {
      "cell_type": "code",
      "metadata": {
        "id": "rtFf0QgJeKQa",
        "colab": {
          "base_uri": "https://localhost:8080/"
        },
        "outputId": "0e2e210e-dcf1-489c-b2c8-292b486aa8bc"
      },
      "source": [
        "# make predictions\n",
        "from pandas import read_csv\n",
        "from sklearn.model_selection import train_test_split\n",
        "from sklearn.metrics import classification_report\n",
        "from sklearn.metrics import confusion_matrix\n",
        "from sklearn.metrics import accuracy_score\n",
        "from sklearn.svm import SVC\n",
        "from sklearn.discriminant_analysis import LinearDiscriminantAnalysis\n",
        "# Load dataset\n",
        "url = \"https://raw.githubusercontent.com/jbrownlee/Datasets/master/iris.csv\"\n",
        "names = ['sepal-length', 'sepal-width', 'petal-length', 'petal-width', 'class']\n",
        "dataset = read_csv(url, names=names)\n",
        "# Split-out validation dataset\n",
        "array = dataset.values\n",
        "X = array[:,0:4]\n",
        "y = array[:,4]\n",
        "X_train, X_test, Y_train, Y_test = train_test_split(X, y, test_size=0.20, random_state=1)\n",
        "# Make predictions on validation dataset\n",
        "#model = SVC(gamma='auto')\n",
        "model = LinearDiscriminantAnalysis()\n",
        "model.fit(X_train, Y_train)\n",
        "predictions = model.predict(X_test)\n",
        "# Evaluate predictions\n",
        "print(accuracy_score(Y_test, predictions))\n",
        "print(confusion_matrix(Y_test, predictions))\n",
        "print(classification_report(Y_test, predictions))"
      ],
      "execution_count": 57,
      "outputs": [
        {
          "output_type": "stream",
          "name": "stdout",
          "text": [
            "1.0\n",
            "[[11  0  0]\n",
            " [ 0 13  0]\n",
            " [ 0  0  6]]\n",
            "                 precision    recall  f1-score   support\n",
            "\n",
            "    Iris-setosa       1.00      1.00      1.00        11\n",
            "Iris-versicolor       1.00      1.00      1.00        13\n",
            " Iris-virginica       1.00      1.00      1.00         6\n",
            "\n",
            "       accuracy                           1.00        30\n",
            "      macro avg       1.00      1.00      1.00        30\n",
            "   weighted avg       1.00      1.00      1.00        30\n",
            "\n"
          ]
        }
      ]
    }
  ]
}