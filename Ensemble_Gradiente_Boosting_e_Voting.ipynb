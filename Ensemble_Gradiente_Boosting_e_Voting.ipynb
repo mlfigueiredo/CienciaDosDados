{
  "nbformat": 4,
  "nbformat_minor": 0,
  "metadata": {
    "anaconda-cloud": {},
    "kernelspec": {
      "display_name": "Python 3",
      "language": "python",
      "name": "python3"
    },
    "language_info": {
      "codemirror_mode": {
        "name": "ipython",
        "version": 3
      },
      "file_extension": ".py",
      "mimetype": "text/x-python",
      "name": "python",
      "nbconvert_exporter": "python",
      "pygments_lexer": "ipython3",
      "version": "3.7.3"
    },
    "colab": {
      "name": "Ensemble_Gradiente_Boosting_e_Voting.ipynb",
      "provenance": [],
      "collapsed_sections": [
        "xyeC6YKPoLIZ",
        "A0_dop46r3-n",
        "HZ4uR9bnpRfs"
      ],
      "include_colab_link": true
    }
  },
  "cells": [
    {
      "cell_type": "markdown",
      "metadata": {
        "id": "view-in-github",
        "colab_type": "text"
      },
      "source": [
        "<a href=\"https://colab.research.google.com/github/mlfigueiredo/CienciaDosDados/blob/main/Ensemble_Gradiente_Boosting_e_Voting.ipynb\" target=\"_parent\"><img src=\"https://colab.research.google.com/assets/colab-badge.svg\" alt=\"Open In Colab\"/></a>"
      ]
    },
    {
      "cell_type": "markdown",
      "metadata": {
        "id": "2zwPzoYb3gM2"
      },
      "source": [
        "## Definição do Problema de Negócio"
      ]
    },
    {
      "cell_type": "markdown",
      "metadata": {
        "id": "TYkhCIw93gM3"
      },
      "source": [
        "Vamos criar um modelo preditivo que seja capaz de prever se uma pessoa pode ou não desenvolver diabetes. Para isso, usaremos dados históricos de pacientes, disponíveis no dataset abaixo."
      ]
    },
    {
      "cell_type": "markdown",
      "metadata": {
        "id": "qTp8KkQB3gM4"
      },
      "source": [
        "Dataset: Pima Indians Diabetes Data Set\n",
        "http://archive.ics.uci.edu/ml/datasets/diabetes"
      ]
    },
    {
      "cell_type": "markdown",
      "metadata": {
        "id": "AN0f6c3w3gM5"
      },
      "source": [
        "Este dataset descreve os registros médicos entre pacientes do Pima Inidians e cada registro está marcado se o paciente desenvolveu ou não diabetes. "
      ]
    },
    {
      "cell_type": "markdown",
      "metadata": {
        "id": "RFVmaiI73gM5"
      },
      "source": [
        "### Informações sobre os atributos:\n",
        "\n",
        "1. Number of times pregnant \n",
        "2. Plasma glucose concentration a 2 hours in an oral glucose tolerance test \n",
        "3. Diastolic blood pressure (mm Hg) \n",
        "4. Triceps skin fold thickness (mm) \n",
        "5. 2-Hour serum insulin (mu U/ml) \n",
        "6. Body mass index (weight in kg/(height in m)^2) \n",
        "7. Diabetes pedigree function \n",
        "8. Age (years) \n",
        "9. Class variable (0 or 1) "
      ]
    },
    {
      "cell_type": "markdown",
      "metadata": {
        "id": "yOV_kDhZ3gQj"
      },
      "source": [
        "# Tipos de Métodos Ensemble"
      ]
    },
    {
      "cell_type": "markdown",
      "metadata": {
        "id": "vN_M0VDx3gQj"
      },
      "source": [
        "Métodos Ensemble permitem aumentar consideravelmente o nível de precisão nas suas previsões. Veremos como criar alguns dos Métodos Ensemble mais poderosos em Python. Existem 3 métodos principais para combinar previsões a partir de diferentes modelos:"
      ]
    },
    {
      "cell_type": "markdown",
      "metadata": {
        "id": "1GxbiLMi3gQj"
      },
      "source": [
        "**Bagging** - Para construção de múltiplos modelos (normalmente do mesmo tipo) a partir de diferentes subsets no dataset de treino."
      ]
    },
    {
      "cell_type": "markdown",
      "metadata": {
        "id": "5ublYoS23gQk"
      },
      "source": [
        "**Boosting** - Para construção de múltiplos modelos (normalmente do mesmo tipo), onde cada modelo aprende a corrigir os erros gerados pelo modelo anterior, dentro da sequência de modelos criados."
      ]
    },
    {
      "cell_type": "markdown",
      "metadata": {
        "id": "_Ola1BYQ3gQk"
      },
      "source": [
        "**Voting** - Para construção de múltiplos modelos (normalmente de tipos diferentes) e estatísticas simples (como a média) são usadas para combinar as previsões."
      ]
    },
    {
      "cell_type": "markdown",
      "metadata": {
        "id": "xyeC6YKPoLIZ"
      },
      "source": [
        "### Modelo Baseline - Naive Bayes"
      ]
    },
    {
      "cell_type": "markdown",
      "metadata": {
        "id": "BxynPuaPoLIh"
      },
      "source": [
        "Algoritmo Não-Linear. Calcula a Probabilidade de cada classe e a probabilidade condicional de cada classe dado uma variável de entrada. As probabilidades são então estimadas para os novos dados e multiplicadas, assumindo que são independentes (suposição simples ou Naive). Assume dados em distirbuição Gaussiana (Normal)"
      ]
    },
    {
      "cell_type": "code",
      "metadata": {
        "id": "x7w1wQfLoLIl",
        "colab": {
          "base_uri": "https://localhost:8080/"
        },
        "outputId": "4df18308-64db-4d1d-a1bd-14fb1b5e8c8b"
      },
      "source": [
        "from pandas import read_csv\n",
        "from sklearn.model_selection import KFold\n",
        "from sklearn.model_selection import cross_val_score\n",
        "from sklearn.naive_bayes import GaussianNB\n",
        "\n",
        "# Carregando os dados\n",
        "arquivo = '/content/pima-indians-diabetes.csv'\n",
        "colunas = ['preg', 'plas', 'pres', 'skin', 'test', 'mass', 'pedi', 'age', 'class']\n",
        "dados = read_csv(arquivo, names = colunas)\n",
        "array = dados.values\n",
        "\n",
        "# Separando o array em componentes de input e output\n",
        "X = array[:,0:8]\n",
        "Y = array[:,8]\n",
        "\n",
        "# Definindo os valores para o número de folds\n",
        "num_folds = 10\n",
        "\n",
        "# Separando os dados em folds\n",
        "kfold = KFold(num_folds)\n",
        "\n",
        "# Criando o modelo\n",
        "modelo = GaussianNB()\n",
        "\n",
        "# Cross Validation\n",
        "resultado = cross_val_score(modelo, X, Y, cv = kfold)\n",
        "\n",
        "# Print do resultado\n",
        "print(\"Acurácia: %.3f\" % (resultado.mean() * 100))"
      ],
      "execution_count": 11,
      "outputs": [
        {
          "output_type": "stream",
          "name": "stdout",
          "text": [
            "Acurácia: 75.518\n"
          ]
        }
      ]
    },
    {
      "cell_type": "markdown",
      "metadata": {
        "id": "A0_dop46r3-n"
      },
      "source": [
        "### Gradient Boosting"
      ]
    },
    {
      "cell_type": "markdown",
      "metadata": {
        "id": "CXD0GmSqr3-r"
      },
      "source": [
        "Também chamado Stochastic Gradient Boosting, é um dos métodos Ensemble mais sofisticados."
      ]
    },
    {
      "cell_type": "code",
      "metadata": {
        "id": "qvbB_gV6r3-u",
        "colab": {
          "base_uri": "https://localhost:8080/"
        },
        "outputId": "669e699b-996d-4508-c9f9-ba0d9b1fd1ce"
      },
      "source": [
        "from sklearn.ensemble import GradientBoostingClassifier\n",
        "\n",
        "# Definindo o número de trees\n",
        "num_trees = 100\n",
        "\n",
        "# Separando os dados em folds\n",
        "kfold = KFold(num_folds)\n",
        "\n",
        "# Criando o modelo\n",
        "modelo = GradientBoostingClassifier(n_estimators = num_trees)\n",
        "\n",
        "# Cross Validation\n",
        "resultado = cross_val_score(modelo, X, Y, cv = kfold)\n",
        "\n",
        "# Print do resultado\n",
        "print(\"Acurácia: %.3f\" % (resultado.mean() * 100))"
      ],
      "execution_count": 14,
      "outputs": [
        {
          "output_type": "stream",
          "name": "stdout",
          "text": [
            "Acurácia: 76.560\n"
          ]
        }
      ]
    },
    {
      "cell_type": "markdown",
      "metadata": {
        "id": "HZ4uR9bnpRfs"
      },
      "source": [
        "### Voting Ensemble"
      ]
    },
    {
      "cell_type": "markdown",
      "metadata": {
        "id": "uV3jX0unpRfz"
      },
      "source": [
        "Este é um dos métodos Ensemble mais simples. Este método cria dois ou mais modelos separados a partir do dataset de treino. O Classificador Voting então utiliza a média das previsões de cada sub-modelo para fazer as previsões em novos conjuntos de dados. As previsões de cada sub-modelo podem receber pesos, através de parâmetros definidos manualmente ou através de heurística. "
      ]
    },
    {
      "cell_type": "code",
      "metadata": {
        "id": "AO89hJVkpRf1",
        "colab": {
          "base_uri": "https://localhost:8080/"
        },
        "outputId": "22914174-5ccf-4707-dcf2-b8ed30cca6f0"
      },
      "source": [
        "from sklearn.linear_model import LogisticRegression\n",
        "from sklearn.tree import DecisionTreeClassifier\n",
        "from sklearn.svm import SVC\n",
        "from sklearn.ensemble import VotingClassifier\n",
        "import warnings\n",
        "warnings.filterwarnings('ignore')\n",
        "\n",
        "# Separando os dados em folds\n",
        "kfold = KFold(num_folds)\n",
        "\n",
        "# Criando os modelos\n",
        "estimators = []\n",
        "\n",
        "modelo1 = LogisticRegression()\n",
        "estimators.append(('logistic', modelo1))\n",
        "\n",
        "modelo2 = DecisionTreeClassifier()\n",
        "estimators.append(('TreeClassifier', modelo2))\n",
        "\n",
        "modelo3 = SVC()\n",
        "estimators.append(('SVC', modelo3))\n",
        "\n",
        "# Criando o modelo ensemble\n",
        "ensemble = VotingClassifier(estimators)\n",
        "\n",
        "# Cross Validation\n",
        "resultado = cross_val_score(ensemble, X, Y, cv = kfold)\n",
        "\n",
        "# Resultado\n",
        "print(\"Acurácia: %.3f\" % (resultado.mean() * 100))"
      ],
      "execution_count": 17,
      "outputs": [
        {
          "output_type": "stream",
          "name": "stdout",
          "text": [
            "Acurácia: 76.688\n"
          ]
        }
      ]
    }
  ]
}