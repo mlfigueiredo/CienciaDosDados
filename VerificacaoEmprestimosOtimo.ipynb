{
  "cells": [
    {
      "cell_type": "markdown",
      "metadata": {
        "id": "view-in-github",
        "colab_type": "text"
      },
      "source": [
        "<a href=\"https://colab.research.google.com/github/mlfigueiredo/CienciaDosDados/blob/main/VerificacaoEmprestimosOtimo.ipynb\" target=\"_parent\"><img src=\"https://colab.research.google.com/assets/colab-badge.svg\" alt=\"Open In Colab\"/></a>"
      ]
    },
    {
      "cell_type": "code",
      "source": [
        "import pandas as pd\n",
        "import seaborn as sns\n",
        "import warnings\n",
        "warnings.filterwarnings(\"ignore\")"
      ],
      "metadata": {
        "id": "GPvIDdM_TaYL"
      },
      "execution_count": 31,
      "outputs": []
    },
    {
      "cell_type": "code",
      "source": [
        "clientes=pd.read_csv('/content/clientes.csv')"
      ],
      "metadata": {
        "id": "R5rzEWxdTa36"
      },
      "execution_count": 32,
      "outputs": []
    },
    {
      "cell_type": "code",
      "source": [
        "clientes.head(10)"
      ],
      "metadata": {
        "id": "xctJU0LwTa60",
        "outputId": "d964756d-217b-4e32-ed1d-15c3f31de6de",
        "colab": {
          "base_uri": "https://localhost:8080/",
          "height": 364
        }
      },
      "execution_count": 33,
      "outputs": [
        {
          "output_type": "execute_result",
          "data": {
            "text/plain": [
              "  cod_cliente  sexo estado_civil dependentes      educacao empregado  renda  \\\n",
              "0    LP001002  Male           No           0      Graduate        No   5849   \n",
              "1    LP001003  Male          Yes           1      Graduate        No   4583   \n",
              "2    LP001005  Male          Yes           0      Graduate       Yes   3000   \n",
              "3    LP001006  Male          Yes           0  Not Graduate        No   2583   \n",
              "4    LP001008  Male           No           0      Graduate        No   6000   \n",
              "5    LP001011  Male          Yes           2      Graduate       Yes   5417   \n",
              "6    LP001013  Male          Yes           0  Not Graduate        No   2333   \n",
              "7    LP001014  Male          Yes          3+      Graduate        No   3036   \n",
              "8    LP001018  Male          Yes           2      Graduate        No   4006   \n",
              "9    LP001020  Male          Yes           1      Graduate        No  12841   \n",
              "\n",
              "  renda_conjuge  emprestimo  prestacao_mensal  historico_credito     imovel  \\\n",
              "0             0         NaN             360.0                1.0      Urban   \n",
              "1          1508       128.0             360.0                1.0      Rural   \n",
              "2             0        66.0             360.0                1.0      Urban   \n",
              "3          2358       120.0             360.0                1.0      Urban   \n",
              "4             0       141.0             360.0                1.0      Urban   \n",
              "5          4196       267.0             360.0                1.0      Urban   \n",
              "6          1516        95.0             360.0                1.0      Urban   \n",
              "7          2504       158.0             360.0                0.0  Semiurban   \n",
              "8          1526       168.0             360.0                1.0      Urban   \n",
              "9         10968       349.0             360.0                1.0  Semiurban   \n",
              "\n",
              "  aprovacao_emprestimo  \n",
              "0                    Y  \n",
              "1                    N  \n",
              "2                    Y  \n",
              "3                    Y  \n",
              "4                    Y  \n",
              "5                    Y  \n",
              "6                    Y  \n",
              "7                    N  \n",
              "8                    Y  \n",
              "9                    N  "
            ],
            "text/html": [
              "\n",
              "  <div id=\"df-438b46b8-d4b2-45a1-a343-b04fda61124a\">\n",
              "    <div class=\"colab-df-container\">\n",
              "      <div>\n",
              "<style scoped>\n",
              "    .dataframe tbody tr th:only-of-type {\n",
              "        vertical-align: middle;\n",
              "    }\n",
              "\n",
              "    .dataframe tbody tr th {\n",
              "        vertical-align: top;\n",
              "    }\n",
              "\n",
              "    .dataframe thead th {\n",
              "        text-align: right;\n",
              "    }\n",
              "</style>\n",
              "<table border=\"1\" class=\"dataframe\">\n",
              "  <thead>\n",
              "    <tr style=\"text-align: right;\">\n",
              "      <th></th>\n",
              "      <th>cod_cliente</th>\n",
              "      <th>sexo</th>\n",
              "      <th>estado_civil</th>\n",
              "      <th>dependentes</th>\n",
              "      <th>educacao</th>\n",
              "      <th>empregado</th>\n",
              "      <th>renda</th>\n",
              "      <th>renda_conjuge</th>\n",
              "      <th>emprestimo</th>\n",
              "      <th>prestacao_mensal</th>\n",
              "      <th>historico_credito</th>\n",
              "      <th>imovel</th>\n",
              "      <th>aprovacao_emprestimo</th>\n",
              "    </tr>\n",
              "  </thead>\n",
              "  <tbody>\n",
              "    <tr>\n",
              "      <th>0</th>\n",
              "      <td>LP001002</td>\n",
              "      <td>Male</td>\n",
              "      <td>No</td>\n",
              "      <td>0</td>\n",
              "      <td>Graduate</td>\n",
              "      <td>No</td>\n",
              "      <td>5849</td>\n",
              "      <td>0</td>\n",
              "      <td>NaN</td>\n",
              "      <td>360.0</td>\n",
              "      <td>1.0</td>\n",
              "      <td>Urban</td>\n",
              "      <td>Y</td>\n",
              "    </tr>\n",
              "    <tr>\n",
              "      <th>1</th>\n",
              "      <td>LP001003</td>\n",
              "      <td>Male</td>\n",
              "      <td>Yes</td>\n",
              "      <td>1</td>\n",
              "      <td>Graduate</td>\n",
              "      <td>No</td>\n",
              "      <td>4583</td>\n",
              "      <td>1508</td>\n",
              "      <td>128.0</td>\n",
              "      <td>360.0</td>\n",
              "      <td>1.0</td>\n",
              "      <td>Rural</td>\n",
              "      <td>N</td>\n",
              "    </tr>\n",
              "    <tr>\n",
              "      <th>2</th>\n",
              "      <td>LP001005</td>\n",
              "      <td>Male</td>\n",
              "      <td>Yes</td>\n",
              "      <td>0</td>\n",
              "      <td>Graduate</td>\n",
              "      <td>Yes</td>\n",
              "      <td>3000</td>\n",
              "      <td>0</td>\n",
              "      <td>66.0</td>\n",
              "      <td>360.0</td>\n",
              "      <td>1.0</td>\n",
              "      <td>Urban</td>\n",
              "      <td>Y</td>\n",
              "    </tr>\n",
              "    <tr>\n",
              "      <th>3</th>\n",
              "      <td>LP001006</td>\n",
              "      <td>Male</td>\n",
              "      <td>Yes</td>\n",
              "      <td>0</td>\n",
              "      <td>Not Graduate</td>\n",
              "      <td>No</td>\n",
              "      <td>2583</td>\n",
              "      <td>2358</td>\n",
              "      <td>120.0</td>\n",
              "      <td>360.0</td>\n",
              "      <td>1.0</td>\n",
              "      <td>Urban</td>\n",
              "      <td>Y</td>\n",
              "    </tr>\n",
              "    <tr>\n",
              "      <th>4</th>\n",
              "      <td>LP001008</td>\n",
              "      <td>Male</td>\n",
              "      <td>No</td>\n",
              "      <td>0</td>\n",
              "      <td>Graduate</td>\n",
              "      <td>No</td>\n",
              "      <td>6000</td>\n",
              "      <td>0</td>\n",
              "      <td>141.0</td>\n",
              "      <td>360.0</td>\n",
              "      <td>1.0</td>\n",
              "      <td>Urban</td>\n",
              "      <td>Y</td>\n",
              "    </tr>\n",
              "    <tr>\n",
              "      <th>5</th>\n",
              "      <td>LP001011</td>\n",
              "      <td>Male</td>\n",
              "      <td>Yes</td>\n",
              "      <td>2</td>\n",
              "      <td>Graduate</td>\n",
              "      <td>Yes</td>\n",
              "      <td>5417</td>\n",
              "      <td>4196</td>\n",
              "      <td>267.0</td>\n",
              "      <td>360.0</td>\n",
              "      <td>1.0</td>\n",
              "      <td>Urban</td>\n",
              "      <td>Y</td>\n",
              "    </tr>\n",
              "    <tr>\n",
              "      <th>6</th>\n",
              "      <td>LP001013</td>\n",
              "      <td>Male</td>\n",
              "      <td>Yes</td>\n",
              "      <td>0</td>\n",
              "      <td>Not Graduate</td>\n",
              "      <td>No</td>\n",
              "      <td>2333</td>\n",
              "      <td>1516</td>\n",
              "      <td>95.0</td>\n",
              "      <td>360.0</td>\n",
              "      <td>1.0</td>\n",
              "      <td>Urban</td>\n",
              "      <td>Y</td>\n",
              "    </tr>\n",
              "    <tr>\n",
              "      <th>7</th>\n",
              "      <td>LP001014</td>\n",
              "      <td>Male</td>\n",
              "      <td>Yes</td>\n",
              "      <td>3+</td>\n",
              "      <td>Graduate</td>\n",
              "      <td>No</td>\n",
              "      <td>3036</td>\n",
              "      <td>2504</td>\n",
              "      <td>158.0</td>\n",
              "      <td>360.0</td>\n",
              "      <td>0.0</td>\n",
              "      <td>Semiurban</td>\n",
              "      <td>N</td>\n",
              "    </tr>\n",
              "    <tr>\n",
              "      <th>8</th>\n",
              "      <td>LP001018</td>\n",
              "      <td>Male</td>\n",
              "      <td>Yes</td>\n",
              "      <td>2</td>\n",
              "      <td>Graduate</td>\n",
              "      <td>No</td>\n",
              "      <td>4006</td>\n",
              "      <td>1526</td>\n",
              "      <td>168.0</td>\n",
              "      <td>360.0</td>\n",
              "      <td>1.0</td>\n",
              "      <td>Urban</td>\n",
              "      <td>Y</td>\n",
              "    </tr>\n",
              "    <tr>\n",
              "      <th>9</th>\n",
              "      <td>LP001020</td>\n",
              "      <td>Male</td>\n",
              "      <td>Yes</td>\n",
              "      <td>1</td>\n",
              "      <td>Graduate</td>\n",
              "      <td>No</td>\n",
              "      <td>12841</td>\n",
              "      <td>10968</td>\n",
              "      <td>349.0</td>\n",
              "      <td>360.0</td>\n",
              "      <td>1.0</td>\n",
              "      <td>Semiurban</td>\n",
              "      <td>N</td>\n",
              "    </tr>\n",
              "  </tbody>\n",
              "</table>\n",
              "</div>\n",
              "      <button class=\"colab-df-convert\" onclick=\"convertToInteractive('df-438b46b8-d4b2-45a1-a343-b04fda61124a')\"\n",
              "              title=\"Convert this dataframe to an interactive table.\"\n",
              "              style=\"display:none;\">\n",
              "        \n",
              "  <svg xmlns=\"http://www.w3.org/2000/svg\" height=\"24px\"viewBox=\"0 0 24 24\"\n",
              "       width=\"24px\">\n",
              "    <path d=\"M0 0h24v24H0V0z\" fill=\"none\"/>\n",
              "    <path d=\"M18.56 5.44l.94 2.06.94-2.06 2.06-.94-2.06-.94-.94-2.06-.94 2.06-2.06.94zm-11 1L8.5 8.5l.94-2.06 2.06-.94-2.06-.94L8.5 2.5l-.94 2.06-2.06.94zm10 10l.94 2.06.94-2.06 2.06-.94-2.06-.94-.94-2.06-.94 2.06-2.06.94z\"/><path d=\"M17.41 7.96l-1.37-1.37c-.4-.4-.92-.59-1.43-.59-.52 0-1.04.2-1.43.59L10.3 9.45l-7.72 7.72c-.78.78-.78 2.05 0 2.83L4 21.41c.39.39.9.59 1.41.59.51 0 1.02-.2 1.41-.59l7.78-7.78 2.81-2.81c.8-.78.8-2.07 0-2.86zM5.41 20L4 18.59l7.72-7.72 1.47 1.35L5.41 20z\"/>\n",
              "  </svg>\n",
              "      </button>\n",
              "      \n",
              "  <style>\n",
              "    .colab-df-container {\n",
              "      display:flex;\n",
              "      flex-wrap:wrap;\n",
              "      gap: 12px;\n",
              "    }\n",
              "\n",
              "    .colab-df-convert {\n",
              "      background-color: #E8F0FE;\n",
              "      border: none;\n",
              "      border-radius: 50%;\n",
              "      cursor: pointer;\n",
              "      display: none;\n",
              "      fill: #1967D2;\n",
              "      height: 32px;\n",
              "      padding: 0 0 0 0;\n",
              "      width: 32px;\n",
              "    }\n",
              "\n",
              "    .colab-df-convert:hover {\n",
              "      background-color: #E2EBFA;\n",
              "      box-shadow: 0px 1px 2px rgba(60, 64, 67, 0.3), 0px 1px 3px 1px rgba(60, 64, 67, 0.15);\n",
              "      fill: #174EA6;\n",
              "    }\n",
              "\n",
              "    [theme=dark] .colab-df-convert {\n",
              "      background-color: #3B4455;\n",
              "      fill: #D2E3FC;\n",
              "    }\n",
              "\n",
              "    [theme=dark] .colab-df-convert:hover {\n",
              "      background-color: #434B5C;\n",
              "      box-shadow: 0px 1px 3px 1px rgba(0, 0, 0, 0.15);\n",
              "      filter: drop-shadow(0px 1px 2px rgba(0, 0, 0, 0.3));\n",
              "      fill: #FFFFFF;\n",
              "    }\n",
              "  </style>\n",
              "\n",
              "      <script>\n",
              "        const buttonEl =\n",
              "          document.querySelector('#df-438b46b8-d4b2-45a1-a343-b04fda61124a button.colab-df-convert');\n",
              "        buttonEl.style.display =\n",
              "          google.colab.kernel.accessAllowed ? 'block' : 'none';\n",
              "\n",
              "        async function convertToInteractive(key) {\n",
              "          const element = document.querySelector('#df-438b46b8-d4b2-45a1-a343-b04fda61124a');\n",
              "          const dataTable =\n",
              "            await google.colab.kernel.invokeFunction('convertToInteractive',\n",
              "                                                     [key], {});\n",
              "          if (!dataTable) return;\n",
              "\n",
              "          const docLinkHtml = 'Like what you see? Visit the ' +\n",
              "            '<a target=\"_blank\" href=https://colab.research.google.com/notebooks/data_table.ipynb>data table notebook</a>'\n",
              "            + ' to learn more about interactive tables.';\n",
              "          element.innerHTML = '';\n",
              "          dataTable['output_type'] = 'display_data';\n",
              "          await google.colab.output.renderOutput(dataTable, element);\n",
              "          const docLink = document.createElement('div');\n",
              "          docLink.innerHTML = docLinkHtml;\n",
              "          element.appendChild(docLink);\n",
              "        }\n",
              "      </script>\n",
              "    </div>\n",
              "  </div>\n",
              "  "
            ]
          },
          "metadata": {},
          "execution_count": 33
        }
      ]
    },
    {
      "cell_type": "code",
      "source": [
        "clientes.isnull().sum()"
      ],
      "metadata": {
        "id": "6rhJVHeXTbAD",
        "outputId": "c54c510a-b106-49c0-c291-34da4586d314",
        "colab": {
          "base_uri": "https://localhost:8080/"
        }
      },
      "execution_count": 34,
      "outputs": [
        {
          "output_type": "execute_result",
          "data": {
            "text/plain": [
              "cod_cliente              0\n",
              "sexo                    13\n",
              "estado_civil             3\n",
              "dependentes             15\n",
              "educacao                 0\n",
              "empregado               32\n",
              "renda                    0\n",
              "renda_conjuge            0\n",
              "emprestimo              22\n",
              "prestacao_mensal        14\n",
              "historico_credito       50\n",
              "imovel                   0\n",
              "aprovacao_emprestimo     0\n",
              "dtype: int64"
            ]
          },
          "metadata": {},
          "execution_count": 34
        }
      ]
    },
    {
      "cell_type": "code",
      "source": [
        "clientes.shape"
      ],
      "metadata": {
        "id": "2tXmEuerg0sA",
        "outputId": "8dfaa256-9a12-40d4-8d96-c6b2dcc14bda",
        "colab": {
          "base_uri": "https://localhost:8080/"
        }
      },
      "execution_count": 35,
      "outputs": [
        {
          "output_type": "execute_result",
          "data": {
            "text/plain": [
              "(614, 13)"
            ]
          },
          "metadata": {},
          "execution_count": 35
        }
      ]
    },
    {
      "cell_type": "code",
      "source": [
        "clientes.dropna(subset=['sexo', 'estado_civil', 'renda', 'emprestimo', 'historico_credito'], inplace=True)"
      ],
      "metadata": {
        "id": "l1IxI2_Yecob"
      },
      "execution_count": 36,
      "outputs": []
    },
    {
      "cell_type": "code",
      "source": [
        "clientes.shape"
      ],
      "metadata": {
        "id": "QyrwlQQrg6Cv",
        "outputId": "3af66e15-0866-40f9-dd6b-bc863395c278",
        "colab": {
          "base_uri": "https://localhost:8080/"
        }
      },
      "execution_count": 37,
      "outputs": [
        {
          "output_type": "execute_result",
          "data": {
            "text/plain": [
              "(529, 13)"
            ]
          },
          "metadata": {},
          "execution_count": 37
        }
      ]
    },
    {
      "cell_type": "code",
      "source": [
        "x_train.isnull().sum()"
      ],
      "metadata": {
        "id": "9IXZepHdZxVb",
        "outputId": "91a4df3c-b1af-4acb-a027-f87f9d2b0c3f",
        "colab": {
          "base_uri": "https://localhost:8080/"
        }
      },
      "execution_count": 38,
      "outputs": [
        {
          "output_type": "execute_result",
          "data": {
            "text/plain": [
              "sexo                 0\n",
              "estado_civil         0\n",
              "renda                0\n",
              "emprestimo           0\n",
              "historico_credito    0\n",
              "dtype: int64"
            ]
          },
          "metadata": {},
          "execution_count": 38
        }
      ]
    },
    {
      "cell_type": "code",
      "source": [
        "clientes['sexo']=clientes['sexo'].map({'Male':0, 'Female':1})\n",
        "clientes.estado_civil=clientes.estado_civil.map({'No':0, 'Yes':1})\n",
        "clientes.aprovacao_emprestimo=clientes.aprovacao_emprestimo.map({'N':0, 'Y':1})"
      ],
      "metadata": {
        "id": "AkN9Cl46Ta9h"
      },
      "execution_count": 39,
      "outputs": []
    },
    {
      "cell_type": "code",
      "source": [
        "x= clientes[['sexo', 'estado_civil', 'renda', 'emprestimo', 'historico_credito']]\n",
        "y= clientes.aprovacao_emprestimo"
      ],
      "metadata": {
        "id": "XdEcKaZSTbIV"
      },
      "execution_count": 40,
      "outputs": []
    },
    {
      "cell_type": "code",
      "source": [
        "from sklearn.model_selection import train_test_split\n",
        "x_train, x_test, y_train, y_test= train_test_split(x, y, test_size=0.2, random_state=7)"
      ],
      "metadata": {
        "id": "v0b7ieRJZxM2"
      },
      "execution_count": 41,
      "outputs": []
    },
    {
      "cell_type": "code",
      "source": [
        "from sklearn.ensemble import RandomForestClassifier\n",
        "from sklearn.metrics import accuracy_score"
      ],
      "metadata": {
        "id": "0_dX2rCRZxP2"
      },
      "execution_count": 42,
      "outputs": []
    },
    {
      "cell_type": "code",
      "source": [
        "maquina=RandomForestClassifier(max_depth=4, random_state=7)\n",
        "maquina.fit(x_train, y_train)"
      ],
      "metadata": {
        "id": "JD25gc8BZxSl",
        "outputId": "766507c2-c270-40b8-eda1-de375421c7ca",
        "colab": {
          "base_uri": "https://localhost:8080/"
        }
      },
      "execution_count": 43,
      "outputs": [
        {
          "output_type": "execute_result",
          "data": {
            "text/plain": [
              "RandomForestClassifier(max_depth=4, random_state=7)"
            ]
          },
          "metadata": {},
          "execution_count": 43
        }
      ]
    },
    {
      "cell_type": "code",
      "source": [
        "#salvamento da máquina preditiva\n",
        "import pickle\n",
        "pickle_out=open('maquina_preditiva.pkl', mode='wb')\n",
        "pickle.dump(maquina, pickle_out)\n",
        "pickle_out.close()"
      ],
      "metadata": {
        "id": "mfPrHi3hhU4-"
      },
      "execution_count": 44,
      "outputs": []
    },
    {
      "cell_type": "code",
      "source": [
        "#Instalação do pacote para conexão do nosso sistema na WEB\n",
        "!pip install -q pyngrok"
      ],
      "metadata": {
        "id": "zPYogujGnCML"
      },
      "execution_count": 45,
      "outputs": []
    },
    {
      "cell_type": "code",
      "source": [
        "!pip install -q streamlit\n",
        "!pip install -q streamlit_ace"
      ],
      "metadata": {
        "id": "uJehSo_inCOx",
        "outputId": "8ab227a8-f77a-42df-f8d4-0c9f21f40a5b",
        "colab": {
          "base_uri": "https://localhost:8080/"
        }
      },
      "execution_count": 20,
      "outputs": [
        {
          "output_type": "stream",
          "name": "stdout",
          "text": [
            "\u001b[2K     \u001b[90m━━━━━━━━━━━━━━━━━━━━━━━━━━━━━━━━━━━━━━━━\u001b[0m \u001b[32m9.3/9.3 MB\u001b[0m \u001b[31m38.3 MB/s\u001b[0m eta \u001b[36m0:00:00\u001b[0m\n",
            "\u001b[2K     \u001b[90m━━━━━━━━━━━━━━━━━━━━━━━━━━━━━━━━━━━━━━━━\u001b[0m \u001b[32m79.0/79.0 KB\u001b[0m \u001b[31m8.1 MB/s\u001b[0m eta \u001b[36m0:00:00\u001b[0m\n",
            "\u001b[?25h  Preparing metadata (setup.py) ... \u001b[?25l\u001b[?25hdone\n",
            "\u001b[2K     \u001b[90m━━━━━━━━━━━━━━━━━━━━━━━━━━━━━━━━━━━━━━\u001b[0m \u001b[32m184.0/184.0 KB\u001b[0m \u001b[31m13.7 MB/s\u001b[0m eta \u001b[36m0:00:00\u001b[0m\n",
            "\u001b[2K     \u001b[90m━━━━━━━━━━━━━━━━━━━━━━━━━━━━━━━━━━━━━━━━\u001b[0m \u001b[32m4.7/4.7 MB\u001b[0m \u001b[31m40.8 MB/s\u001b[0m eta \u001b[36m0:00:00\u001b[0m\n",
            "\u001b[2K     \u001b[90m━━━━━━━━━━━━━━━━━━━━━━━━━━━━━━━━━━━━━━\u001b[0m \u001b[32m164.8/164.8 KB\u001b[0m \u001b[31m13.8 MB/s\u001b[0m eta \u001b[36m0:00:00\u001b[0m\n",
            "\u001b[2K     \u001b[90m━━━━━━━━━━━━━━━━━━━━━━━━━━━━━━━━━━━━━━\u001b[0m \u001b[32m239.0/239.0 KB\u001b[0m \u001b[31m19.1 MB/s\u001b[0m eta \u001b[36m0:00:00\u001b[0m\n",
            "\u001b[2K     \u001b[90m━━━━━━━━━━━━━━━━━━━━━━━━━━━━━━━━━━━━━━━━\u001b[0m \u001b[32m62.7/62.7 KB\u001b[0m \u001b[31m6.2 MB/s\u001b[0m eta \u001b[36m0:00:00\u001b[0m\n",
            "\u001b[2K     \u001b[90m━━━━━━━━━━━━━━━━━━━━━━━━━━━━━━━━━━━━━━━━\u001b[0m \u001b[32m84.5/84.5 KB\u001b[0m \u001b[31m3.4 MB/s\u001b[0m eta \u001b[36m0:00:00\u001b[0m\n",
            "\u001b[2K     \u001b[90m━━━━━━━━━━━━━━━━━━━━━━━━━━━━━━━━━━━━━━━━\u001b[0m \u001b[32m1.1/1.1 MB\u001b[0m \u001b[31m50.2 MB/s\u001b[0m eta \u001b[36m0:00:00\u001b[0m\n",
            "\u001b[?25h  Building wheel for validators (setup.py) ... \u001b[?25l\u001b[?25hdone\n",
            "\u001b[31mERROR: pip's dependency resolver does not currently take into account all the packages that are installed. This behaviour is the source of the following dependency conflicts.\n",
            "ipython 7.9.0 requires jedi>=0.10, which is not installed.\u001b[0m\u001b[31m\n",
            "\u001b[2K     \u001b[90m━━━━━━━━━━━━━━━━━━━━━━━━━━━━━━━━━━━━━━━━\u001b[0m \u001b[32m3.6/3.6 MB\u001b[0m \u001b[31m24.6 MB/s\u001b[0m eta \u001b[36m0:00:00\u001b[0m\n",
            "\u001b[?25h"
          ]
        }
      ]
    },
    {
      "cell_type": "code",
      "source": [
        "#Comando para criar o sistema no arquivo app.py\n",
        "%%writefile app.py\n",
        "\n",
        "#importando pacotes\n",
        "import pickle\n",
        "import streamlit as st\n",
        "\n",
        "#carregando a máquina preditiva\n",
        "pickle_in= open('maquina_preditiva.pkl', 'rb')\n",
        "maquina= pickle.load(pickle_in)\n",
        "\n",
        "#manter a sessão em cache\n",
        "@st.cache()\n",
        "\n",
        "#criação da função que irá fazer a predição usando dados impostados pelo usuário no sistema\n",
        "def predict(sexo, estado_civil, renda, emprestimo, historico_credito):\n",
        "  if sexo=='Masculino':\n",
        "    sexo=0\n",
        "  else: \n",
        "    sexo=1\n",
        "\n",
        "  if estado_civil=='Solteiro(a)':\n",
        "    estado_civil=0\n",
        "  else:\n",
        "    estado_civil=1\n",
        "\n",
        "  emprestimo= emprestimo/1000\n",
        "\n",
        "  predicao= maquina.predict(\n",
        "      [[sexo, estado_civil, renda, emprestimo, historico_credito]])\n",
        "  \n",
        "  if prediction ==0:\n",
        "        pred='REJEITADO'\n",
        "  else:\n",
        "        pred='APROVADO'   \n"
      ],
      "metadata": {
        "id": "i437Kiq1nCRb",
        "outputId": "abbf1203-6ab7-46dc-dc43-e88aec719c59",
        "colab": {
          "base_uri": "https://localhost:8080/"
        }
      },
      "execution_count": 51,
      "outputs": [
        {
          "output_type": "stream",
          "name": "stdout",
          "text": [
            "Writing app.py\n"
          ]
        }
      ]
    },
    {
      "cell_type": "code",
      "source": [
        "#Criação da webpage\n",
        "def main():\n",
        "  html_temp=\"\"\"\n",
        "  <div style=\"background-color:blue, padding:13px\">\n",
        "  <h1 style=\"color:white;text-align:center;\">SAE</h1>\n",
        "  <h2 style=\"color:white;text-align:center,\">Sistema de aprovação de empréstimos</h2>\n",
        "  </div>\n",
        "  \"\"\"\n",
        "\n",
        "  #função streamlit que faz o display da webpage\n",
        "  st.markdown(html_temp, unsafe_allow_html=True)\n",
        "\n",
        "  sexo=st.selectbox('Sexo',('Masculino','Feminino'))\n",
        "  estado_civil=st.selectbox('Estado civil',('Solteiro(a)','Casado(a)'))\n",
        "  renda=st.number_input('Renda mensal')\n",
        "  emprestimo=st.number_input('Valor total do emprestimo')\n",
        "  historico_credito=st.selectbox('Histórico de créditos',(\"Sem débitos\", \"Débitos pendentes\"))\n",
        "  result=\"\"\n",
        "\n",
        "  if st.button('Verificar'):\n",
        "    result=predict(sexo, estado_civil, renda, emprestimo, historico_credito)\n",
        "    st.success('O empréstimo foi {}'.format(result))\n",
        "    print(emprestimo)\n",
        "\n",
        "if __name__=='__main__':\n",
        "  main()"
      ],
      "metadata": {
        "id": "xl22EqjNnCUK"
      },
      "execution_count": 58,
      "outputs": []
    },
    {
      "cell_type": "code",
      "source": [
        "#Execução do sistema\n",
        "!streamlit run app.py &>/dev/null&"
      ],
      "metadata": {
        "id": "f0rOtO6QhVEF"
      },
      "execution_count": 59,
      "outputs": []
    },
    {
      "cell_type": "code",
      "source": [
        "#Conexão do nosso sistema na web\n",
        "from pyngrok import ngrok"
      ],
      "metadata": {
        "id": "-l5-VRFVhVIQ"
      },
      "execution_count": 60,
      "outputs": []
    },
    {
      "cell_type": "code",
      "source": [
        "#Publica o sistema numa URL\n",
        "public_url=ngrok.connect('8501')"
      ],
      "metadata": {
        "id": "XRM0lZ3BcqOW",
        "outputId": "5c1d7eb5-eb21-4aaa-8e78-4ddbfdf75a76",
        "colab": {
          "base_uri": "https://localhost:8080/"
        }
      },
      "execution_count": 61,
      "outputs": [
        {
          "output_type": "stream",
          "name": "stderr",
          "text": [
            "INFO:pyngrok.ngrok:Opening tunnel named: http-8501-81c0cf74-de4d-4378-ae74-e2d8eb7600c2\n",
            "2023-01-30 02:13:34.985 Opening tunnel named: http-8501-81c0cf74-de4d-4378-ae74-e2d8eb7600c2\n"
          ]
        },
        {
          "output_type": "stream",
          "name": "stdout",
          "text": []
        },
        {
          "output_type": "stream",
          "name": "stderr",
          "text": [
            "INFO:pyngrok.process.ngrok:t=2023-01-30T02:13:35+0000 lvl=info msg=\"no configuration paths supplied\"\n",
            "2023-01-30 02:13:35.924 t=2023-01-30T02:13:35+0000 lvl=info msg=\"no configuration paths supplied\"\n",
            "INFO:pyngrok.process.ngrok:t=2023-01-30T02:13:35+0000 lvl=info msg=\"using configuration at default config path\" path=/root/.ngrok2/ngrok.yml\n",
            "2023-01-30 02:13:35.930 t=2023-01-30T02:13:35+0000 lvl=info msg=\"using configuration at default config path\" path=/root/.ngrok2/ngrok.yml\n",
            "INFO:pyngrok.process.ngrok:t=2023-01-30T02:13:35+0000 lvl=info msg=\"open config file\" path=/root/.ngrok2/ngrok.yml err=nil\n",
            "2023-01-30 02:13:35.934 t=2023-01-30T02:13:35+0000 lvl=info msg=\"open config file\" path=/root/.ngrok2/ngrok.yml err=nil\n",
            "INFO:pyngrok.process.ngrok:t=2023-01-30T02:13:35+0000 lvl=info msg=\"starting web service\" obj=web addr=127.0.0.1:4040\n",
            "2023-01-30 02:13:35.937 t=2023-01-30T02:13:35+0000 lvl=info msg=\"starting web service\" obj=web addr=127.0.0.1:4040\n",
            "INFO:pyngrok.process.ngrok:t=2023-01-30T02:13:36+0000 lvl=info msg=\"tunnel session started\" obj=tunnels.session\n",
            "2023-01-30 02:13:36.113 t=2023-01-30T02:13:36+0000 lvl=info msg=\"tunnel session started\" obj=tunnels.session\n",
            "INFO:pyngrok.process.ngrok:t=2023-01-30T02:13:36+0000 lvl=info msg=\"client session established\" obj=csess id=13ffdb301aca\n",
            "2023-01-30 02:13:36.120 t=2023-01-30T02:13:36+0000 lvl=info msg=\"client session established\" obj=csess id=13ffdb301aca\n",
            "INFO:pyngrok.process.ngrok:t=2023-01-30T02:13:36+0000 lvl=info msg=start pg=/api/tunnels id=94ef4d35ce65e4d9\n",
            "2023-01-30 02:13:36.137 t=2023-01-30T02:13:36+0000 lvl=info msg=start pg=/api/tunnels id=94ef4d35ce65e4d9\n",
            "INFO:pyngrok.process.ngrok:t=2023-01-30T02:13:36+0000 lvl=info msg=end pg=/api/tunnels id=94ef4d35ce65e4d9 status=200 dur=464.318µs\n",
            "2023-01-30 02:13:36.151 t=2023-01-30T02:13:36+0000 lvl=info msg=end pg=/api/tunnels id=94ef4d35ce65e4d9 status=200 dur=464.318µs\n",
            "INFO:pyngrok.process.ngrok:t=2023-01-30T02:13:36+0000 lvl=info msg=start pg=/api/tunnels id=07c9ebaf826f0118\n",
            "2023-01-30 02:13:36.160 t=2023-01-30T02:13:36+0000 lvl=info msg=start pg=/api/tunnels id=07c9ebaf826f0118\n",
            "INFO:pyngrok.process.ngrok:t=2023-01-30T02:13:36+0000 lvl=info msg=end pg=/api/tunnels id=07c9ebaf826f0118 status=200 dur=209.213µs\n",
            "2023-01-30 02:13:36.165 t=2023-01-30T02:13:36+0000 lvl=info msg=end pg=/api/tunnels id=07c9ebaf826f0118 status=200 dur=209.213µs\n",
            "INFO:pyngrok.process.ngrok:t=2023-01-30T02:13:36+0000 lvl=info msg=start pg=/api/tunnels id=f9cb91a53e4eee28\n",
            "2023-01-30 02:13:36.170 t=2023-01-30T02:13:36+0000 lvl=info msg=start pg=/api/tunnels id=f9cb91a53e4eee28\n",
            "INFO:pyngrok.process.ngrok:t=2023-01-30T02:13:36+0000 lvl=info msg=\"started tunnel\" obj=tunnels name=\"http-8501-81c0cf74-de4d-4378-ae74-e2d8eb7600c2 (http)\" addr=http://localhost:8501 url=http://c353-35-229-77-96.ngrok.io\n",
            "2023-01-30 02:13:36.226 t=2023-01-30T02:13:36+0000 lvl=info msg=\"started tunnel\" obj=tunnels name=\"http-8501-81c0cf74-de4d-4378-ae74-e2d8eb7600c2 (http)\" addr=http://localhost:8501 url=http://c353-35-229-77-96.ngrok.io\n",
            "INFO:pyngrok.process.ngrok:t=2023-01-30T02:13:36+0000 lvl=info msg=\"started tunnel\" obj=tunnels name=http-8501-81c0cf74-de4d-4378-ae74-e2d8eb7600c2 addr=http://localhost:8501 url=https://c353-35-229-77-96.ngrok.io\n",
            "2023-01-30 02:13:36.236 t=2023-01-30T02:13:36+0000 lvl=info msg=\"started tunnel\" obj=tunnels name=http-8501-81c0cf74-de4d-4378-ae74-e2d8eb7600c2 addr=http://localhost:8501 url=https://c353-35-229-77-96.ngrok.io\n",
            "INFO:pyngrok.process.ngrok:t=2023-01-30T02:13:36+0000 lvl=info msg=end pg=/api/tunnels id=f9cb91a53e4eee28 status=201 dur=81.57763ms\n",
            "2023-01-30 02:13:36.259 t=2023-01-30T02:13:36+0000 lvl=info msg=end pg=/api/tunnels id=f9cb91a53e4eee28 status=201 dur=81.57763ms\n",
            "INFO:pyngrok.process.ngrok:t=2023-01-30T02:13:36+0000 lvl=info msg=start pg=\"/api/tunnels/http-8501-81c0cf74-de4d-4378-ae74-e2d8eb7600c2 (http)\" id=858b7adf8b2c382f\n",
            "2023-01-30 02:13:36.269 t=2023-01-30T02:13:36+0000 lvl=info msg=start pg=\"/api/tunnels/http-8501-81c0cf74-de4d-4378-ae74-e2d8eb7600c2 (http)\" id=858b7adf8b2c382f\n",
            "INFO:pyngrok.process.ngrok:t=2023-01-30T02:13:36+0000 lvl=info msg=end pg=\"/api/tunnels/http-8501-81c0cf74-de4d-4378-ae74-e2d8eb7600c2 (http)\" id=858b7adf8b2c382f status=200 dur=206.56µs\n",
            "2023-01-30 02:13:36.285 t=2023-01-30T02:13:36+0000 lvl=info msg=end pg=\"/api/tunnels/http-8501-81c0cf74-de4d-4378-ae74-e2d8eb7600c2 (http)\" id=858b7adf8b2c382f status=200 dur=206.56µs\n"
          ]
        }
      ]
    },
    {
      "cell_type": "code",
      "source": [
        "#URL do sistema\n",
        "public_url"
      ],
      "metadata": {
        "id": "LE9z_dfBc89w",
        "outputId": "118f1a41-ab12-42d0-9b20-0d57f6a7b3ad",
        "colab": {
          "base_uri": "https://localhost:8080/"
        }
      },
      "execution_count": 62,
      "outputs": [
        {
          "output_type": "execute_result",
          "data": {
            "text/plain": [
              "<NgrokTunnel: \"http://c353-35-229-77-96.ngrok.io\" -> \"http://localhost:8501\">"
            ]
          },
          "metadata": {},
          "execution_count": 62
        }
      ]
    }
  ],
  "metadata": {
    "colab": {
      "name": "Markdown Guide",
      "provenance": [],
      "include_colab_link": true
    },
    "kernelspec": {
      "display_name": "Python 3",
      "name": "python3"
    }
  },
  "nbformat": 4,
  "nbformat_minor": 0
}