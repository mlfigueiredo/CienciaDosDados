{
  "nbformat": 4,
  "nbformat_minor": 0,
  "metadata": {
    "colab": {
      "provenance": [],
      "collapsed_sections": [],
      "include_colab_link": true
    },
    "kernelspec": {
      "name": "python3",
      "display_name": "Python 3"
    },
    "language_info": {
      "name": "python"
    }
  },
  "cells": [
    {
      "cell_type": "markdown",
      "metadata": {
        "id": "view-in-github",
        "colab_type": "text"
      },
      "source": [
        "<a href=\"https://colab.research.google.com/github/mlfigueiredo/CienciaDosDados/blob/main/Tuning_Par%C3%A2metros.ipynb\" target=\"_parent\"><img src=\"https://colab.research.google.com/assets/colab-badge.svg\" alt=\"Open In Colab\"/></a>"
      ]
    },
    {
      "cell_type": "code",
      "execution_count": null,
      "metadata": {
        "id": "9k9eu4MF-UFv"
      },
      "outputs": [],
      "source": [
        "# Template do Pipeline da Ciência de Dados\n",
        "\n",
        "# 1. Análise  do problema\n",
        "# a) Carregar bibliotecas\n",
        "# b) Carregar conjunto de dados\n",
        "\n",
        "# 2. Análise Exploratória dos dados - Resumir dados\n",
        "# a) Estatísticas descritivas\n",
        "# b) Visualizações de dados\n",
        "\n",
        "# 3. Pré-Processamento de Dados - Preparar Dados\n",
        "# a) Limpeza de dados\n",
        "# b) Seleção de recursos\n",
        "# c) Transformações de dados (variáveis)\n",
        "\n",
        "# 4. Construção de Máquinas Preditivas - Avalie Algoritmos\n",
        "# a) Conjunto de dados de validação dividido\n",
        "# b) Opções de teste e métrica de avaliação\n",
        "# c) Algoritmos de verificação pontual\n",
        "# d) Comparar Algoritmos\n",
        "\n",
        "# 5. Melhore a precisão\n",
        "# a) Ajuste de algoritmo\n",
        "# b) Usar Ensembles\n",
        "\n",
        "# 6. Finalize o modelo\n",
        "# a) Previsões no conjunto de dados de validação\n",
        "# b) Crie um modelo autônomo em todo o conjunto de dados de treinamento\n",
        "# c) Salve o modelo para uso posterior\n",
        "# d) Deploy WEB"
      ]
    },
    {
      "cell_type": "markdown",
      "source": [
        "### Ex: Cálculo do Valor que o BB precisa guardar para possíveis calotes.\n",
        "\n",
        "Operação 2022\n",
        "\n",
        "Cliente Marcos Leandro\n",
        "\n",
        "Ag 8428\n",
        "\n",
        "Valor de Provisão (calote) = 2.000   (reservas do BB)"
      ],
      "metadata": {
        "id": "VSZXBR-7UL1P"
      }
    },
    {
      "cell_type": "code",
      "source": [
        "!pip install xgboost"
      ],
      "metadata": {
        "id": "FmkDZYuKE0FS",
        "colab": {
          "base_uri": "https://localhost:8080/"
        },
        "outputId": "c8929125-02e7-4718-d01a-37a8a72d9651"
      },
      "execution_count": 1,
      "outputs": [
        {
          "output_type": "stream",
          "name": "stdout",
          "text": [
            "Looking in indexes: https://pypi.org/simple, https://us-python.pkg.dev/colab-wheels/public/simple/\n",
            "Requirement already satisfied: xgboost in /usr/local/lib/python3.7/dist-packages (0.90)\n",
            "Requirement already satisfied: numpy in /usr/local/lib/python3.7/dist-packages (from xgboost) (1.21.6)\n",
            "Requirement already satisfied: scipy in /usr/local/lib/python3.7/dist-packages (from xgboost) (1.7.3)\n"
          ]
        }
      ]
    },
    {
      "cell_type": "code",
      "source": [
        "# Tune learning_rate\n",
        "from numpy import loadtxt\n",
        "from xgboost import XGBClassifier\n",
        "from sklearn.model_selection import GridSearchCV\n",
        "from sklearn.model_selection import StratifiedKFold"
      ],
      "metadata": {
        "id": "chSWX1iQFUjJ"
      },
      "execution_count": 2,
      "outputs": []
    },
    {
      "cell_type": "code",
      "source": [
        "# load data\n",
        "# Posso importar sem o pandas\n",
        "dataset = loadtxt('pima-data.csv', delimiter=\",\")\n",
        "dataset"
      ],
      "metadata": {
        "id": "c-80VfjCFUmK",
        "colab": {
          "base_uri": "https://localhost:8080/"
        },
        "outputId": "3c46f800-24f3-4d04-b2de-832cffef5741"
      },
      "execution_count": 5,
      "outputs": [
        {
          "output_type": "execute_result",
          "data": {
            "text/plain": [
              "array([[  6.   , 148.   ,  72.   , ...,   0.627,  50.   ,   1.   ],\n",
              "       [  1.   ,  85.   ,  66.   , ...,   0.351,  31.   ,   0.   ],\n",
              "       [  8.   , 183.   ,  64.   , ...,   0.672,  32.   ,   1.   ],\n",
              "       ...,\n",
              "       [  5.   , 121.   ,  72.   , ...,   0.245,  30.   ,   0.   ],\n",
              "       [  1.   , 126.   ,  60.   , ...,   0.349,  47.   ,   1.   ],\n",
              "       [  1.   ,  93.   ,  70.   , ...,   0.315,  23.   ,   0.   ]])"
            ]
          },
          "metadata": {},
          "execution_count": 5
        }
      ]
    },
    {
      "cell_type": "code",
      "source": [
        "# split data into X and y\n",
        "X = dataset[:,0:8]\n",
        "Y = dataset[:,8]"
      ],
      "metadata": {
        "id": "Q1eU-jxxX43w"
      },
      "execution_count": 6,
      "outputs": []
    },
    {
      "cell_type": "code",
      "source": [
        "X"
      ],
      "metadata": {
        "colab": {
          "base_uri": "https://localhost:8080/"
        },
        "id": "J3KFCtsTYOye",
        "outputId": "56c9f249-a46b-4c7c-e2ef-53c17158fee4"
      },
      "execution_count": 7,
      "outputs": [
        {
          "output_type": "execute_result",
          "data": {
            "text/plain": [
              "array([[  6.   , 148.   ,  72.   , ...,  33.6  ,   0.627,  50.   ],\n",
              "       [  1.   ,  85.   ,  66.   , ...,  26.6  ,   0.351,  31.   ],\n",
              "       [  8.   , 183.   ,  64.   , ...,  23.3  ,   0.672,  32.   ],\n",
              "       ...,\n",
              "       [  5.   , 121.   ,  72.   , ...,  26.2  ,   0.245,  30.   ],\n",
              "       [  1.   , 126.   ,  60.   , ...,  30.1  ,   0.349,  47.   ],\n",
              "       [  1.   ,  93.   ,  70.   , ...,  30.4  ,   0.315,  23.   ]])"
            ]
          },
          "metadata": {},
          "execution_count": 7
        }
      ]
    },
    {
      "cell_type": "code",
      "source": [
        "Y"
      ],
      "metadata": {
        "colab": {
          "base_uri": "https://localhost:8080/"
        },
        "id": "KS3hO7hxYLtE",
        "outputId": "489d0ecd-7a24-4c04-e327-fa28fd8b7baf"
      },
      "execution_count": 8,
      "outputs": [
        {
          "output_type": "execute_result",
          "data": {
            "text/plain": [
              "array([1., 0., 1., 0., 1., 0., 1., 0., 1., 1., 0., 1., 0., 1., 1., 1., 1.,\n",
              "       1., 0., 1., 0., 0., 1., 1., 1., 1., 1., 0., 0., 0., 0., 1., 0., 0.,\n",
              "       0., 0., 0., 1., 1., 1., 0., 0., 0., 1., 0., 1., 0., 0., 1., 0., 0.,\n",
              "       0., 0., 1., 0., 0., 1., 0., 0., 0., 0., 1., 0., 0., 1., 0., 1., 0.,\n",
              "       0., 0., 1., 0., 1., 0., 0., 0., 0., 0., 1., 0., 0., 0., 0., 0., 1.,\n",
              "       0., 0., 0., 1., 0., 0., 0., 0., 1., 0., 0., 0., 0., 0., 1., 1., 0.,\n",
              "       0., 0., 0., 0., 0., 0., 0., 1., 1., 1., 0., 0., 1., 1., 1., 0., 0.,\n",
              "       0., 1., 0., 0., 0., 1., 1., 0., 0., 1., 1., 1., 1., 1., 0., 0., 0.,\n",
              "       0., 0., 0., 0., 0., 0., 0., 1., 0., 0., 0., 0., 0., 0., 0., 0., 1.,\n",
              "       0., 1., 1., 0., 0., 0., 1., 0., 0., 0., 0., 1., 1., 0., 0., 0., 0.,\n",
              "       1., 1., 0., 0., 0., 1., 0., 1., 0., 1., 0., 0., 0., 0., 0., 1., 1.,\n",
              "       1., 1., 1., 0., 0., 1., 1., 0., 1., 0., 1., 1., 1., 0., 0., 0., 0.,\n",
              "       0., 0., 1., 1., 0., 1., 0., 0., 0., 1., 1., 1., 1., 0., 1., 1., 1.,\n",
              "       1., 0., 0., 0., 0., 0., 1., 0., 0., 1., 1., 0., 0., 0., 1., 1., 1.,\n",
              "       1., 0., 0., 0., 1., 1., 0., 1., 0., 0., 0., 0., 0., 0., 0., 0., 1.,\n",
              "       1., 0., 0., 0., 1., 0., 1., 0., 0., 1., 0., 1., 0., 0., 1., 1., 0.,\n",
              "       0., 0., 0., 0., 1., 0., 0., 0., 1., 0., 0., 1., 1., 0., 0., 1., 0.,\n",
              "       0., 0., 1., 1., 1., 0., 0., 1., 0., 1., 0., 1., 1., 0., 1., 0., 0.,\n",
              "       1., 0., 1., 1., 0., 0., 1., 0., 1., 0., 0., 1., 0., 1., 0., 1., 1.,\n",
              "       1., 0., 0., 1., 0., 1., 0., 0., 0., 1., 0., 0., 0., 0., 1., 1., 1.,\n",
              "       0., 0., 0., 0., 0., 0., 0., 0., 0., 1., 0., 0., 0., 0., 0., 1., 1.,\n",
              "       1., 0., 1., 1., 0., 0., 1., 0., 0., 1., 0., 0., 1., 1., 0., 0., 0.,\n",
              "       0., 1., 0., 0., 1., 0., 0., 0., 0., 0., 0., 0., 1., 1., 1., 0., 0.,\n",
              "       1., 0., 0., 1., 0., 0., 1., 0., 1., 1., 0., 1., 0., 1., 0., 1., 0.,\n",
              "       1., 1., 0., 0., 0., 0., 1., 1., 0., 1., 0., 1., 0., 0., 0., 0., 1.,\n",
              "       1., 0., 1., 0., 1., 0., 0., 0., 0., 0., 1., 0., 0., 0., 0., 1., 0.,\n",
              "       0., 1., 1., 1., 0., 0., 1., 0., 0., 1., 0., 0., 0., 1., 0., 0., 1.,\n",
              "       0., 0., 0., 0., 0., 0., 0., 0., 0., 1., 0., 0., 0., 0., 0., 0., 0.,\n",
              "       1., 0., 0., 0., 1., 0., 0., 0., 1., 1., 0., 0., 0., 0., 0., 0., 0.,\n",
              "       1., 0., 0., 0., 0., 1., 0., 0., 0., 1., 0., 0., 0., 1., 0., 0., 0.,\n",
              "       1., 0., 0., 0., 0., 1., 1., 0., 0., 0., 0., 0., 0., 1., 0., 0., 0.,\n",
              "       0., 0., 0., 0., 0., 0., 0., 0., 1., 0., 0., 0., 1., 1., 1., 1., 0.,\n",
              "       0., 1., 1., 0., 0., 0., 0., 0., 0., 0., 0., 0., 0., 0., 0., 0., 1.,\n",
              "       1., 0., 0., 0., 0., 0., 0., 0., 1., 0., 0., 0., 0., 0., 0., 0., 1.,\n",
              "       0., 1., 1., 0., 0., 0., 1., 0., 1., 0., 1., 0., 1., 0., 1., 0., 0.,\n",
              "       1., 0., 0., 1., 0., 0., 0., 0., 1., 1., 0., 1., 0., 0., 0., 0., 1.,\n",
              "       1., 0., 1., 0., 0., 0., 1., 1., 0., 0., 0., 0., 0., 0., 0., 0., 0.,\n",
              "       0., 1., 0., 0., 0., 0., 1., 0., 0., 1., 0., 0., 0., 1., 0., 0., 0.,\n",
              "       1., 1., 1., 0., 0., 0., 0., 0., 0., 1., 0., 0., 0., 1., 0., 1., 1.,\n",
              "       1., 1., 0., 1., 1., 0., 0., 0., 0., 0., 0., 0., 1., 1., 0., 1., 0.,\n",
              "       0., 1., 0., 1., 0., 0., 0., 0., 0., 1., 0., 1., 0., 1., 0., 1., 1.,\n",
              "       0., 0., 0., 0., 1., 1., 0., 0., 0., 1., 0., 1., 1., 0., 0., 1., 0.,\n",
              "       0., 1., 1., 0., 0., 1., 0., 0., 1., 0., 0., 0., 0., 0., 0., 0., 1.,\n",
              "       1., 1., 0., 0., 0., 0., 0., 0., 1., 1., 0., 0., 1., 0., 0., 1., 0.,\n",
              "       1., 1., 1., 0., 0., 1., 1., 1., 0., 1., 0., 1., 0., 1., 0., 0., 0.,\n",
              "       0., 1., 0.])"
            ]
          },
          "metadata": {},
          "execution_count": 8
        }
      ]
    },
    {
      "cell_type": "code",
      "source": [
        "# grid search\n",
        "model = XGBClassifier()\n"
      ],
      "metadata": {
        "id": "wfybgBrnFUo1"
      },
      "execution_count": 16,
      "outputs": []
    },
    {
      "cell_type": "code",
      "source": [
        "learning_rate = [0.0001, 0.001, 0.01, 0.1, 0.2, 0.3] \n",
        "max_depth= [1, 2, 3, 4, 5]\n",
        "\n",
        "#Criei um dicionário de dados\n",
        "param_grid = dict(learning_rate=learning_rate, max_depth= max_depth)"
      ],
      "metadata": {
        "id": "WkcLzI79ZPP1"
      },
      "execution_count": 17,
      "outputs": []
    },
    {
      "cell_type": "code",
      "source": [
        "param_grid"
      ],
      "metadata": {
        "colab": {
          "base_uri": "https://localhost:8080/"
        },
        "id": "zjWQd4Z5bGAD",
        "outputId": "da98c5a9-e8c5-4350-e960-4e50f93a1dd0"
      },
      "execution_count": 18,
      "outputs": [
        {
          "output_type": "execute_result",
          "data": {
            "text/plain": [
              "{'learning_rate': [0.0001, 0.001, 0.01, 0.1, 0.2, 0.3],\n",
              " 'max_depth': [1, 2, 3, 4, 5]}"
            ]
          },
          "metadata": {},
          "execution_count": 18
        }
      ]
    },
    {
      "cell_type": "code",
      "source": [
        "kfold = StratifiedKFold(n_splits=10, shuffle=True, random_state=7)\n",
        "kfold"
      ],
      "metadata": {
        "id": "J3yfdNJRYTtF",
        "colab": {
          "base_uri": "https://localhost:8080/"
        },
        "outputId": "5be999f4-52dc-472a-dd3a-fceabed738f0"
      },
      "execution_count": 19,
      "outputs": [
        {
          "output_type": "execute_result",
          "data": {
            "text/plain": [
              "StratifiedKFold(n_splits=10, random_state=7, shuffle=True)"
            ]
          },
          "metadata": {},
          "execution_count": 19
        }
      ]
    },
    {
      "cell_type": "code",
      "source": [
        "grid_search = GridSearchCV(model, param_grid, scoring=\"neg_log_loss\", n_jobs=-1, cv=kfold)\n",
        "grid_search"
      ],
      "metadata": {
        "id": "LdJFBJifbUQg",
        "colab": {
          "base_uri": "https://localhost:8080/"
        },
        "outputId": "7d25eb8f-09d8-4ee4-c9e6-4db215c881af"
      },
      "execution_count": 21,
      "outputs": [
        {
          "output_type": "execute_result",
          "data": {
            "text/plain": [
              "GridSearchCV(cv=StratifiedKFold(n_splits=10, random_state=7, shuffle=True),\n",
              "             estimator=XGBClassifier(), n_jobs=-1,\n",
              "             param_grid={'learning_rate': [0.0001, 0.001, 0.01, 0.1, 0.2, 0.3],\n",
              "                         'max_depth': [1, 2, 3, 4, 5]},\n",
              "             scoring='neg_log_loss')"
            ]
          },
          "metadata": {},
          "execution_count": 21
        }
      ]
    },
    {
      "cell_type": "code",
      "source": [
        "grid_result = grid_search.fit(X, Y)"
      ],
      "metadata": {
        "id": "J0SXFr7jbXDJ"
      },
      "execution_count": 22,
      "outputs": []
    },
    {
      "cell_type": "code",
      "source": [
        "grid_result"
      ],
      "metadata": {
        "id": "94hV3TnRFjpm",
        "colab": {
          "base_uri": "https://localhost:8080/"
        },
        "outputId": "468e43e2-4e5f-4a92-ce94-0f867f96e4a1"
      },
      "execution_count": 23,
      "outputs": [
        {
          "output_type": "execute_result",
          "data": {
            "text/plain": [
              "GridSearchCV(cv=StratifiedKFold(n_splits=10, random_state=7, shuffle=True),\n",
              "             estimator=XGBClassifier(), n_jobs=-1,\n",
              "             param_grid={'learning_rate': [0.0001, 0.001, 0.01, 0.1, 0.2, 0.3],\n",
              "                         'max_depth': [1, 2, 3, 4, 5]},\n",
              "             scoring='neg_log_loss')"
            ]
          },
          "metadata": {},
          "execution_count": 23
        }
      ]
    },
    {
      "cell_type": "code",
      "source": [
        "# summarize results\n",
        "print(\"Best: %f using %s\" % (grid_result.best_score_, grid_result.best_params_))\n",
        "\n",
        "means = grid_result.cv_results_['mean_test_score']\n",
        "\n",
        "stds = grid_result.cv_results_['std_test_score']\n",
        "\n",
        "params = grid_result.cv_results_['params']\n",
        "\n",
        "for mean, stdev, param in zip(means, stds, params):\n",
        " print(\"%f (%f) with: %r\" % (mean, stdev, param))"
      ],
      "metadata": {
        "id": "SiyZzQj2FUsu",
        "colab": {
          "base_uri": "https://localhost:8080/"
        },
        "outputId": "b23ddbfe-af9f-4000-9dcd-e2999d92be36"
      },
      "execution_count": 24,
      "outputs": [
        {
          "output_type": "stream",
          "name": "stdout",
          "text": [
            "Best: -0.472060 using {'learning_rate': 0.1, 'max_depth': 2}\n",
            "-0.690795 (0.000241) with: {'learning_rate': 0.0001, 'max_depth': 1}\n",
            "-0.690138 (0.000410) with: {'learning_rate': 0.0001, 'max_depth': 2}\n",
            "-0.689712 (0.000402) with: {'learning_rate': 0.0001, 'max_depth': 3}\n",
            "-0.689592 (0.000450) with: {'learning_rate': 0.0001, 'max_depth': 4}\n",
            "-0.689468 (0.000657) with: {'learning_rate': 0.0001, 'max_depth': 5}\n",
            "-0.671640 (0.002664) with: {'learning_rate': 0.001, 'max_depth': 1}\n",
            "-0.665613 (0.003697) with: {'learning_rate': 0.001, 'max_depth': 2}\n",
            "-0.661729 (0.003931) with: {'learning_rate': 0.001, 'max_depth': 3}\n",
            "-0.660956 (0.004246) with: {'learning_rate': 0.001, 'max_depth': 4}\n",
            "-0.659774 (0.005536) with: {'learning_rate': 0.001, 'max_depth': 5}\n",
            "-0.575185 (0.016718) with: {'learning_rate': 0.01, 'max_depth': 1}\n",
            "-0.545870 (0.024282) with: {'learning_rate': 0.01, 'max_depth': 2}\n",
            "-0.531596 (0.026192) with: {'learning_rate': 0.01, 'max_depth': 3}\n",
            "-0.527023 (0.029310) with: {'learning_rate': 0.01, 'max_depth': 4}\n",
            "-0.525773 (0.032411) with: {'learning_rate': 0.01, 'max_depth': 5}\n",
            "-0.477914 (0.056198) with: {'learning_rate': 0.1, 'max_depth': 1}\n",
            "-0.472060 (0.077772) with: {'learning_rate': 0.1, 'max_depth': 2}\n",
            "-0.487211 (0.090035) with: {'learning_rate': 0.1, 'max_depth': 3}\n",
            "-0.503191 (0.100167) with: {'learning_rate': 0.1, 'max_depth': 4}\n",
            "-0.537939 (0.111935) with: {'learning_rate': 0.1, 'max_depth': 5}\n",
            "-0.472280 (0.070596) with: {'learning_rate': 0.2, 'max_depth': 1}\n",
            "-0.495584 (0.092276) with: {'learning_rate': 0.2, 'max_depth': 2}\n",
            "-0.531823 (0.114000) with: {'learning_rate': 0.2, 'max_depth': 3}\n",
            "-0.578055 (0.129493) with: {'learning_rate': 0.2, 'max_depth': 4}\n",
            "-0.604882 (0.147490) with: {'learning_rate': 0.2, 'max_depth': 5}\n",
            "-0.472995 (0.077521) with: {'learning_rate': 0.3, 'max_depth': 1}\n",
            "-0.518248 (0.107580) with: {'learning_rate': 0.3, 'max_depth': 2}\n",
            "-0.583792 (0.141048) with: {'learning_rate': 0.3, 'max_depth': 3}\n",
            "-0.635180 (0.144728) with: {'learning_rate': 0.3, 'max_depth': 4}\n",
            "-0.695224 (0.189388) with: {'learning_rate': 0.3, 'max_depth': 5}\n"
          ]
        }
      ]
    },
    {
      "cell_type": "code",
      "source": [
        "# save the model to disk\n",
        "from pickle import dump\n",
        "from pickle import load\n",
        "filename = 'finalized_model.sav'\n",
        "dump(grid_search, open(filename, 'wb'))"
      ],
      "metadata": {
        "id": "06nVYrpfEYmW"
      },
      "execution_count": 25,
      "outputs": []
    },
    {
      "cell_type": "code",
      "source": [
        "# some time later...\n",
        "# load the model from disk\n",
        "loaded_model = load(open(filename, 'rb'))"
      ],
      "metadata": {
        "id": "Moz61psaF48k"
      },
      "execution_count": 26,
      "outputs": []
    },
    {
      "cell_type": "code",
      "source": [
        "loaded_model"
      ],
      "metadata": {
        "id": "lSjTH-XXLU4J",
        "colab": {
          "base_uri": "https://localhost:8080/"
        },
        "outputId": "e0b10ef6-fe86-41ee-b784-869180941973"
      },
      "execution_count": 27,
      "outputs": [
        {
          "output_type": "execute_result",
          "data": {
            "text/plain": [
              "GridSearchCV(cv=StratifiedKFold(n_splits=10, random_state=7, shuffle=True),\n",
              "             estimator=XGBClassifier(missing=nan), n_jobs=-1,\n",
              "             param_grid={'learning_rate': [0.0001, 0.001, 0.01, 0.1, 0.2, 0.3],\n",
              "                         'max_depth': [1, 2, 3, 4, 5]},\n",
              "             scoring='neg_log_loss')"
            ]
          },
          "metadata": {},
          "execution_count": 27
        }
      ]
    }
  ]
}