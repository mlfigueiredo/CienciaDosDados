{
  "nbformat": 4,
  "nbformat_minor": 0,
  "metadata": {
    "colab": {
      "provenance": [],
      "include_colab_link": true
    },
    "kernelspec": {
      "name": "python3",
      "display_name": "Python 3"
    },
    "language_info": {
      "name": "python"
    },
    "accelerator": "GPU"
  },
  "cells": [
    {
      "cell_type": "markdown",
      "metadata": {
        "id": "view-in-github",
        "colab_type": "text"
      },
      "source": [
        "<a href=\"https://colab.research.google.com/github/mlfigueiredo/CienciaDosDados/blob/main/Aplicativo%20Streamlit%20Bom.ipynb\" target=\"_parent\"><img src=\"https://colab.research.google.com/assets/colab-badge.svg\" alt=\"Open In Colab\"/></a>"
      ]
    },
    {
      "cell_type": "code",
      "source": [
        "pip install streamlit"
      ],
      "metadata": {
        "id": "JhXLuSYbaX8d"
      },
      "execution_count": null,
      "outputs": []
    },
    {
      "cell_type": "code",
      "source": [
        "from sklearn.datasets import load_iris"
      ],
      "metadata": {
        "id": "cZbN1CIYaccb"
      },
      "execution_count": 2,
      "outputs": []
    },
    {
      "cell_type": "code",
      "source": [
        "from sklearn.model_selection import train_test_split, RandomizedSearchCV"
      ],
      "metadata": {
        "id": "kfvGEAQdacse"
      },
      "execution_count": 3,
      "outputs": []
    },
    {
      "cell_type": "code",
      "source": [
        "import numpy as np\n",
        "import pandas as pd\n",
        "from sklearn.linear_model import LogisticRegression\n",
        "import random"
      ],
      "metadata": {
        "id": "8ElBhF47acvl"
      },
      "execution_count": 4,
      "outputs": []
    },
    {
      "cell_type": "code",
      "source": [
        "from sklearn.metrics import accuracy_score\n",
        "import pickle\n",
        "data=load_iris()\n",
        "x= data.data\n",
        "y= data.target\n",
        "x_train, x_test, y_train, y_test= train_test_split(x, y, stratify=y, test_size=0.2, random_state=10)\n",
        "clf=LogisticRegression(C=0.01)\n",
        "clf.fit(x_train, y_train)\n",
        "pickle.dump(clf, open('final_model.sav', 'wb'))"
      ],
      "metadata": {
        "id": "xhYNOBrbakHX"
      },
      "execution_count": 5,
      "outputs": []
    },
    {
      "cell_type": "code",
      "source": [
        "print(data)"
      ],
      "metadata": {
        "id": "-5LePBfhacyx"
      },
      "execution_count": null,
      "outputs": []
    },
    {
      "cell_type": "code",
      "source": [
        "#Criação dos arquivos Python de automação - model_methods.py\n",
        "#Criação da função de predição para novos dados\n",
        "import numpy as np\n",
        "import pandas as pd\n",
        "from sklearn.linear_model import LogisticRegression\n",
        "import pickle\n",
        "\n",
        "def predict(arr):\n",
        "  #Carrega o modelo\n",
        "  with open('final_model.sav', 'rb') as f:\n",
        "    model= pickle.load(f)\n",
        "  classes = {0:'Iris Setosa', 1:'Iris Versicolor', 2:'Iris Virginica'}\n",
        "  # retorna a predição da probabilidade de cada classe das classes\n",
        "  preds= model.predict_proba([arr])[0]\n",
        "  return (classes[np.argmax(preds)], preds)  "
      ],
      "metadata": {
        "id": "keAy3c02ac1o"
      },
      "execution_count": null,
      "outputs": []
    },
    {
      "cell_type": "code",
      "source": [
        "#Criação do arquivo de inicialização do aplicativo - app.py\n",
        "import streamlit as st\n",
        "import numpy as np\n",
        "import pandas as pd\n",
        "#import seaborn as sns\n",
        "#import matplotlib.pyplot as plt\n",
        "from modelo_predicao import predict\n",
        "\n",
        "classes= {0:'setosa', 1:'versicolor', 2:'virginica'}\n",
        "class_labels= list(classes.values())\n",
        "\n",
        "st.title('Tipificação das espécies de plantas')\n",
        "st.markdown('**Objetivo** :Dadas as características das flores vamos prever a espécie da flor')\n",
        "st.markdown('A máquina preditiva pode prever se a plnata pertence três categorias a seguir: **setosa, versicolor, virginica**')\n",
        "\n",
        "def predict_class():\n",
        "  data= list(map(float, [sepal_length, sepal_width, petal_length, petal_width]))\n",
        "  result, probs=predict(data)\n",
        "  st.write(\"A planta é do tipo \", result)\n",
        "  probs= [np.round(x,6) for x in probs]\n",
        "  #ax= sns.barplot(probs, class_labels, palette='winter', orient='h')\n",
        "  #ax.set_yticklabels(class_labels, rotation=0)\n",
        "  #plt.title(\"Probabilidades dos dados pertecentes a cada classe\")\n",
        "  #for index, value in enumerate(probs):\n",
        " #   plt.text(value, index, str(value))\n",
        "  #st.pyplot()\n",
        "\n",
        "st.markdown(\"**Por favor, insira os detalhes da flor na forma de 4 valores decimais separados por vírgulas**\")\n",
        "sepal_length= st.text_input('Valor do sepal_length', '')\n",
        "sepal_width= st.text_input('Valor do sepal_width', '')\n",
        "petal_length= st.text_input('Valor do petal_length', '')\n",
        "petal_width= st.text_input('Valor do petal_width', '')\n",
        "\n",
        "if st.button(\"Previsão\"):\n",
        "  predict_class()\n"
      ],
      "metadata": {
        "id": "HwcEHGc3sZSz"
      },
      "execution_count": null,
      "outputs": []
    }
  ]
}