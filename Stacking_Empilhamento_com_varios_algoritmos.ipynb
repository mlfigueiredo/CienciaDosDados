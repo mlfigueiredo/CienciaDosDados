{
  "nbformat": 4,
  "nbformat_minor": 0,
  "metadata": {
    "colab": {
      "provenance": [],
      "collapsed_sections": [],
      "include_colab_link": true
    },
    "kernelspec": {
      "name": "python3",
      "display_name": "Python 3"
    },
    "language_info": {
      "name": "python"
    }
  },
  "cells": [
    {
      "cell_type": "markdown",
      "metadata": {
        "id": "view-in-github",
        "colab_type": "text"
      },
      "source": [
        "<a href=\"https://colab.research.google.com/github/mlfigueiredo/CienciaDosDados/blob/main/Stacking_Empilhamento_com_varios_algoritmos.ipynb\" target=\"_parent\"><img src=\"https://colab.research.google.com/assets/colab-badge.svg\" alt=\"Open In Colab\"/></a>"
      ]
    },
    {
      "cell_type": "markdown",
      "metadata": {
        "id": "3B2gFA1h_TV_"
      },
      "source": [
        "#  <font color='Blue'> Stacking - Empilhamento de Algoritmos</font> "
      ]
    },
    {
      "cell_type": "markdown",
      "source": [
        "O Stacking ou empilhamento é uma forma de aprendizado de máquina conjunta. Ele usa um algoritmo de metalearning para aprender a melhor combinar as previsões de **duas ou mais máquinas básicas**. Agrupamento de máquinas preemditivas, pega os resultados do algoritmos bases line e cria um novo meta algoritimo (tipo método ensamble)\n",
        "\n",
        "O benefício do empilhamento é que ele pode aproveitar os recursos de uma variedade de modelos de bom desempenho em uma tarefa de classificação ou regressão e fazer previsões que podem ter **melhor desempenho do que qualquer modelo único no conjunto**. \n",
        "\n",
        "> Stacking é um algoritmo de **aprendizado de máquina conjunto** que aprende a melhor previsões de vários modelos de aprendizado de máquina com bom desempenho.\n",
        "\n"
      ],
      "metadata": {
        "id": "pHkO40_p7CKL"
      }
    },
    {
      "cell_type": "code",
      "source": [
        "###############################################################################################################\n",
        "# compare standalone models for binary classification\n",
        "###############################################################################################################\n",
        "\n",
        "#analise de dados\n",
        "from numpy import mean\n",
        "from numpy import std\n",
        "from matplotlib import pyplot\n",
        "from sklearn.datasets import make_classification\n",
        "\n",
        "# Processamento de Dados com validação cruzada\n",
        "from sklearn.model_selection import cross_val_score\n",
        "from sklearn.model_selection import RepeatedStratifiedKFold\n",
        "\n",
        "# Baseline\n",
        "from sklearn.linear_model import LogisticRegression\n",
        "from sklearn.neighbors import KNeighborsClassifier\n",
        "from sklearn.tree import DecisionTreeClassifier\n",
        "from sklearn.svm import SVC\n",
        "from sklearn.naive_bayes import GaussianNB\n",
        "\n",
        "# será nossa MP definitiva - nosso meta modelo que precisa de outros modelos base acima, que pegará a saída do resultado de todos, e retornará no algoritmo definitivo\n",
        "from sklearn.ensemble import StackingClassifier"
      ],
      "metadata": {
        "id": "wWtYdZYX6jar"
      },
      "execution_count": 1,
      "outputs": []
    },
    {
      "cell_type": "code",
      "source": [
        "make_classification"
      ],
      "metadata": {
        "id": "mqfEBJ8rcAZn"
      },
      "execution_count": null,
      "outputs": []
    },
    {
      "cell_type": "code",
      "source": [
        "# get the dataset. Criando dados sintéticos com X e Y\n",
        "def get_dataset():\n",
        "\tX, y = make_classification(n_samples=1000, n_features=20, n_informative=15, n_redundant=5, random_state=1)\n",
        "\treturn X, y\n",
        "\n",
        "# get a list of models to evaluate\n",
        "def get_models():\n",
        "\tmodels = dict() #Criando um dicionário vazio\n",
        "\tmodels['lr'] = LogisticRegression() # chave e valor\n",
        "\tmodels['knn'] = KNeighborsClassifier()\n",
        "\tmodels['cart'] = DecisionTreeClassifier()\n",
        "\tmodels['svm'] = SVC()\n",
        "\tmodels['bayes'] = GaussianNB()\n",
        "\treturn models\n",
        "\n",
        "# evaluate a given model using cross-validation. Avaliar cada modelo separado\n",
        "def evaluate_model(model, X, y):\n",
        "\t# define the evaluation procedure. Primeiro, crio a validação cruzada\n",
        "\tcv = RepeatedStratifiedKFold(n_splits=10, n_repeats=3, random_state=1)\n",
        "\t# evaluate the model and collect the results\n",
        "\tscores = cross_val_score(model, X, y, scoring='accuracy', cv=cv, n_jobs=-1)\n",
        "\treturn scores\n"
      ],
      "metadata": {
        "id": "HPAExGh-VIQ0"
      },
      "execution_count": 4,
      "outputs": []
    },
    {
      "cell_type": "code",
      "source": [],
      "metadata": {
        "id": "4Hb5Y8-Ptemu"
      },
      "execution_count": null,
      "outputs": []
    },
    {
      "cell_type": "code",
      "source": [
        "# define dataset\n",
        "X, y = get_dataset()\n",
        "\n",
        "# get the models to evaluate\n",
        "models = get_models()\n",
        "\n",
        "# evaluate the models and store results\n",
        "results, names = list(), list()\n",
        "\n",
        "\n",
        "for name, model in models.items():\n",
        "\t# evaluate the model\n",
        "\n",
        "  \n",
        "\tscores = evaluate_model(model, X, y)\n",
        "\t# store the results\n",
        "\tresults.append(scores)\n",
        "\tnames.append(name)\n",
        "\t# summarize the performance along the way\n",
        "\tprint('>%s %.3f (%.3f)' % (name, mean(scores), std(scores)))\n",
        "# plot model performance for comparison\n",
        "pyplot.boxplot(results, labels=names, showmeans=True)\n",
        "pyplot.show()\n",
        "# vai comparar qual algoritmo teve melhor acurácia"
      ],
      "metadata": {
        "colab": {
          "base_uri": "https://localhost:8080/",
          "height": 354
        },
        "id": "hRkGPXH8VfQt",
        "outputId": "07725ace-1f4c-4f13-f23d-f91ec92c9da3"
      },
      "execution_count": 6,
      "outputs": [
        {
          "output_type": "stream",
          "name": "stdout",
          "text": [
            ">lr 0.866 (0.029)\n",
            ">knn 0.931 (0.025)\n",
            ">cart 0.824 (0.038)\n",
            ">svm 0.957 (0.020)\n",
            ">bayes 0.833 (0.031)\n"
          ]
        },
        {
          "output_type": "display_data",
          "data": {
            "text/plain": [
              "<Figure size 432x288 with 1 Axes>"
            ],
            "image/png": "[encoded data removed]"
          },
          "metadata": {
            "needs_background": "light"
          }
        }
      ]
    },
    {
      "cell_type": "code",
      "source": [
        "###############################################################################################################\n",
        "# get a stacking ensemble of models\n",
        "###############################################################################################################\n",
        "\n",
        "def get_stacking():\n",
        "\t# define the base models. Estou criando o meus algortimos bases com uma lista\n",
        "\tlevel0 = list()\n",
        "\tlevel0.append(('lr', LogisticRegression()))\n",
        "\tlevel0.append(('knn', KNeighborsClassifier()))\n",
        "\tlevel0.append(('cart', DecisionTreeClassifier()))\n",
        "\tlevel0.append(('svm', SVC()))\n",
        "\tlevel0.append(('bayes', GaussianNB()))\n",
        " \n",
        "\n",
        "\t# define meta learner model. Algoritmo meta que vai pegar a saída. \n",
        "\t# Depois posso fazer um outro teste para usar outro algoritmo como meta. Primeiramente vou pegar o meta que será Regressão logistica\n",
        "\tlevel1 = LogisticRegression()\n",
        " \n",
        "\n",
        "\t# define the stacking ensemble\n",
        "\tmodel = StackingClassifier(estimators=level0, final_estimator=level1, cv=5)\n",
        "\treturn model\n",
        "\n",
        "\n",
        "# get a list of models to evaluate. Vou seguir a mesma sequência criada anteriormente\n",
        "def get_models():\n",
        "\tmodels = dict()\n",
        "\tmodels['lr'] = LogisticRegression()\n",
        "\tmodels['knn'] = KNeighborsClassifier()\n",
        "\tmodels['cart'] = DecisionTreeClassifier()\n",
        "\tmodels['svm'] = SVC()\n",
        "\tmodels['bayes'] = GaussianNB()\n",
        "\tmodels['stacking'] = get_stacking()\n",
        "\treturn models\n",
        "\n",
        "# evaluate a given model using cross-validation\n",
        "def evaluate_model(model, X, y):\n",
        "\t# define the evaluation procedure\n",
        "\tcv = RepeatedStratifiedKFold(n_splits=10, n_repeats=3, random_state=1)\n",
        "\t# evaluate the model and collect the results\n",
        "\tscores = cross_val_score(model, X, y, scoring='accuracy', cv=cv, n_jobs=-1)\n",
        "\treturn scores\n",
        "\n",
        "# define dataset\n",
        "X, y = get_dataset()\n",
        "# get the models to evaluate\n",
        "models = get_models()\n",
        "# evaluate the models and store results\n",
        "results, names = list(), list()\n",
        "\n",
        "for name, model in models.items():\n",
        "\t# evaluate the model\n",
        "\tscores = evaluate_model(model, X, y)\n",
        "\t# store the results\n",
        "\tresults.append(scores)\n",
        "\tnames.append(name)\n",
        " \n",
        " \n",
        "\t# summarize the performance along the way\n",
        "\tprint('>%s %.3f (%.3f)' % (name, mean(scores), std(scores)))\n",
        "# plot model performance for comparison\n",
        "pyplot.boxplot(results, labels=names, showmeans=True)\n",
        "pyplot.show()\n",
        "\n",
        "#Criou o meta modelo (stracking) que é um ensamble e retorno um resultado melhor. Agrupamento de outros algoritmos para fazer predição"
      ],
      "metadata": {
        "id": "hBiejerS6jg4",
        "colab": {
          "base_uri": "https://localhost:8080/",
          "height": 370
        },
        "outputId": "f3530ed7-b0a3-4a85-831a-71b169071459"
      },
      "execution_count": 7,
      "outputs": [
        {
          "output_type": "stream",
          "name": "stdout",
          "text": [
            ">lr 0.866 (0.029)\n",
            ">knn 0.931 (0.025)\n",
            ">cart 0.820 (0.046)\n",
            ">svm 0.957 (0.020)\n",
            ">bayes 0.833 (0.031)\n",
            ">stacking 0.963 (0.019)\n"
          ]
        },
        {
          "output_type": "display_data",
          "data": {
            "text/plain": [
              "<Figure size 432x288 with 1 Axes>"
            ],
            "image/png": "[encoded data removed]"
          },
          "metadata": {
            "needs_background": "light"
          }
        }
      ]
    },
    {
      "cell_type": "code",
      "source": [
        "# make a prediction with a stacking ensemble\n",
        "from sklearn.datasets import make_classification\n",
        "from sklearn.ensemble import StackingClassifier\n",
        "from sklearn.linear_model import LogisticRegression\n",
        "from sklearn.neighbors import KNeighborsClassifier\n",
        "from sklearn.tree import DecisionTreeClassifier\n",
        "from sklearn.svm import SVC\n",
        "from sklearn.naive_bayes import GaussianNB\n",
        "\n",
        "\n",
        "# define dataset\n",
        "X, y = make_classification(n_samples=1000, n_features=20, n_informative=15, n_redundant=5, random_state=1)\n",
        "# define the base models\n",
        "\n",
        "\n",
        "level0 = list()\n",
        "level0.append(('lr', LogisticRegression()))\n",
        "level0.append(('knn', KNeighborsClassifier()))\n",
        "level0.append(('cart', DecisionTreeClassifier()))\n",
        "level0.append(('svm', SVC()))\n",
        "level0.append(('bayes', GaussianNB()))\n",
        "\n",
        "\n",
        "# define meta learner model\n",
        "level1 = LogisticRegression()\n",
        "# define the stacking ensemble\n",
        "\n",
        "\n",
        "model = StackingClassifier(estimators=level0, final_estimator=level1, cv=5)\n",
        "# fit the model on all available data\n",
        "model.fit(X, y)\n",
        "\n",
        "\n",
        "###############################################################################################################\n",
        "# make a prediction for one example\n",
        "###############################################################################################################\n",
        "\n",
        "row = [2.47475454, 0.40165523, 1.68081787, 2.88940715, 0.91704519, -3.07950644, 4.39961206, 0.72464273, -4.86563631, -6.06338084, -1.22209949, -0.4699618, 1.01222748, -0.6899355, -0.53000581, 6.86966784, -3.27211075, -6.59044146, -2.21290585, -3.139579]\n",
        "yhat = model.predict([row])\n",
        "# summarize prediction\n",
        "print('Predicted Class: %d' % (yhat))\n",
        "\n",
        "\n"
      ],
      "metadata": {
        "colab": {
          "base_uri": "https://localhost:8080/"
        },
        "id": "9sdayjdW_VER",
        "outputId": "925b1158-6c48-45df-b98b-8479da6a0edd"
      },
      "execution_count": 8,
      "outputs": [
        {
          "output_type": "stream",
          "name": "stdout",
          "text": [
            "Predicted Class: 0\n"
          ]
        }
      ]
    }
  ]
}