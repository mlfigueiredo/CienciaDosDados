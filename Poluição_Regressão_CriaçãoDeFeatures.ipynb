{
  "nbformat": 4,
  "nbformat_minor": 0,
  "metadata": {
    "colab": {
      "provenance": [],
      "include_colab_link": true
    },
    "kernelspec": {
      "name": "python3",
      "display_name": "Python 3"
    },
    "language_info": {
      "name": "python"
    }
  },
  "cells": [
    {
      "cell_type": "markdown",
      "metadata": {
        "id": "view-in-github",
        "colab_type": "text"
      },
      "source": [
        "<a href=\"https://colab.research.google.com/github/mlfigueiredo/CienciaDosDados/blob/main/Polui%C3%A7%C3%A3o_Regress%C3%A3o_Cria%C3%A7%C3%A3oDeFeatures.ipynb\" target=\"_parent\"><img src=\"https://colab.research.google.com/assets/colab-badge.svg\" alt=\"Open In Colab\"/></a>"
      ]
    },
    {
      "cell_type": "markdown",
      "metadata": {
        "id": "Y7aU4xBjLljD"
      },
      "source": [
        "https://developers.google.com/earth-engine/datasets/catalog/sentinel-5p"
      ]
    },
    {
      "cell_type": "markdown",
      "metadata": {
        "id": "eoAPYvKPMx0R"
      },
      "source": [
        "# Compartilhamento é Lindo!"
      ]
    },
    {
      "cell_type": "markdown",
      "metadata": {
        "id": "jRVSoPqFMcct"
      },
      "source": [
        "![](https://cienciadosdados.com/images/2021/PROVA/sentinel.png)"
      ]
    },
    {
      "cell_type": "markdown",
      "metadata": {
        "id": "4MarHQo-MKB6"
      },
      "source": [
        "O instrumento de missão Sentinel-5 Precursor coleta dados úteis para avaliar a qualidade do ar. O instrumento TROPOMI é um sensor multiespectral que registra a refletância de comprimentos de onda importantes para medir as concentrações atmosféricas de ozônio, metano, formaldeído, aerossol, monóxido de carbono, óxido de nitrogênio e dióxido de enxofre, bem como características de nuvem em uma resolução espacial de 0,01 graus de arco."
      ]
    },
    {
      "cell_type": "markdown",
      "metadata": {
        "id": "HzatMATTMl5U"
      },
      "source": [
        "![](https://cienciadosdados.com/images/2021/PROVA/sentinel2.png)"
      ]
    },
    {
      "cell_type": "markdown",
      "metadata": {
        "id": "vTYdTngZMroP"
      },
      "source": [
        "![](https://cienciadosdados.com/images/2021/PROVA/sentinel3.png)"
      ]
    },
    {
      "cell_type": "markdown",
      "metadata": {
        "id": "zEouKKf0PyzU"
      },
      "source": [
        "## Tamanho do PM2.5\n",
        "![](https://i.pinimg.com/originals/68/8e/35/688e35cb3851f7af287527bca8c845cf.gif)\n"
      ]
    },
    {
      "cell_type": "markdown",
      "metadata": {
        "id": "JAdRUNOHSIUF"
      },
      "source": [
        "\n",
        "![](https://thumbs.gfycat.com/CluelessSkinnyCoati-size_restricted.gif)\n",
        "\n",
        "![](https://i.pinimg.com/originals/30/a9/94/30a9942b25358b19e1b8db2b473689b4.gif)"
      ]
    },
    {
      "cell_type": "markdown",
      "metadata": {
        "id": "aIzfJMnLPaaf"
      },
      "source": [
        "![](https://news.blr.com/app/uploads/sites/2/2019/04/ParticulateMatter_Health.jpg) ![](https://www.who.int/airpollution/household/pollutants/particulate-matter-healthimpacts.png) "
      ]
    },
    {
      "cell_type": "markdown",
      "metadata": {
        "id": "5cq0UgpZ8WCu"
      },
      "source": [
        "\n",
        "## **Formas de Prever a Poluição**\n",
        "\n",
        "O objetivo deste desafio para o Cientista de Dados é **prever a concentração de partículas de PM2,5 no ar todos os dias para cada cidade**.\n",
        "\n",
        "PM2.5 refere-se a partículas atmosféricas com diâmetro inferior a 2,5 micrômetros e é um dos poluentes atmosféricos mais nocivos. \n",
        "\n",
        "PM2.5 é uma medida comum de qualidade do ar que normalmente requer sensores baseados no solo para medir. \n",
        "\n",
        "Os dados cobrem os últimos três meses, abrangendo centenas de cidades em todo o mundo.\n",
        "\n"
      ]
    },
    {
      "cell_type": "markdown",
      "metadata": {
        "id": "CyuDPdgAOrkJ"
      },
      "source": [
        "![](https://2.bp.blogspot.com/-vG3806JOB18/XFKpVietyZI/AAAAAAAADds/5PsmY_66BjIUYm-4mrEifSdXJhfEChfsgCLcBGAs/s1600/2357f3ba-3350-4bfc-bde5-809ad1d8416d.gif)"
      ]
    },
    {
      "cell_type": "markdown",
      "metadata": {
        "id": "jKHfpAkFWCEV"
      },
      "source": [
        "\n",
        "Os dados vêm de três fontes principais:\n",
        "\n",
        "1. **Sensores de qualidade do ar baseados no solo**. Estes medem a variável alvo (concentração de partículas PM2,5). Além da coluna alvo (que é a concentração média diária) , também existem colunas para leituras mínimas e máximas naquele dia, a variação das leituras e o número total (contagem) de leituras do sensor usadas para calcular o valor alvo. \n",
        "\n",
        "2. **O Global Forecast System (GFS)** para dados meteorológicos. Umidade, temperatura e velocidade do vento, que podem ser usados ​​como dados de entrada para o seu modelo. https://developers.google.com/earth-engine/datasets/catalog/NOAA_GFS0P25\n",
        "\n",
        "3. **O satélite Sentinel 5P**. Este satélite monitora vários poluentes na atmosfera. Para cada poluente, consultamos os conjuntos de dados offline de Nível 3 (L3) disponíveis no Google Earth Engine (você pode ler mais sobre os produtos individuais aqui: https://developers.google.com/earth-engine/datasets/catalog/sentinel-5p). \n",
        "\n",
        "\n",
        "Para um determinado poluente, por exemplo NO2, fornecemos todos os dados do conjunto de dados do Sentinel 5P para esse poluente. Isso inclui as principais medições, como NO2_column_number_density (uma medida de concentração de NO2), bem como metadados, como a altitude do satélite. Recomendamos que você se concentre nas medições principais, seja column_number_density ou tropospheric_X_column_number_density (que mede a densidade mais perto da superfície da Terra)."
      ]
    },
    {
      "cell_type": "markdown",
      "metadata": {
        "id": "2LYCvIhMAxCZ"
      },
      "source": [
        "# Previsão de Queimadas..\n"
      ]
    },
    {
      "cell_type": "markdown",
      "metadata": {
        "id": "beNJ1-KVM88S"
      },
      "source": [
        "# 1° Problema de Negócio\n",
        "\n",
        "Não há como negar que a poluição do ar está impactando a natureza e o clima. Um valor de Índice de Qualidade do Ar ( AQI ) de 201 a 300 se traduz em condições de qualidade do ar muito insalubres para a sobrevivência, com altos níveis de preocupação com a saúde. Você, Cientista de Dados, foi convidado por entidades de proteção ambiental para ajudar no monitoramento do índice de poluição do ar em sua cidade para que eles possam tomar as medidas necessárias."
      ]
    },
    {
      "cell_type": "markdown",
      "metadata": {
        "id": "7fij3TtcM8-u"
      },
      "source": [
        "![](https://he-s3.s3.amazonaws.com/media/uploads/9b93cdd7-0930-4d09-bc8c-691a139b8d39.png)"
      ]
    },
    {
      "cell_type": "markdown",
      "metadata": {
        "id": "q_thE2xkM9A6"
      },
      "source": [
        "Devido ao aumento do número de veículos em sua cidade, o nível de poluição do ar está aumentando e, consequentemente, afetando a natureza. \n",
        "\n",
        "Você precisa construir uma Máquina Preditiva para prever o índice de poluição do ar com base nos dados históricos fornecidos para ajudar o governo e a sociedade a administrar essa parada."
      ]
    },
    {
      "cell_type": "markdown",
      "metadata": {
        "id": "A6-WxRRTOOUE"
      },
      "source": [
        "# 2° Análise Exploratória dos Dados"
      ]
    },
    {
      "cell_type": "markdown",
      "metadata": {
        "id": "P0d0rHhZM9EG"
      },
      "source": [
        "#Fonte de dados\n",
        "https://bit.ly/2Xasezb\n",
        "\n",
        "O conjunto de dados consiste em determinados parâmetros, como umidade, velocidade e direção do vento, temperatura, visibilidade e muito mais em uma data específica em um horário mencionado.\n",
        "\n",
        "Os benefícios de praticar este problema usando técnicas de aprendizado de máquina são os seguintes:\n",
        "\n",
        "Este desafio o incentivará a aplicar suas habilidades de aprendizado de máquina para construir modelos que possam prever o índice de poluição do ar com base em dados históricos do clima\n",
        "Este desafio o ajudará a aprimorar seu conhecimento sobre regressão baseada em séries temporais. A regressão é um dos blocos de construção básicos do aprendizado de máquina\n",
        "Desafiamos você a construir um modelo que preveja o índice de poluição do ar em um dia específico no futuro."
      ]
    },
    {
      "cell_type": "code",
      "metadata": {
        "id": "eTNnxybs4drI"
      },
      "source": [
        "# Importação de Pacotes\n",
        "import pandas as pd\n",
        "import numpy as np\n",
        "import matplotlib.pyplot as plt\n",
        "%matplotlib inline"
      ],
      "execution_count": 1,
      "outputs": []
    },
    {
      "cell_type": "code",
      "metadata": {
        "id": "CaxhTp4M4dt_"
      },
      "source": [
        "# Conexão com os DADOS\n",
        "train = pd.read_csv('/content/train.csv')\n",
        "test = pd.read_csv('/content/test.csv')"
      ],
      "execution_count": 2,
      "outputs": []
    },
    {
      "cell_type": "code",
      "metadata": {
        "colab": {
          "base_uri": "https://localhost:8080/"
        },
        "id": "JuufYiTtDtxv",
        "outputId": "6a06ee68-1223-40f3-ffa7-d3b797e6d033"
      },
      "source": [
        "train.info()"
      ],
      "execution_count": 3,
      "outputs": [
        {
          "output_type": "stream",
          "name": "stdout",
          "text": [
            "<class 'pandas.core.frame.DataFrame'>\n",
            "RangeIndex: 33750 entries, 0 to 33749\n",
            "Data columns (total 14 columns):\n",
            " #   Column               Non-Null Count  Dtype  \n",
            "---  ------               --------------  -----  \n",
            " 0   date_time            33750 non-null  object \n",
            " 1   is_holiday           33750 non-null  object \n",
            " 2   humidity             33750 non-null  int64  \n",
            " 3   wind_speed           33750 non-null  int64  \n",
            " 4   wind_direction       33750 non-null  int64  \n",
            " 5   visibility_in_miles  33750 non-null  int64  \n",
            " 6   dew_point            33750 non-null  int64  \n",
            " 7   temperature          33750 non-null  float64\n",
            " 8   rain_p_h             33750 non-null  float64\n",
            " 9   snow_p_h             33750 non-null  float64\n",
            " 10  clouds_all           33750 non-null  int64  \n",
            " 11  weather_type         33750 non-null  object \n",
            " 12  air_pollution_index  33750 non-null  int64  \n",
            " 13  traffic_volume       33750 non-null  int64  \n",
            "dtypes: float64(3), int64(8), object(3)\n",
            "memory usage: 3.6+ MB\n"
          ]
        }
      ]
    },
    {
      "cell_type": "code",
      "metadata": {
        "colab": {
          "base_uri": "https://localhost:8080/"
        },
        "id": "HYLxTGVdD7Fa",
        "outputId": "5799b519-ed15-4cf7-e8e8-afddb94b81db"
      },
      "source": [
        "test.info()"
      ],
      "execution_count": 4,
      "outputs": [
        {
          "output_type": "stream",
          "name": "stdout",
          "text": [
            "<class 'pandas.core.frame.DataFrame'>\n",
            "RangeIndex: 14454 entries, 0 to 14453\n",
            "Data columns (total 13 columns):\n",
            " #   Column               Non-Null Count  Dtype  \n",
            "---  ------               --------------  -----  \n",
            " 0   date_time            14454 non-null  object \n",
            " 1   is_holiday           14454 non-null  object \n",
            " 2   humidity             14454 non-null  int64  \n",
            " 3   wind_speed           14454 non-null  int64  \n",
            " 4   wind_direction       14454 non-null  int64  \n",
            " 5   visibility_in_miles  14454 non-null  int64  \n",
            " 6   dew_point            14454 non-null  int64  \n",
            " 7   temperature          14454 non-null  float64\n",
            " 8   rain_p_h             14454 non-null  float64\n",
            " 9   snow_p_h             14454 non-null  int64  \n",
            " 10  clouds_all           14454 non-null  int64  \n",
            " 11  weather_type         14454 non-null  object \n",
            " 12  traffic_volume       14454 non-null  int64  \n",
            "dtypes: float64(2), int64(8), object(3)\n",
            "memory usage: 1.4+ MB\n"
          ]
        }
      ]
    },
    {
      "cell_type": "code",
      "metadata": {
        "id": "gerzNxDQ4dwM",
        "colab": {
          "base_uri": "https://localhost:8080/",
          "height": 312
        },
        "outputId": "eb8fba74-8d1b-40bf-bf2f-abc4ddbcdc85"
      },
      "source": [
        "train.head(3)"
      ],
      "execution_count": 5,
      "outputs": [
        {
          "output_type": "execute_result",
          "data": {
            "text/plain": [
              "             date_time is_holiday  humidity  wind_speed  wind_direction  \\\n",
              "0  2012-10-02 09:00:00       None        89           2             329   \n",
              "1  2012-10-02 10:00:00       None        67           3             330   \n",
              "2  2012-10-02 11:00:00       None        66           3             329   \n",
              "\n",
              "   visibility_in_miles  dew_point  temperature  rain_p_h  snow_p_h  \\\n",
              "0                    1          1       288.28       0.0       0.0   \n",
              "1                    1          1       289.36       0.0       0.0   \n",
              "2                    2          2       289.58       0.0       0.0   \n",
              "\n",
              "   clouds_all weather_type  air_pollution_index  traffic_volume  \n",
              "0          40       Clouds                  121            5545  \n",
              "1          75       Clouds                  178            4516  \n",
              "2          90       Clouds                  113            4767  "
            ],
            "text/html": [
              "\n",
              "  <div id=\"df-f2a57185-df77-4f96-8ac1-50c4f82b2b45\">\n",
              "    <div class=\"colab-df-container\">\n",
              "      <div>\n",
              "<style scoped>\n",
              "    .dataframe tbody tr th:only-of-type {\n",
              "        vertical-align: middle;\n",
              "    }\n",
              "\n",
              "    .dataframe tbody tr th {\n",
              "        vertical-align: top;\n",
              "    }\n",
              "\n",
              "    .dataframe thead th {\n",
              "        text-align: right;\n",
              "    }\n",
              "</style>\n",
              "<table border=\"1\" class=\"dataframe\">\n",
              "  <thead>\n",
              "    <tr style=\"text-align: right;\">\n",
              "      <th></th>\n",
              "      <th>date_time</th>\n",
              "      <th>is_holiday</th>\n",
              "      <th>humidity</th>\n",
              "      <th>wind_speed</th>\n",
              "      <th>wind_direction</th>\n",
              "      <th>visibility_in_miles</th>\n",
              "      <th>dew_point</th>\n",
              "      <th>temperature</th>\n",
              "      <th>rain_p_h</th>\n",
              "      <th>snow_p_h</th>\n",
              "      <th>clouds_all</th>\n",
              "      <th>weather_type</th>\n",
              "      <th>air_pollution_index</th>\n",
              "      <th>traffic_volume</th>\n",
              "    </tr>\n",
              "  </thead>\n",
              "  <tbody>\n",
              "    <tr>\n",
              "      <th>0</th>\n",
              "      <td>2012-10-02 09:00:00</td>\n",
              "      <td>None</td>\n",
              "      <td>89</td>\n",
              "      <td>2</td>\n",
              "      <td>329</td>\n",
              "      <td>1</td>\n",
              "      <td>1</td>\n",
              "      <td>288.28</td>\n",
              "      <td>0.0</td>\n",
              "      <td>0.0</td>\n",
              "      <td>40</td>\n",
              "      <td>Clouds</td>\n",
              "      <td>121</td>\n",
              "      <td>5545</td>\n",
              "    </tr>\n",
              "    <tr>\n",
              "      <th>1</th>\n",
              "      <td>2012-10-02 10:00:00</td>\n",
              "      <td>None</td>\n",
              "      <td>67</td>\n",
              "      <td>3</td>\n",
              "      <td>330</td>\n",
              "      <td>1</td>\n",
              "      <td>1</td>\n",
              "      <td>289.36</td>\n",
              "      <td>0.0</td>\n",
              "      <td>0.0</td>\n",
              "      <td>75</td>\n",
              "      <td>Clouds</td>\n",
              "      <td>178</td>\n",
              "      <td>4516</td>\n",
              "    </tr>\n",
              "    <tr>\n",
              "      <th>2</th>\n",
              "      <td>2012-10-02 11:00:00</td>\n",
              "      <td>None</td>\n",
              "      <td>66</td>\n",
              "      <td>3</td>\n",
              "      <td>329</td>\n",
              "      <td>2</td>\n",
              "      <td>2</td>\n",
              "      <td>289.58</td>\n",
              "      <td>0.0</td>\n",
              "      <td>0.0</td>\n",
              "      <td>90</td>\n",
              "      <td>Clouds</td>\n",
              "      <td>113</td>\n",
              "      <td>4767</td>\n",
              "    </tr>\n",
              "  </tbody>\n",
              "</table>\n",
              "</div>\n",
              "      <button class=\"colab-df-convert\" onclick=\"convertToInteractive('df-f2a57185-df77-4f96-8ac1-50c4f82b2b45')\"\n",
              "              title=\"Convert this dataframe to an interactive table.\"\n",
              "              style=\"display:none;\">\n",
              "        \n",
              "  <svg xmlns=\"http://www.w3.org/2000/svg\" height=\"24px\"viewBox=\"0 0 24 24\"\n",
              "       width=\"24px\">\n",
              "    <path d=\"M0 0h24v24H0V0z\" fill=\"none\"/>\n",
              "    <path d=\"M18.56 5.44l.94 2.06.94-2.06 2.06-.94-2.06-.94-.94-2.06-.94 2.06-2.06.94zm-11 1L8.5 8.5l.94-2.06 2.06-.94-2.06-.94L8.5 2.5l-.94 2.06-2.06.94zm10 10l.94 2.06.94-2.06 2.06-.94-2.06-.94-.94-2.06-.94 2.06-2.06.94z\"/><path d=\"M17.41 7.96l-1.37-1.37c-.4-.4-.92-.59-1.43-.59-.52 0-1.04.2-1.43.59L10.3 9.45l-7.72 7.72c-.78.78-.78 2.05 0 2.83L4 21.41c.39.39.9.59 1.41.59.51 0 1.02-.2 1.41-.59l7.78-7.78 2.81-2.81c.8-.78.8-2.07 0-2.86zM5.41 20L4 18.59l7.72-7.72 1.47 1.35L5.41 20z\"/>\n",
              "  </svg>\n",
              "      </button>\n",
              "      \n",
              "  <style>\n",
              "    .colab-df-container {\n",
              "      display:flex;\n",
              "      flex-wrap:wrap;\n",
              "      gap: 12px;\n",
              "    }\n",
              "\n",
              "    .colab-df-convert {\n",
              "      background-color: #E8F0FE;\n",
              "      border: none;\n",
              "      border-radius: 50%;\n",
              "      cursor: pointer;\n",
              "      display: none;\n",
              "      fill: #1967D2;\n",
              "      height: 32px;\n",
              "      padding: 0 0 0 0;\n",
              "      width: 32px;\n",
              "    }\n",
              "\n",
              "    .colab-df-convert:hover {\n",
              "      background-color: #E2EBFA;\n",
              "      box-shadow: 0px 1px 2px rgba(60, 64, 67, 0.3), 0px 1px 3px 1px rgba(60, 64, 67, 0.15);\n",
              "      fill: #174EA6;\n",
              "    }\n",
              "\n",
              "    [theme=dark] .colab-df-convert {\n",
              "      background-color: #3B4455;\n",
              "      fill: #D2E3FC;\n",
              "    }\n",
              "\n",
              "    [theme=dark] .colab-df-convert:hover {\n",
              "      background-color: #434B5C;\n",
              "      box-shadow: 0px 1px 3px 1px rgba(0, 0, 0, 0.15);\n",
              "      filter: drop-shadow(0px 1px 2px rgba(0, 0, 0, 0.3));\n",
              "      fill: #FFFFFF;\n",
              "    }\n",
              "  </style>\n",
              "\n",
              "      <script>\n",
              "        const buttonEl =\n",
              "          document.querySelector('#df-f2a57185-df77-4f96-8ac1-50c4f82b2b45 button.colab-df-convert');\n",
              "        buttonEl.style.display =\n",
              "          google.colab.kernel.accessAllowed ? 'block' : 'none';\n",
              "\n",
              "        async function convertToInteractive(key) {\n",
              "          const element = document.querySelector('#df-f2a57185-df77-4f96-8ac1-50c4f82b2b45');\n",
              "          const dataTable =\n",
              "            await google.colab.kernel.invokeFunction('convertToInteractive',\n",
              "                                                     [key], {});\n",
              "          if (!dataTable) return;\n",
              "\n",
              "          const docLinkHtml = 'Like what you see? Visit the ' +\n",
              "            '<a target=\"_blank\" href=https://colab.research.google.com/notebooks/data_table.ipynb>data table notebook</a>'\n",
              "            + ' to learn more about interactive tables.';\n",
              "          element.innerHTML = '';\n",
              "          dataTable['output_type'] = 'display_data';\n",
              "          await google.colab.output.renderOutput(dataTable, element);\n",
              "          const docLink = document.createElement('div');\n",
              "          docLink.innerHTML = docLinkHtml;\n",
              "          element.appendChild(docLink);\n",
              "        }\n",
              "      </script>\n",
              "    </div>\n",
              "  </div>\n",
              "  "
            ]
          },
          "metadata": {},
          "execution_count": 5
        }
      ]
    },
    {
      "cell_type": "code",
      "metadata": {
        "colab": {
          "base_uri": "https://localhost:8080/",
          "height": 364
        },
        "id": "vt7EtyvkGVou",
        "outputId": "3cec6430-7f2f-4858-efc2-d68a5ad2ac58"
      },
      "source": [
        "train.describe()"
      ],
      "execution_count": 6,
      "outputs": [
        {
          "output_type": "execute_result",
          "data": {
            "text/plain": [
              "           humidity    wind_speed  wind_direction  visibility_in_miles  \\\n",
              "count  33750.000000  33750.000000    33750.000000         33750.000000   \n",
              "mean      71.209007      3.378193      199.471852             4.989748   \n",
              "std       16.852248      2.055792       99.841088             2.570021   \n",
              "min       13.000000      0.000000        0.000000             1.000000   \n",
              "25%       60.000000      2.000000      130.000000             3.000000   \n",
              "50%       72.000000      3.000000      200.000000             5.000000   \n",
              "75%       85.000000      5.000000      290.000000             7.000000   \n",
              "max      100.000000     16.000000      360.000000             9.000000   \n",
              "\n",
              "          dew_point   temperature      rain_p_h      snow_p_h    clouds_all  \\\n",
              "count  33750.000000  33750.000000  33750.000000  33750.000000  33750.000000   \n",
              "mean       4.989748    280.069587      0.448739      0.000318     50.458785   \n",
              "std        2.570021     13.415256     53.526500      0.009760     38.871734   \n",
              "min        1.000000      0.000000      0.000000      0.000000      0.000000   \n",
              "25%        3.000000    271.720000      0.000000      0.000000      1.000000   \n",
              "50%        5.000000    280.150000      0.000000      0.000000     64.000000   \n",
              "75%        7.000000    290.620000      0.000000      0.000000     90.000000   \n",
              "max        9.000000    308.240000   9831.300000      0.510000    100.000000   \n",
              "\n",
              "       air_pollution_index  traffic_volume  \n",
              "count         33750.000000    33750.000000  \n",
              "mean            154.841422     3240.118163  \n",
              "std              83.735515     1991.487289  \n",
              "min              10.000000        0.000000  \n",
              "25%              83.000000     1165.250000  \n",
              "50%             155.000000     3335.000000  \n",
              "75%             228.000000     4926.000000  \n",
              "max             299.000000     7280.000000  "
            ],
            "text/html": [
              "\n",
              "  <div id=\"df-65c88217-ba3b-4b57-babc-6ef21307b95f\">\n",
              "    <div class=\"colab-df-container\">\n",
              "      <div>\n",
              "<style scoped>\n",
              "    .dataframe tbody tr th:only-of-type {\n",
              "        vertical-align: middle;\n",
              "    }\n",
              "\n",
              "    .dataframe tbody tr th {\n",
              "        vertical-align: top;\n",
              "    }\n",
              "\n",
              "    .dataframe thead th {\n",
              "        text-align: right;\n",
              "    }\n",
              "</style>\n",
              "<table border=\"1\" class=\"dataframe\">\n",
              "  <thead>\n",
              "    <tr style=\"text-align: right;\">\n",
              "      <th></th>\n",
              "      <th>humidity</th>\n",
              "      <th>wind_speed</th>\n",
              "      <th>wind_direction</th>\n",
              "      <th>visibility_in_miles</th>\n",
              "      <th>dew_point</th>\n",
              "      <th>temperature</th>\n",
              "      <th>rain_p_h</th>\n",
              "      <th>snow_p_h</th>\n",
              "      <th>clouds_all</th>\n",
              "      <th>air_pollution_index</th>\n",
              "      <th>traffic_volume</th>\n",
              "    </tr>\n",
              "  </thead>\n",
              "  <tbody>\n",
              "    <tr>\n",
              "      <th>count</th>\n",
              "      <td>33750.000000</td>\n",
              "      <td>33750.000000</td>\n",
              "      <td>33750.000000</td>\n",
              "      <td>33750.000000</td>\n",
              "      <td>33750.000000</td>\n",
              "      <td>33750.000000</td>\n",
              "      <td>33750.000000</td>\n",
              "      <td>33750.000000</td>\n",
              "      <td>33750.000000</td>\n",
              "      <td>33750.000000</td>\n",
              "      <td>33750.000000</td>\n",
              "    </tr>\n",
              "    <tr>\n",
              "      <th>mean</th>\n",
              "      <td>71.209007</td>\n",
              "      <td>3.378193</td>\n",
              "      <td>199.471852</td>\n",
              "      <td>4.989748</td>\n",
              "      <td>4.989748</td>\n",
              "      <td>280.069587</td>\n",
              "      <td>0.448739</td>\n",
              "      <td>0.000318</td>\n",
              "      <td>50.458785</td>\n",
              "      <td>154.841422</td>\n",
              "      <td>3240.118163</td>\n",
              "    </tr>\n",
              "    <tr>\n",
              "      <th>std</th>\n",
              "      <td>16.852248</td>\n",
              "      <td>2.055792</td>\n",
              "      <td>99.841088</td>\n",
              "      <td>2.570021</td>\n",
              "      <td>2.570021</td>\n",
              "      <td>13.415256</td>\n",
              "      <td>53.526500</td>\n",
              "      <td>0.009760</td>\n",
              "      <td>38.871734</td>\n",
              "      <td>83.735515</td>\n",
              "      <td>1991.487289</td>\n",
              "    </tr>\n",
              "    <tr>\n",
              "      <th>min</th>\n",
              "      <td>13.000000</td>\n",
              "      <td>0.000000</td>\n",
              "      <td>0.000000</td>\n",
              "      <td>1.000000</td>\n",
              "      <td>1.000000</td>\n",
              "      <td>0.000000</td>\n",
              "      <td>0.000000</td>\n",
              "      <td>0.000000</td>\n",
              "      <td>0.000000</td>\n",
              "      <td>10.000000</td>\n",
              "      <td>0.000000</td>\n",
              "    </tr>\n",
              "    <tr>\n",
              "      <th>25%</th>\n",
              "      <td>60.000000</td>\n",
              "      <td>2.000000</td>\n",
              "      <td>130.000000</td>\n",
              "      <td>3.000000</td>\n",
              "      <td>3.000000</td>\n",
              "      <td>271.720000</td>\n",
              "      <td>0.000000</td>\n",
              "      <td>0.000000</td>\n",
              "      <td>1.000000</td>\n",
              "      <td>83.000000</td>\n",
              "      <td>1165.250000</td>\n",
              "    </tr>\n",
              "    <tr>\n",
              "      <th>50%</th>\n",
              "      <td>72.000000</td>\n",
              "      <td>3.000000</td>\n",
              "      <td>200.000000</td>\n",
              "      <td>5.000000</td>\n",
              "      <td>5.000000</td>\n",
              "      <td>280.150000</td>\n",
              "      <td>0.000000</td>\n",
              "      <td>0.000000</td>\n",
              "      <td>64.000000</td>\n",
              "      <td>155.000000</td>\n",
              "      <td>3335.000000</td>\n",
              "    </tr>\n",
              "    <tr>\n",
              "      <th>75%</th>\n",
              "      <td>85.000000</td>\n",
              "      <td>5.000000</td>\n",
              "      <td>290.000000</td>\n",
              "      <td>7.000000</td>\n",
              "      <td>7.000000</td>\n",
              "      <td>290.620000</td>\n",
              "      <td>0.000000</td>\n",
              "      <td>0.000000</td>\n",
              "      <td>90.000000</td>\n",
              "      <td>228.000000</td>\n",
              "      <td>4926.000000</td>\n",
              "    </tr>\n",
              "    <tr>\n",
              "      <th>max</th>\n",
              "      <td>100.000000</td>\n",
              "      <td>16.000000</td>\n",
              "      <td>360.000000</td>\n",
              "      <td>9.000000</td>\n",
              "      <td>9.000000</td>\n",
              "      <td>308.240000</td>\n",
              "      <td>9831.300000</td>\n",
              "      <td>0.510000</td>\n",
              "      <td>100.000000</td>\n",
              "      <td>299.000000</td>\n",
              "      <td>7280.000000</td>\n",
              "    </tr>\n",
              "  </tbody>\n",
              "</table>\n",
              "</div>\n",
              "      <button class=\"colab-df-convert\" onclick=\"convertToInteractive('df-65c88217-ba3b-4b57-babc-6ef21307b95f')\"\n",
              "              title=\"Convert this dataframe to an interactive table.\"\n",
              "              style=\"display:none;\">\n",
              "        \n",
              "  <svg xmlns=\"http://www.w3.org/2000/svg\" height=\"24px\"viewBox=\"0 0 24 24\"\n",
              "       width=\"24px\">\n",
              "    <path d=\"M0 0h24v24H0V0z\" fill=\"none\"/>\n",
              "    <path d=\"M18.56 5.44l.94 2.06.94-2.06 2.06-.94-2.06-.94-.94-2.06-.94 2.06-2.06.94zm-11 1L8.5 8.5l.94-2.06 2.06-.94-2.06-.94L8.5 2.5l-.94 2.06-2.06.94zm10 10l.94 2.06.94-2.06 2.06-.94-2.06-.94-.94-2.06-.94 2.06-2.06.94z\"/><path d=\"M17.41 7.96l-1.37-1.37c-.4-.4-.92-.59-1.43-.59-.52 0-1.04.2-1.43.59L10.3 9.45l-7.72 7.72c-.78.78-.78 2.05 0 2.83L4 21.41c.39.39.9.59 1.41.59.51 0 1.02-.2 1.41-.59l7.78-7.78 2.81-2.81c.8-.78.8-2.07 0-2.86zM5.41 20L4 18.59l7.72-7.72 1.47 1.35L5.41 20z\"/>\n",
              "  </svg>\n",
              "      </button>\n",
              "      \n",
              "  <style>\n",
              "    .colab-df-container {\n",
              "      display:flex;\n",
              "      flex-wrap:wrap;\n",
              "      gap: 12px;\n",
              "    }\n",
              "\n",
              "    .colab-df-convert {\n",
              "      background-color: #E8F0FE;\n",
              "      border: none;\n",
              "      border-radius: 50%;\n",
              "      cursor: pointer;\n",
              "      display: none;\n",
              "      fill: #1967D2;\n",
              "      height: 32px;\n",
              "      padding: 0 0 0 0;\n",
              "      width: 32px;\n",
              "    }\n",
              "\n",
              "    .colab-df-convert:hover {\n",
              "      background-color: #E2EBFA;\n",
              "      box-shadow: 0px 1px 2px rgba(60, 64, 67, 0.3), 0px 1px 3px 1px rgba(60, 64, 67, 0.15);\n",
              "      fill: #174EA6;\n",
              "    }\n",
              "\n",
              "    [theme=dark] .colab-df-convert {\n",
              "      background-color: #3B4455;\n",
              "      fill: #D2E3FC;\n",
              "    }\n",
              "\n",
              "    [theme=dark] .colab-df-convert:hover {\n",
              "      background-color: #434B5C;\n",
              "      box-shadow: 0px 1px 3px 1px rgba(0, 0, 0, 0.15);\n",
              "      filter: drop-shadow(0px 1px 2px rgba(0, 0, 0, 0.3));\n",
              "      fill: #FFFFFF;\n",
              "    }\n",
              "  </style>\n",
              "\n",
              "      <script>\n",
              "        const buttonEl =\n",
              "          document.querySelector('#df-65c88217-ba3b-4b57-babc-6ef21307b95f button.colab-df-convert');\n",
              "        buttonEl.style.display =\n",
              "          google.colab.kernel.accessAllowed ? 'block' : 'none';\n",
              "\n",
              "        async function convertToInteractive(key) {\n",
              "          const element = document.querySelector('#df-65c88217-ba3b-4b57-babc-6ef21307b95f');\n",
              "          const dataTable =\n",
              "            await google.colab.kernel.invokeFunction('convertToInteractive',\n",
              "                                                     [key], {});\n",
              "          if (!dataTable) return;\n",
              "\n",
              "          const docLinkHtml = 'Like what you see? Visit the ' +\n",
              "            '<a target=\"_blank\" href=https://colab.research.google.com/notebooks/data_table.ipynb>data table notebook</a>'\n",
              "            + ' to learn more about interactive tables.';\n",
              "          element.innerHTML = '';\n",
              "          dataTable['output_type'] = 'display_data';\n",
              "          await google.colab.output.renderOutput(dataTable, element);\n",
              "          const docLink = document.createElement('div');\n",
              "          docLink.innerHTML = docLinkHtml;\n",
              "          element.appendChild(docLink);\n",
              "        }\n",
              "      </script>\n",
              "    </div>\n",
              "  </div>\n",
              "  "
            ]
          },
          "metadata": {},
          "execution_count": 6
        }
      ]
    },
    {
      "cell_type": "code",
      "metadata": {
        "colab": {
          "base_uri": "https://localhost:8080/",
          "height": 371
        },
        "id": "pGv74FDpJlsw",
        "outputId": "b2ced4c3-3080-4827-b998-95c7ea6e50de"
      },
      "source": [
        "import seaborn as sns\n",
        "\n",
        "sns.heatmap(train.corr())"
      ],
      "execution_count": 7,
      "outputs": [
        {
          "output_type": "execute_result",
          "data": {
            "text/plain": [
              "<matplotlib.axes._subplots.AxesSubplot at 0x7fd7a3a92e80>"
            ]
          },
          "metadata": {},
          "execution_count": 7
        },
        {
          "output_type": "display_data",
          "data": {
            "text/plain": [
              "<Figure size 432x288 with 2 Axes>"
            ],
            "image/png": "[encoded data removed]"
          },
          "metadata": {
            "needs_background": "light"
          }
        }
      ]
    },
    {
      "cell_type": "code",
      "metadata": {
        "colab": {
          "base_uri": "https://localhost:8080/",
          "height": 265
        },
        "id": "LMriOTstJmIo",
        "outputId": "02a9aec1-d7eb-491f-e13a-5a02f8072f46"
      },
      "source": [
        "# boxplot\n",
        "sns.boxplot(data = train['clouds_all'], orient = \"h\");"
      ],
      "execution_count": null,
      "outputs": [
        {
          "output_type": "display_data",
          "data": {
            "image/png": "[encoded data removed]",
            "text/plain": [
              "<Figure size 432x288 with 1 Axes>"
            ]
          },
          "metadata": {
            "needs_background": "light"
          }
        }
      ]
    },
    {
      "cell_type": "code",
      "metadata": {
        "colab": {
          "base_uri": "https://localhost:8080/",
          "height": 265
        },
        "id": "rzYkapaPKuzo",
        "outputId": "f749ad32-421d-478d-9322-79883d2aa3d1"
      },
      "source": [
        "# boxplot\n",
        "sns.boxplot(data = train['air_pollution_index'], orient = \"h\");"
      ],
      "execution_count": null,
      "outputs": [
        {
          "output_type": "display_data",
          "data": {
            "image/png": "[encoded data removed]",
            "text/plain": [
              "<Figure size 432x288 with 1 Axes>"
            ]
          },
          "metadata": {
            "needs_background": "light"
          }
        }
      ]
    },
    {
      "cell_type": "code",
      "metadata": {
        "colab": {
          "base_uri": "https://localhost:8080/",
          "height": 296
        },
        "id": "-P07rm37Zpi8",
        "outputId": "2cb14919-54b1-46a5-e8ca-1f172390aacb"
      },
      "source": [
        "train.describe()\n",
        "sns.histplot(train.humidity)"
      ],
      "execution_count": null,
      "outputs": [
        {
          "output_type": "execute_result",
          "data": {
            "text/plain": [
              "<matplotlib.axes._subplots.AxesSubplot at 0x7f5846c83890>"
            ]
          },
          "metadata": {},
          "execution_count": 67
        },
        {
          "output_type": "display_data",
          "data": {
            "image/png": "[encoded data removed]",
            "text/plain": [
              "<Figure size 432x288 with 1 Axes>"
            ]
          },
          "metadata": {
            "needs_background": "light"
          }
        }
      ]
    },
    {
      "cell_type": "code",
      "metadata": {
        "colab": {
          "base_uri": "https://localhost:8080/",
          "height": 299
        },
        "id": "ZfNhAv4jajd0",
        "outputId": "dfe6f2f7-3228-4bf8-f6e9-d0eb12362dec"
      },
      "source": [
        "train.describe()\n",
        "sns.countplot(train.is_holiday)"
      ],
      "execution_count": null,
      "outputs": [
        {
          "output_type": "execute_result",
          "data": {
            "text/plain": [
              "<matplotlib.axes._subplots.AxesSubplot at 0x7f5846b89cd0>"
            ]
          },
          "metadata": {},
          "execution_count": 68
        },
        {
          "output_type": "display_data",
          "data": {
            "image/png": "[encoded data removed]",
            "text/plain": [
              "<Figure size 432x288 with 1 Axes>"
            ]
          },
          "metadata": {
            "needs_background": "light"
          }
        }
      ]
    },
    {
      "cell_type": "code",
      "metadata": {
        "id": "obkdGVnpAdJv",
        "colab": {
          "base_uri": "https://localhost:8080/"
        },
        "outputId": "c16180bb-d6e6-4c0f-dc12-575b3246d763"
      },
      "source": [
        "# Show breakdown of categorical feature sex\n",
        "train.is_holiday.value_counts()"
      ],
      "execution_count": null,
      "outputs": [
        {
          "output_type": "execute_result",
          "data": {
            "text/plain": [
              "None                         33707\n",
              "Christmas Day                    5\n",
              "New Years Day                    5\n",
              "Thanksgiving Day                 5\n",
              "Veterans Day                     4\n",
              "Labor Day                        4\n",
              "Columbus Day                     4\n",
              "Washingtons Birthday             4\n",
              "Independence Day                 3\n",
              "Martin Luther King Jr Day        3\n",
              "Memorial Day                     3\n",
              "State Fair                       3\n",
              "Name: is_holiday, dtype: int64"
            ]
          },
          "metadata": {},
          "execution_count": 69
        }
      ]
    },
    {
      "cell_type": "code",
      "metadata": {
        "colab": {
          "base_uri": "https://localhost:8080/",
          "height": 297
        },
        "id": "zwYb-iRUZ8Er",
        "outputId": "1aa5e0b6-0bb2-4449-b085-a06b7b1bfda4"
      },
      "source": [
        "train.describe()\n",
        "sns.histplot(train.wind_speed )"
      ],
      "execution_count": null,
      "outputs": [
        {
          "output_type": "execute_result",
          "data": {
            "text/plain": [
              "<matplotlib.axes._subplots.AxesSubplot at 0x7f5846ad0610>"
            ]
          },
          "metadata": {},
          "execution_count": 70
        },
        {
          "output_type": "display_data",
          "data": {
            "image/png": "[encoded data removed]",
            "text/plain": [
              "<Figure size 432x288 with 1 Axes>"
            ]
          },
          "metadata": {
            "needs_background": "light"
          }
        }
      ]
    },
    {
      "cell_type": "code",
      "metadata": {
        "colab": {
          "base_uri": "https://localhost:8080/",
          "height": 280
        },
        "id": "ANXCIkEQJmeI",
        "outputId": "c0482c0a-ac1d-4bfc-ad67-6864bca8bf99"
      },
      "source": [
        "# barplot\n",
        "sns.barplot(x = \"is_holiday\", y = \"air_pollution_index\", data = train);"
      ],
      "execution_count": null,
      "outputs": [
        {
          "output_type": "display_data",
          "data": {
            "image/png": "[encoded data removed]",
            "text/plain": [
              "<Figure size 432x288 with 1 Axes>"
            ]
          },
          "metadata": {
            "needs_background": "light"
          }
        }
      ]
    },
    {
      "cell_type": "code",
      "metadata": {
        "id": "Bh6JSagnJmg4",
        "colab": {
          "base_uri": "https://localhost:8080/",
          "height": 282
        },
        "outputId": "3d5d126a-c8ed-4f39-f4f0-b82446d9afdd"
      },
      "source": [
        "# countplot\n",
        "sns.countplot(x = \"is_holiday\", data = train, palette = \"Greens_d\");"
      ],
      "execution_count": 8,
      "outputs": [
        {
          "output_type": "display_data",
          "data": {
            "text/plain": [
              "<Figure size 432x288 with 1 Axes>"
            ],
            "image/png": "[encoded data removed]"
          },
          "metadata": {
            "needs_background": "light"
          }
        }
      ]
    },
    {
      "cell_type": "markdown",
      "metadata": {
        "id": "BGTwPrfiEQ1r"
      },
      "source": [
        "# 3° Pré-Processamento dos Dados"
      ]
    },
    {
      "cell_type": "code",
      "metadata": {
        "id": "0vecf7Vi4dys"
      },
      "source": [
        "train['visibility_in_miles_&_dew_point']=train['visibility_in_miles']/train['dew_point']"
      ],
      "execution_count": 9,
      "outputs": []
    },
    {
      "cell_type": "code",
      "metadata": {
        "id": "CJpkUiWF4d1d",
        "colab": {
          "base_uri": "https://localhost:8080/"
        },
        "outputId": "a9529dd1-f2d0-4f38-9b99-cf371bf724f3"
      },
      "source": [
        "train['visibility_in_miles_&_dew_point'].nunique()"
      ],
      "execution_count": 10,
      "outputs": [
        {
          "output_type": "execute_result",
          "data": {
            "text/plain": [
              "1"
            ]
          },
          "metadata": {},
          "execution_count": 10
        }
      ]
    },
    {
      "cell_type": "code",
      "metadata": {
        "id": "Ms-PlDT04d4Q"
      },
      "source": [
        "test['visibility_in_miles_&_dew_point']=test['visibility_in_miles']//test['dew_point']"
      ],
      "execution_count": 11,
      "outputs": []
    },
    {
      "cell_type": "code",
      "metadata": {
        "id": "IcVs1B8_4d7B",
        "colab": {
          "base_uri": "https://localhost:8080/"
        },
        "outputId": "32db951a-579a-41df-d345-60f482030b21"
      },
      "source": [
        "test['visibility_in_miles_&_dew_point'].nunique()"
      ],
      "execution_count": 12,
      "outputs": [
        {
          "output_type": "execute_result",
          "data": {
            "text/plain": [
              "1"
            ]
          },
          "metadata": {},
          "execution_count": 12
        }
      ]
    },
    {
      "cell_type": "code",
      "metadata": {
        "id": "WMPwF98P6wPq"
      },
      "source": [
        "# Eliminando variáveis idênticas\n",
        "del train['visibility_in_miles_&_dew_point']\n",
        "del test['visibility_in_miles_&_dew_point']\n",
        "del train['visibility_in_miles']\n",
        "del test['visibility_in_miles']"
      ],
      "execution_count": 13,
      "outputs": []
    },
    {
      "cell_type": "code",
      "metadata": {
        "id": "FN_mZ6AT6wSW"
      },
      "source": [
        "train['hum_ratio_temp']=train['temperature']/train['humidity']\n",
        "test['hum_ratio_temp']=test['temperature']/test['humidity']"
      ],
      "execution_count": 14,
      "outputs": []
    },
    {
      "cell_type": "code",
      "metadata": {
        "id": "wf_bh9FW6wU8"
      },
      "source": [
        "#train=train.drop(24872)"
      ],
      "execution_count": null,
      "outputs": []
    },
    {
      "cell_type": "code",
      "metadata": {
        "id": "z2LoraZt6wXh",
        "colab": {
          "base_uri": "https://localhost:8080/"
        },
        "outputId": "c7ebbe61-c5bc-45d1-d558-825fe4f801b1"
      },
      "source": [
        "train.isnull().sum(),test.isnull().sum()"
      ],
      "execution_count": 15,
      "outputs": [
        {
          "output_type": "execute_result",
          "data": {
            "text/plain": [
              "(date_time              0\n",
              " is_holiday             0\n",
              " humidity               0\n",
              " wind_speed             0\n",
              " wind_direction         0\n",
              " dew_point              0\n",
              " temperature            0\n",
              " rain_p_h               0\n",
              " snow_p_h               0\n",
              " clouds_all             0\n",
              " weather_type           0\n",
              " air_pollution_index    0\n",
              " traffic_volume         0\n",
              " hum_ratio_temp         0\n",
              " dtype: int64, date_time         0\n",
              " is_holiday        0\n",
              " humidity          0\n",
              " wind_speed        0\n",
              " wind_direction    0\n",
              " dew_point         0\n",
              " temperature       0\n",
              " rain_p_h          0\n",
              " snow_p_h          0\n",
              " clouds_all        0\n",
              " weather_type      0\n",
              " traffic_volume    0\n",
              " hum_ratio_temp    0\n",
              " dtype: int64)"
            ]
          },
          "metadata": {},
          "execution_count": 15
        }
      ]
    },
    {
      "cell_type": "markdown",
      "metadata": {
        "id": "BF2Y04v8HTcF"
      },
      "source": [
        "### Converter a temperatura de Kelvin para Celsios"
      ]
    },
    {
      "cell_type": "markdown",
      "metadata": {
        "id": "6pn476wvE4_E"
      },
      "source": [
        "![](data:image/jpeg;base64,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)"
      ]
    },
    {
      "cell_type": "code",
      "metadata": {
        "id": "4HK4TKYP6waE"
      },
      "source": [
        "train['temperature']=train['temperature']-273.15\n",
        "test['temperature']=test['temperature']-273.15"
      ],
      "execution_count": 16,
      "outputs": []
    },
    {
      "cell_type": "markdown",
      "metadata": {
        "id": "bUxkez5oHaOv"
      },
      "source": [
        "### Fazendo Label Encoder (convertento texto em número)"
      ]
    },
    {
      "cell_type": "code",
      "metadata": {
        "id": "Tno8gJ376wcM"
      },
      "source": [
        "\n",
        "loc = np.append(train['is_holiday'].values, test['is_holiday'].values, axis=0)\n",
        "\n",
        "from sklearn.preprocessing import LabelEncoder\n",
        "l=LabelEncoder()\n",
        "l.fit(list(set(loc)))\n",
        "train['is_holiday']=l.transform(train['is_holiday'])\n",
        "test['is_holiday']=l.transform(test['is_holiday'])"
      ],
      "execution_count": 17,
      "outputs": []
    },
    {
      "cell_type": "code",
      "metadata": {
        "id": "xO9aVEct6wgY"
      },
      "source": [
        "\n",
        "loc = np.append(train['weather_type'].values, test['weather_type'].values, axis=0)\n",
        "\n",
        "from sklearn.preprocessing import LabelEncoder\n",
        "l=LabelEncoder()\n",
        "l.fit(list(set(loc)))\n",
        "train['weather_type']=l.transform(train['weather_type'])\n",
        "test['weather_type']=l.transform(test['weather_type'])"
      ],
      "execution_count": 18,
      "outputs": []
    },
    {
      "cell_type": "markdown",
      "metadata": {
        "id": "mvNA7ob3Hjdb"
      },
      "source": [
        "### Transformando variáveis de Data/hora,para criar mais variáveis de Tempo"
      ]
    },
    {
      "cell_type": "code",
      "metadata": {
        "id": "PtYPaHPI6wjI",
        "colab": {
          "base_uri": "https://localhost:8080/"
        },
        "outputId": "fe3513c9-959f-456e-a18f-67f874bb8be9"
      },
      "source": [
        "# Base de Treino\n",
        "train['date_time'] = pd.to_datetime(train['date_time'])\n",
        "train['year'] = train['date_time'].dt.year\n",
        "train['day'] = train['date_time'].dt.day\n",
        "train['weekofyear'] = train['date_time'].dt.weekofyear\n",
        "train['month'] = train['date_time'].dt.month\n",
        "train['dayofweek'] = train['date_time'].dt.dayofweek\n",
        "train['weekend'] = (train['date_time'].dt.weekday >=5).astype(int)\n",
        "#df['days_since_release'] = (datetime.datetime(2021, 9, 11) - df['Timestamp']).dt.days\n",
        "train['hour'] = train['date_time'].dt.hour\n",
        "#train['minute'] = train['date_time'].dt.minute"
      ],
      "execution_count": 19,
      "outputs": [
        {
          "output_type": "stream",
          "name": "stderr",
          "text": [
            "<ipython-input-19-247324e67901>:5: FutureWarning: Series.dt.weekofyear and Series.dt.week have been deprecated.  Please use Series.dt.isocalendar().week instead.\n",
            "  train['weekofyear'] = train['date_time'].dt.weekofyear\n"
          ]
        }
      ]
    },
    {
      "cell_type": "code",
      "metadata": {
        "id": "UZLmrUb36wlg",
        "colab": {
          "base_uri": "https://localhost:8080/"
        },
        "outputId": "e99dafc8-f66f-4aef-bf97-fe490d2219c2"
      },
      "source": [
        "#Base de Test\n",
        "test['date_time'] = pd.to_datetime(test['date_time'])\n",
        "test['year'] = test['date_time'].dt.year\n",
        "test['day'] = test['date_time'].dt.day\n",
        "test['weekofyear'] = test['date_time'].dt.weekofyear\n",
        "test['month'] = test['date_time'].dt.month\n",
        "test['dayofweek'] = test['date_time'].dt.dayofweek\n",
        "test['weekend'] = (test['date_time'].dt.weekday >=5).astype(int)\n",
        "#df['days_since_release'] = (datetime.datetime(2019, 8, 1) - df['Timestamp']).dt.days\n",
        "test['hour'] = test['date_time'].dt.hour\n",
        "#test['minute'] = test['date_time'].dt.minute"
      ],
      "execution_count": 20,
      "outputs": [
        {
          "output_type": "stream",
          "name": "stderr",
          "text": [
            "<ipython-input-20-b02a5d790b5a>:5: FutureWarning: Series.dt.weekofyear and Series.dt.week have been deprecated.  Please use Series.dt.isocalendar().week instead.\n",
            "  test['weekofyear'] = test['date_time'].dt.weekofyear\n"
          ]
        }
      ]
    },
    {
      "cell_type": "code",
      "metadata": {
        "id": "84egPhXu6wqF",
        "colab": {
          "base_uri": "https://localhost:8080/"
        },
        "outputId": "b1da5d69-2942-4583-964d-346fea81601c"
      },
      "source": [
        "# Imprimindo para ver o campo transformado\n",
        "out1=test['date_time']\n",
        "out1"
      ],
      "execution_count": 21,
      "outputs": [
        {
          "output_type": "execute_result",
          "data": {
            "text/plain": [
              "0       2017-05-18 00:00:00\n",
              "1       2017-05-18 00:00:00\n",
              "2       2017-05-18 00:00:00\n",
              "3       2017-05-18 01:00:00\n",
              "4       2017-05-18 01:00:00\n",
              "                ...        \n",
              "14449   2018-09-30 19:00:00\n",
              "14450   2018-09-30 20:00:00\n",
              "14451   2018-09-30 21:00:00\n",
              "14452   2018-09-30 22:00:00\n",
              "14453   2018-09-30 23:00:00\n",
              "Name: date_time, Length: 14454, dtype: datetime64[ns]"
            ]
          },
          "metadata": {},
          "execution_count": 21
        }
      ]
    },
    {
      "cell_type": "code",
      "metadata": {
        "id": "DHdf7KwH6wtA"
      },
      "source": [
        "# Ignorando Alertas\n",
        "import warnings\n",
        "warnings.simplefilter(action='ignore', category=FutureWarning)"
      ],
      "execution_count": 22,
      "outputs": []
    },
    {
      "cell_type": "code",
      "metadata": {
        "id": "VRLUKnXD6wwc"
      },
      "source": [
        "# Deletando variável que não vamos usar\n",
        "del train['date_time']\n",
        "del test['date_time']"
      ],
      "execution_count": 23,
      "outputs": []
    },
    {
      "cell_type": "markdown",
      "metadata": {
        "id": "bBkBAGjNIKau"
      },
      "source": [
        "### Amostragem dos Dados"
      ]
    },
    {
      "cell_type": "code",
      "metadata": {
        "id": "hL_CIjlA7GH9"
      },
      "source": [
        "# Separando variáveis explicativas e o Target\n",
        "X = train.drop(labels=['air_pollution_index'], axis=1)\n",
        "y = train['air_pollution_index'].values\n",
        "\n",
        "# Separando os dados para Treinar e testar\n",
        "from sklearn.model_selection import train_test_split\n",
        "X_train, X_cv, y_train, y_cv = train_test_split(X, y, test_size=0.25, random_state=42)"
      ],
      "execution_count": 24,
      "outputs": []
    },
    {
      "cell_type": "code",
      "metadata": {
        "colab": {
          "base_uri": "https://localhost:8080/"
        },
        "id": "WpYBEP9m7GKx",
        "outputId": "911e478d-8396-4255-b81e-9fa7b101af83"
      },
      "source": [
        "# Dando uma olhada na shape das bases\n",
        "X_train.shape, y_train.shape, X_cv.shape, y_cv.shape"
      ],
      "execution_count": 25,
      "outputs": [
        {
          "output_type": "execute_result",
          "data": {
            "text/plain": [
              "((25312, 19), (25312,), (8438, 19), (8438,))"
            ]
          },
          "metadata": {},
          "execution_count": 25
        }
      ]
    },
    {
      "cell_type": "markdown",
      "metadata": {
        "id": "tFXCDhu0FGDk"
      },
      "source": [
        "# 4° Construção da Máquina Preditiva"
      ]
    },
    {
      "cell_type": "code",
      "metadata": {
        "id": "4_4evdXl7GP3",
        "colab": {
          "base_uri": "https://localhost:8080/"
        },
        "outputId": "22613ba0-5418-4ff4-8f67-aa6ba1820ada"
      },
      "source": [
        "# Criando uma Máquina Preditiva Regressora, pois iremos prever um valor que é um índice de poluição\n",
        "from sklearn.ensemble import GradientBoostingRegressor\n",
        "gb = GradientBoostingRegressor(verbose=100, learning_rate=0.1, n_estimators=100, random_state=101)\n",
        "gb.fit(X_train, y_train)\n",
        "y_pred = gb.predict(X_cv)\n"
      ],
      "execution_count": 26,
      "outputs": [
        {
          "output_type": "stream",
          "name": "stdout",
          "text": [
            "      Iter       Train Loss   Remaining Time \n",
            "         1        6983.0829            5.91s\n",
            "         2        6980.4103            5.79s\n",
            "         3        6977.9502            5.73s\n",
            "         4        6976.2866            5.85s\n",
            "         5        6974.8857            5.77s\n",
            "         6        6972.1712            5.84s\n",
            "         7        6969.6306            5.73s\n",
            "         8        6967.3294            6.00s\n",
            "         9        6965.8516            5.92s\n",
            "        10        6963.6689            5.81s\n",
            "        11        6961.5845            5.70s\n",
            "        12        6959.4784            5.64s\n",
            "        13        6957.3059            5.54s\n",
            "        14        6955.2651            5.44s\n",
            "        15        6952.3196            5.37s\n",
            "        16        6950.6823            5.34s\n",
            "        17        6948.6175            5.26s\n",
            "        18        6946.3937            5.17s\n",
            "        19        6944.5229            5.11s\n",
            "        20        6941.7092            5.03s\n",
            "        21        6940.6021            4.97s\n",
            "        22        6938.6178            4.91s\n",
            "        23        6937.4583            4.84s\n",
            "        24        6935.8574            4.78s\n",
            "        25        6934.1438            4.71s\n",
            "        26        6932.2406            4.64s\n",
            "        27        6930.9225            4.57s\n",
            "        28        6929.6109            4.50s\n",
            "        29        6928.1533            4.44s\n",
            "        30        6927.1392            4.37s\n",
            "        31        6925.5370            4.30s\n",
            "        32        6923.3424            4.23s\n",
            "        33        6921.5088            4.17s\n",
            "        34        6919.9485            4.10s\n",
            "        35        6918.8780            4.04s\n",
            "        36        6917.1152            3.98s\n",
            "        37        6915.4497            3.91s\n",
            "        38        6914.4054            3.85s\n",
            "        39        6912.6190            3.79s\n",
            "        40        6911.1096            3.74s\n",
            "        41        6909.2213            3.67s\n",
            "        42        6908.2858            3.61s\n",
            "        43        6907.2277            3.54s\n",
            "        44        6906.4288            3.47s\n",
            "        45        6904.5593            3.41s\n",
            "        46        6903.1240            3.35s\n",
            "        47        6900.5035            3.28s\n",
            "        48        6899.3085            3.22s\n",
            "        49        6898.4983            3.15s\n",
            "        50        6897.1136            3.09s\n",
            "        51        6895.4706            3.02s\n",
            "        52        6894.7112            2.96s\n",
            "        53        6893.3640            2.90s\n",
            "        54        6892.7237            2.84s\n",
            "        55        6891.3133            2.77s\n",
            "        56        6890.1661            2.71s\n",
            "        57        6887.2943            2.65s\n",
            "        58        6885.3644            2.59s\n",
            "        59        6883.9799            2.53s\n",
            "        60        6882.2418            2.46s\n",
            "        61        6879.8618            2.40s\n",
            "        62        6878.4158            2.34s\n",
            "        63        6877.0212            2.28s\n",
            "        64        6875.6701            2.21s\n",
            "        65        6874.3159            2.15s\n",
            "        66        6872.9564            2.09s\n",
            "        67        6871.3784            2.03s\n",
            "        68        6869.7064            1.97s\n",
            "        69        6869.1475            1.90s\n",
            "        70        6867.4177            1.84s\n",
            "        71        6866.7275            1.78s\n",
            "        72        6864.5804            1.72s\n",
            "        73        6863.9523            1.66s\n",
            "        74        6863.0827            1.59s\n",
            "        75        6862.4185            1.53s\n",
            "        76        6860.7940            1.47s\n",
            "        77        6858.6500            1.41s\n",
            "        78        6857.6618            1.35s\n",
            "        79        6855.5846            1.29s\n",
            "        80        6854.0787            1.23s\n",
            "        81        6852.2845            1.16s\n",
            "        82        6851.0409            1.10s\n",
            "        83        6849.4523            1.04s\n",
            "        84        6848.1130            0.98s\n",
            "        85        6846.7527            0.92s\n",
            "        86        6844.9272            0.86s\n",
            "        87        6844.2539            0.80s\n",
            "        88        6842.3207            0.73s\n",
            "        89        6840.3098            0.67s\n",
            "        90        6838.8230            0.61s\n",
            "        91        6836.7786            0.55s\n",
            "        92        6836.1904            0.49s\n",
            "        93        6834.1043            0.43s\n",
            "        94        6832.8871            0.37s\n",
            "        95        6831.5006            0.31s\n",
            "        96        6830.3676            0.25s\n",
            "        97        6829.1812            0.18s\n",
            "        98        6828.2222            0.12s\n",
            "        99        6826.5897            0.06s\n",
            "       100        6825.4263            0.00s\n"
          ]
        }
      ]
    },
    {
      "cell_type": "markdown",
      "metadata": {
        "id": "WAgOqGoAFWDU"
      },
      "source": [
        "# 5° Avaliação da Máquina Preditiva"
      ]
    },
    {
      "cell_type": "code",
      "metadata": {
        "id": "SJyzlaS2Fa9y"
      },
      "source": [
        "from math import sqrt \n",
        "from sklearn.metrics import mean_absolute_error"
      ],
      "execution_count": 27,
      "outputs": []
    },
    {
      "cell_type": "code",
      "metadata": {
        "colab": {
          "base_uri": "https://localhost:8080/"
        },
        "id": "E7vDYEi_FduZ",
        "outputId": "273078c6-67e2-43e5-b694-c48a045c4738"
      },
      "source": [
        "print('score', 100-sqrt(mean_absolute_error(y_cv, y_pred)))"
      ],
      "execution_count": 28,
      "outputs": [
        {
          "output_type": "stream",
          "name": "stdout",
          "text": [
            "score 91.43895711028998\n"
          ]
        }
      ]
    },
    {
      "cell_type": "markdown",
      "metadata": {
        "id": "obPjEGI2FZm0"
      },
      "source": [
        "#### Variáveis mais Importantes da Máquina Preditiva"
      ]
    },
    {
      "cell_type": "code",
      "metadata": {
        "id": "ie2CO7107GUK",
        "colab": {
          "base_uri": "https://localhost:8080/",
          "height": 729
        },
        "outputId": "0fe24b79-00ca-421a-8056-d06e97a5c864"
      },
      "source": [
        "import seaborn as sns\n",
        "feature_imp = pd.DataFrame(sorted(zip(gb.feature_importances_, X.columns), reverse=True)[:60], columns=['Value','Feature'])\n",
        "plt.figure(figsize=(12,10))\n",
        "sns.barplot(x=\"Value\", y=\"Feature\", data=feature_imp.sort_values(by=\"Value\", ascending=False))\n",
        "plt.title('Gradient Boosting Features')\n",
        "plt.tight_layout()\n",
        "plt.show()"
      ],
      "execution_count": 29,
      "outputs": [
        {
          "output_type": "display_data",
          "data": {
            "text/plain": [
              "<Figure size 864x720 with 1 Axes>"
            ],
            "image/png": "[encoded data removed]"
          },
          "metadata": {
            "needs_background": "light"
          }
        }
      ]
    }
  ]
}