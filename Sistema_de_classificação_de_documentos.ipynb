{
  "nbformat": 4,
  "nbformat_minor": 0,
  "metadata": {
    "anaconda-cloud": {},
    "kernelspec": {
      "display_name": "Python 3",
      "language": "python",
      "name": "python3"
    },
    "language_info": {
      "codemirror_mode": {
        "name": "ipython",
        "version": 3
      },
      "file_extension": ".py",
      "mimetype": "text/x-python",
      "name": "python",
      "nbconvert_exporter": "python",
      "pygments_lexer": "ipython3",
      "version": "3.7.3"
    },
    "colab": {
      "name": "Sistema de classificação de documentos.ipynb",
      "provenance": [],
      "include_colab_link": true
    },
    "accelerator": "TPU"
  },
  "cells": [
    {
      "cell_type": "markdown",
      "metadata": {
        "id": "view-in-github",
        "colab_type": "text"
      },
      "source": [
        "<a href=\"https://colab.research.google.com/github/mlfigueiredo/CienciaDosDados/blob/main/Sistema_de_classifica%C3%A7%C3%A3o_de_documentos.ipynb\" target=\"_parent\"><img src=\"https://colab.research.google.com/assets/colab-badge.svg\" alt=\"Open In Colab\"/></a>"
      ]
    },
    {
      "cell_type": "markdown",
      "metadata": {
        "id": "7oiQVQi0AJ6D"
      },
      "source": [
        "# <font color='blue'>Criando um Classificador de Documentos com PLN e Naive Bayes</font>"
      ]
    },
    {
      "cell_type": "markdown",
      "metadata": {
        "id": "ToGCnD72AJ6F"
      },
      "source": [
        "http://scikit-learn.org/stable/modules/naive_bayes.html"
      ]
    },
    {
      "cell_type": "markdown",
      "metadata": {
        "id": "m3aH5X2NAJ6H"
      },
      "source": [
        "# Multinomial Naive Bayes - Scikit-Learn"
      ]
    },
    {
      "cell_type": "markdown",
      "metadata": {
        "id": "eHDyIEocAJ6J"
      },
      "source": [
        "O classificador Multinomial Naive Bayes é adequado para classificação com variáveis discretas (por exemplo, contagens de palavras para a classificação de texto). A distribuição multinomial normalmente requer contagens de entidades inteiras. No entanto, na prática, contagens fracionadas (contagem de palavras) como tf-idf também podem funcionar."
      ]
    },
    {
      "cell_type": "markdown",
      "metadata": {
        "id": "uPce1d2wAJ6J"
      },
      "source": [
        "http://scikit-learn.org/stable/modules/generated/sklearn.naive_bayes.MultinomialNB.html"
      ]
    },
    {
      "cell_type": "markdown",
      "metadata": {
        "id": "lUDbp_boAJ6K"
      },
      "source": [
        "# Classificador de Documentos\n",
        "\n",
        "> Ex: Escritórios de Advocacia (milhões de petições...), Diagnósticos de Exames Laboratoriais (Sabin , Exame) - Pesquisas Acadêmicas, Relatório Financeiro de empresas de Capital aberto\n",
        "\n",
        "      \n",
        "\n"
      ]
    },
    {
      "cell_type": "markdown",
      "metadata": {
        "id": "Gx06sN2qAJ6L"
      },
      "source": [
        "http://qwone.com/~jason/20Newsgroups/"
      ]
    },
    {
      "cell_type": "code",
      "metadata": {
        "id": "ijA44JIfAJ6M"
      },
      "source": [
        "import numpy as np\n",
        "from sklearn.datasets import fetch_20newsgroups\n",
        "from sklearn.feature_extraction.text import CountVectorizer\n",
        "from sklearn.naive_bayes import MultinomialNB\n",
        "from sklearn.feature_extraction.text import TfidfTransformer\n",
        "from sklearn.pipeline import Pipeline\n",
        "from sklearn.model_selection import GridSearchCV\n",
        "from sklearn import metrics\n",
        "import warnings\n",
        "warnings.filterwarnings(\"ignore\", category=FutureWarning)"
      ],
      "execution_count": 2,
      "outputs": []
    },
    {
      "cell_type": "code",
      "metadata": {
        "id": "6Od8JbygBI4L",
        "colab": {
          "base_uri": "https://localhost:8080/"
        },
        "outputId": "99627224-5623-4c65-aaf5-55b6be8418b0"
      },
      "source": [
        "fetch_20newsgroups"
      ],
      "execution_count": 3,
      "outputs": [
        {
          "output_type": "execute_result",
          "data": {
            "text/plain": [
              "<function sklearn.datasets._twenty_newsgroups.fetch_20newsgroups>"
            ]
          },
          "metadata": {},
          "execution_count": 3
        }
      ]
    },
    {
      "cell_type": "code",
      "metadata": {
        "id": "F02-h1azAJ6R"
      },
      "source": [
        "# Definindo as categorias \n",
        "# (usando apenas 4 de um total de 20 disponível para que o processo de classificação seja mais rápido)\n",
        "categories = ['alt.atheism', 'soc.religion.christian', 'comp.graphics', 'sci.med']"
      ],
      "execution_count": 7,
      "outputs": []
    },
    {
      "cell_type": "code",
      "metadata": {
        "id": "iT-nKv0YAJ6W"
      },
      "source": [
        "# Treinamento\n",
        "twenty_train = fetch_20newsgroups(subset = 'train', categories = categories, shuffle = True, random_state = 42) "
      ],
      "execution_count": 8,
      "outputs": []
    },
    {
      "cell_type": "code",
      "metadata": {
        "id": "YeSaz7c4AJ6d",
        "colab": {
          "base_uri": "https://localhost:8080/"
        },
        "outputId": "ab148f10-6b5a-4dd5-9a7c-88ea4af7405b"
      },
      "source": [
        "# Classes\n",
        "twenty_train.target_names"
      ],
      "execution_count": 9,
      "outputs": [
        {
          "output_type": "execute_result",
          "data": {
            "text/plain": [
              "['alt.atheism', 'comp.graphics', 'sci.med', 'soc.religion.christian']"
            ]
          },
          "metadata": {},
          "execution_count": 9
        }
      ]
    },
    {
      "cell_type": "code",
      "metadata": {
        "id": "rk0BvspzAJ6k",
        "colab": {
          "base_uri": "https://localhost:8080/"
        },
        "outputId": "6b11d265-6cdc-4e20-8f60-d1ad16aff037"
      },
      "source": [
        "len(twenty_train.data)"
      ],
      "execution_count": 10,
      "outputs": [
        {
          "output_type": "execute_result",
          "data": {
            "text/plain": [
              "2257"
            ]
          },
          "metadata": {},
          "execution_count": 10
        }
      ]
    },
    {
      "cell_type": "code",
      "metadata": {
        "id": "HrQSbnKDAJ6q",
        "colab": {
          "base_uri": "https://localhost:8080/"
        },
        "outputId": "94f69001-9e56-45b7-824c-d533004cea5c"
      },
      "source": [
        "# Visualizando alguns dados (atributos)\n",
        "print(\"\\n\".join(twenty_train.data[0].split(\"\\n\")[:50]))"
      ],
      "execution_count": 15,
      "outputs": [
        {
          "output_type": "stream",
          "name": "stdout",
          "text": [
            "From: sd345@city.ac.uk (Michael Collier)\n",
            "Subject: Converting images to HP LaserJet III?\n",
            "Nntp-Posting-Host: hampton\n",
            "Organization: The City University\n",
            "Lines: 14\n",
            "\n",
            "Does anyone know of a good way (standard PC application/PD utility) to\n",
            "convert tif/img/tga files into LaserJet III format.  We would also like to\n",
            "do the same, converting to HPGL (HP plotter) files.\n",
            "\n",
            "Please email any response.\n",
            "\n",
            "Is this the correct group?\n",
            "\n",
            "Thanks in advance.  Michael.\n",
            "-- \n",
            "Michael Collier (Programmer)                 The Computer Unit,\n",
            "Email: M.P.Collier@uk.ac.city                The City University,\n",
            "Tel: 071 477-8000 x3769                      London,\n",
            "Fax: 071 477-8565                            EC1V 0HB.\n",
            "\n"
          ]
        }
      ]
    },
    {
      "cell_type": "code",
      "metadata": {
        "id": "-xoAaaaqAJ6z",
        "colab": {
          "base_uri": "https://localhost:8080/"
        },
        "outputId": "1fa36ec3-3738-4bfc-efb3-67b0bfea8c40"
      },
      "source": [
        "# Visualizando variáveis target\n",
        "print(twenty_train.target_names[twenty_train.target[0]])"
      ],
      "execution_count": 18,
      "outputs": [
        {
          "output_type": "stream",
          "name": "stdout",
          "text": [
            "comp.graphics\n"
          ]
        }
      ]
    },
    {
      "cell_type": "code",
      "metadata": {
        "id": "MHDqMkh7AJ64",
        "colab": {
          "base_uri": "https://localhost:8080/"
        },
        "outputId": "8ead4222-2c7a-4b11-fea7-7bc7e2398485"
      },
      "source": [
        "# O Scikit-Learn registra os labels como array de números, a fim de aumentar a velocidade\n",
        "twenty_train.target[:10]"
      ],
      "execution_count": 19,
      "outputs": [
        {
          "output_type": "execute_result",
          "data": {
            "text/plain": [
              "array([1, 1, 3, 3, 3, 3, 3, 2, 2, 2])"
            ]
          },
          "metadata": {},
          "execution_count": 19
        }
      ]
    },
    {
      "cell_type": "code",
      "metadata": {
        "id": "w5eZEM8EAJ6-",
        "colab": {
          "base_uri": "https://localhost:8080/"
        },
        "outputId": "6658d6eb-87d3-4248-d921-cc5d9d075933"
      },
      "source": [
        "# Visualizando as classes dos 10 primeiros registros\n",
        "for t in twenty_train.target[:10]:\n",
        "    print(twenty_train.target_names[t])"
      ],
      "execution_count": 20,
      "outputs": [
        {
          "output_type": "stream",
          "name": "stdout",
          "text": [
            "comp.graphics\n",
            "comp.graphics\n",
            "soc.religion.christian\n",
            "soc.religion.christian\n",
            "soc.religion.christian\n",
            "soc.religion.christian\n",
            "soc.religion.christian\n",
            "sci.med\n",
            "sci.med\n",
            "sci.med\n"
          ]
        }
      ]
    },
    {
      "cell_type": "markdown",
      "metadata": {
        "id": "2UsMbkmNAJ7D"
      },
      "source": [
        "# Bag of Words (Saco de Palavras)"
      ]
    },
    {
      "cell_type": "code",
      "metadata": {
        "id": "LY7XxUUwAJ7F",
        "outputId": "2243494f-4f70-48e4-ac65-dab8ea4b2314",
        "colab": {
          "base_uri": "https://localhost:8080/"
        }
      },
      "source": [
        "# Tokenizing: entrando em PLN, pega o documento e vai quebrando em paragrafos, frases e depois palavras e depois conta as palavras\n",
        "count_vect = CountVectorizer()\n",
        "X_train_counts = count_vect.fit_transform(twenty_train.data)\n",
        "count_vect.vocabulary_.get(u'algorithm')\n",
        "X_train_counts.shape"
      ],
      "execution_count": 35,
      "outputs": [
        {
          "output_type": "execute_result",
          "data": {
            "text/plain": [
              "(2257, 35788)"
            ]
          },
          "metadata": {},
          "execution_count": 35
        }
      ]
    },
    {
      "cell_type": "code",
      "metadata": {
        "id": "uPLwvCBhAJ7O",
        "outputId": "c277b877-206b-4c39-a7fd-61579a9f00ee",
        "colab": {
          "base_uri": "https://localhost:8080/"
        }
      },
      "source": [
        "# De ocorrências a frequências - Term Frequency times Inverse Document Frequency (Tfidf). Verificando a importância das palavras\n",
        "tf_transformer = TfidfTransformer(use_idf = False).fit(X_train_counts)\n",
        "X_train_tf = tf_transformer.transform(X_train_counts)\n",
        "X_train_tf.shape"
      ],
      "execution_count": 37,
      "outputs": [
        {
          "output_type": "execute_result",
          "data": {
            "text/plain": [
              "(2257, 35788)"
            ]
          },
          "metadata": {},
          "execution_count": 37
        }
      ]
    },
    {
      "cell_type": "code",
      "metadata": {
        "id": "6gj7RrdbAJ7T",
        "outputId": "041b91a8-9bac-47a5-c982-0bf76da82821",
        "colab": {
          "base_uri": "https://localhost:8080/"
        }
      },
      "source": [
        "# Mesmo resultado da célula anterior, mas combinando as funções. Verificando o cálculo da importância das palavras\n",
        "tfidf_transformer = TfidfTransformer()\n",
        "X_train_tfidf = tfidf_transformer.fit_transform(X_train_counts)\n",
        "X_train_tfidf.shape"
      ],
      "execution_count": 42,
      "outputs": [
        {
          "output_type": "execute_result",
          "data": {
            "text/plain": [
              "(2257, 35788)"
            ]
          },
          "metadata": {},
          "execution_count": 42
        }
      ]
    },
    {
      "cell_type": "code",
      "metadata": {
        "id": "wrpWXcRBAJ7Y"
      },
      "source": [
        "# Criando o modelo Multinomial\n",
        "clf = MultinomialNB().fit(X_train_tfidf, twenty_train.target)"
      ],
      "execution_count": 43,
      "outputs": []
    },
    {
      "cell_type": "code",
      "metadata": {
        "id": "XbCQpRraAJ7d",
        "outputId": "d9d1ad3d-2205-4bf0-fba8-e98ae306ebd2",
        "colab": {
          "base_uri": "https://localhost:8080/"
        }
      },
      "source": [
        "# Previsões\n",
        "docs_new = ['microsoft and internet']\n",
        "X_new_counts = count_vect.transform(docs_new)\n",
        "X_new_tfidf = tfidf_transformer.transform(X_new_counts)\n",
        "\n",
        "predicted = clf.predict(X_new_tfidf)\n",
        "\n",
        "for doc, category in zip(docs_new, predicted):\n",
        "    print('%r => %s' % (doc, twenty_train.target_names[category]))"
      ],
      "execution_count": 44,
      "outputs": [
        {
          "output_type": "stream",
          "name": "stdout",
          "text": [
            "'microsoft and internet' => comp.graphics\n"
          ]
        }
      ]
    },
    {
      "cell_type": "code",
      "metadata": {
        "id": "Q9fd9ikeAJ7g"
      },
      "source": [
        "# Criando um Pipeline - Classificador Composto. Podia colocar hiperparâmetros no pipeline\n",
        "# vectorizer => transformer => classifier \n",
        "text_clf = Pipeline([('vect', CountVectorizer()),\n",
        "                     ('tfidf', TfidfTransformer()),\n",
        "                     ('clf', MultinomialNB()),\n",
        "])"
      ],
      "execution_count": 46,
      "outputs": []
    },
    {
      "cell_type": "code",
      "metadata": {
        "id": "iFZrgbDbAJ7k"
      },
      "source": [
        "# Fit\n",
        "text_clf = text_clf.fit(twenty_train.data, twenty_train.target)"
      ],
      "execution_count": 47,
      "outputs": []
    },
    {
      "cell_type": "code",
      "metadata": {
        "id": "rgAxl2vuAJ7p",
        "outputId": "a71e4e7e-846a-415f-e3ab-3f2ad83d36ad",
        "colab": {
          "base_uri": "https://localhost:8080/"
        }
      },
      "source": [
        "# Acurácia do Modelo\n",
        "twenty_test = fetch_20newsgroups(subset = 'test', categories = categories, shuffle = True, random_state = 42)\n",
        "docs_test = twenty_test.data\n",
        "predicted = text_clf.predict(docs_test)\n",
        "np.mean(predicted == twenty_test.target)    "
      ],
      "execution_count": 49,
      "outputs": [
        {
          "output_type": "execute_result",
          "data": {
            "text/plain": [
              "0.8348868175765646"
            ]
          },
          "metadata": {},
          "execution_count": 49
        }
      ]
    },
    {
      "cell_type": "code",
      "metadata": {
        "id": "ssvMWGG-AJ7t",
        "outputId": "ae1fb7e5-27fd-4af6-a212-6e8f2303778f",
        "colab": {
          "base_uri": "https://localhost:8080/"
        }
      },
      "source": [
        "# Métricas\n",
        "print(metrics.classification_report(twenty_test.target, predicted, target_names = twenty_test.target_names))"
      ],
      "execution_count": 50,
      "outputs": [
        {
          "output_type": "stream",
          "name": "stdout",
          "text": [
            "                        precision    recall  f1-score   support\n",
            "\n",
            "           alt.atheism       0.97      0.60      0.74       319\n",
            "         comp.graphics       0.96      0.89      0.92       389\n",
            "               sci.med       0.97      0.81      0.88       396\n",
            "soc.religion.christian       0.65      0.99      0.78       398\n",
            "\n",
            "              accuracy                           0.83      1502\n",
            "             macro avg       0.89      0.82      0.83      1502\n",
            "          weighted avg       0.88      0.83      0.84      1502\n",
            "\n"
          ]
        }
      ]
    },
    {
      "cell_type": "code",
      "metadata": {
        "id": "ysjwM3e1AJ7w",
        "outputId": "12eceaeb-b193-4b1b-f0e5-fb4146004945",
        "colab": {
          "base_uri": "https://localhost:8080/"
        }
      },
      "source": [
        "# Confusion Matrix\n",
        "metrics.confusion_matrix(twenty_test.target, predicted)"
      ],
      "execution_count": 51,
      "outputs": [
        {
          "output_type": "execute_result",
          "data": {
            "text/plain": [
              "array([[192,   2,   6, 119],\n",
              "       [  2, 347,   4,  36],\n",
              "       [  2,  11, 322,  61],\n",
              "       [  2,   2,   1, 393]])"
            ]
          },
          "metadata": {},
          "execution_count": 51
        }
      ]
    },
    {
      "cell_type": "code",
      "metadata": {
        "id": "YZfNsw4iAJ7y"
      },
      "source": [
        "# Parâmetros para o GridSearchCV do Naive Bayes\n",
        "parameters = {'vect__ngram_range': [(1, 1), (1, 2)],\n",
        "              'tfidf__use_idf': (True, False),\n",
        "              'clf__alpha': (1e-2, 1e-3),\n",
        "}"
      ],
      "execution_count": 53,
      "outputs": []
    },
    {
      "cell_type": "code",
      "metadata": {
        "id": "ERYUdHs_AJ71"
      },
      "source": [
        "# GridSearchCV\n",
        "gs_clf = GridSearchCV(text_clf, parameters, n_jobs = -1)"
      ],
      "execution_count": 54,
      "outputs": []
    },
    {
      "cell_type": "code",
      "metadata": {
        "id": "hxkKtDH9AJ74"
      },
      "source": [
        "# Fit\n",
        "gs_clf = gs_clf.fit(twenty_train.data[:400], twenty_train.target[:400])"
      ],
      "execution_count": 55,
      "outputs": []
    },
    {
      "cell_type": "code",
      "metadata": {
        "id": "gsIu7ndhAJ78",
        "outputId": "1cbabce6-a4e7-412d-8f7a-0d92fc6fdd0f",
        "colab": {
          "base_uri": "https://localhost:8080/",
          "height": 35
        }
      },
      "source": [
        "# Teste\n",
        "twenty_train.target_names[gs_clf.predict(['good'])[0]]"
      ],
      "execution_count": 56,
      "outputs": [
        {
          "output_type": "execute_result",
          "data": {
            "text/plain": [
              "'soc.religion.christian'"
            ],
            "application/vnd.google.colaboratory.intrinsic+json": {
              "type": "string"
            }
          },
          "metadata": {},
          "execution_count": 56
        }
      ]
    },
    {
      "cell_type": "code",
      "metadata": {
        "id": "_N8AbcTqAJ8A",
        "outputId": "28f95f61-df4f-4665-bdca-a6dcd976c4dd",
        "colab": {
          "base_uri": "https://localhost:8080/"
        }
      },
      "source": [
        "# Score\n",
        "gs_clf.best_score_        "
      ],
      "execution_count": 57,
      "outputs": [
        {
          "output_type": "execute_result",
          "data": {
            "text/plain": [
              "0.9349999999999999"
            ]
          },
          "metadata": {},
          "execution_count": 57
        }
      ]
    },
    {
      "cell_type": "code",
      "metadata": {
        "id": "r2U0CjUQAJ8H",
        "outputId": "2359f30c-6ea9-41e1-f9c1-024cdb6234cb",
        "colab": {
          "base_uri": "https://localhost:8080/"
        }
      },
      "source": [
        "# Parâmetros utilizados\n",
        "for param_name in sorted(parameters.keys()):\n",
        "    print(\"%s: %r\" % (param_name, gs_clf.best_params_[param_name]))"
      ],
      "execution_count": 58,
      "outputs": [
        {
          "output_type": "stream",
          "name": "stdout",
          "text": [
            "clf__alpha: 0.01\n",
            "tfidf__use_idf: True\n",
            "vect__ngram_range: (1, 2)\n"
          ]
        }
      ]
    }
  ]
}