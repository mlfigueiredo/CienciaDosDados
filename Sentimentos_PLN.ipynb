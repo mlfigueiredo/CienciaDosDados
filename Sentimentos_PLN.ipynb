{
  "nbformat": 4,
  "nbformat_minor": 0,
  "metadata": {
    "colab": {
      "provenance": [],
      "authorship_tag": "ABX9TyPGeJpkN4Xg+N4f15MDWv10",
      "include_colab_link": true
    },
    "kernelspec": {
      "name": "python3",
      "display_name": "Python 3"
    },
    "language_info": {
      "name": "python"
    }
  },
  "cells": [
    {
      "cell_type": "markdown",
      "metadata": {
        "id": "view-in-github",
        "colab_type": "text"
      },
      "source": [
        "<a href=\"https://colab.research.google.com/github/mlfigueiredo/CienciaDosDados/blob/main/Sentimentos_PLN.ipynb\" target=\"_parent\"><img src=\"https://colab.research.google.com/assets/colab-badge.svg\" alt=\"Open In Colab\"/></a>"
      ]
    },
    {
      "cell_type": "markdown",
      "source": [
        "### **Análise de satisfação de cliente com PLN**"
      ],
      "metadata": {
        "id": "HdNTaFB3SX0d"
      }
    },
    {
      "cell_type": "code",
      "source": [
        "import streamlit as st\n",
        "import nltk\n",
        "\n",
        "st.write(\"Análise de satisfação do cliente\")\n",
        "user_input = st.text_input(\"Por favor, avalie o nosso atendimento : \")\n",
        "\n",
        "#Criação da máquina preditiva de satisfação do cliente\n",
        "from nltk.sentiment.vader import SentimentIntensityAnalyzer\n",
        "nltk.download(\"vader_lexicon\")\n",
        "s = SentimentIntensityAnalyzer()\n",
        "score = s.polarity_scores(user_input)\n",
        "\n",
        "if score == 0:\n",
        "  st.write(\" \")\n",
        "\n",
        "elif score[\"neg\"]!=0:\n",
        "  st.write(\"Análise negativa\")\n",
        "\n",
        "elif [\"pos\"]!=0:\n",
        "  st.write(\"Análise positiva\")"
      ],
      "metadata": {
        "id": "dBOuMK1ESSlk"
      },
      "execution_count": null,
      "outputs": []
    },
    {
      "cell_type": "code",
      "source": [
        "#Passos:\n",
        "#Salvo esse script com executável .py. Arquivo > Fazer download .py\n",
        "#Abro o arquivo .py no software VSCode\n",
        "#Vou no terminal do VSCode. Terminal > Novo terminal\n",
        "#Instalo o streamlit VSCode com: pip install streamlit\n",
        "#Instalo o nltk VSCode com: pip instal nltk\n",
        "# Executo a minha aplicação no terminal: streamlit run analise_pln.py\n",
        "# Resumo: copie esse código para o VSCode, instalo o streamlit, nltk e executo: streamlit run sentimentos_pln.py\n"
      ],
      "metadata": {
        "id": "asp4OVDRXsQj"
      },
      "execution_count": null,
      "outputs": []
    }
  ]
}