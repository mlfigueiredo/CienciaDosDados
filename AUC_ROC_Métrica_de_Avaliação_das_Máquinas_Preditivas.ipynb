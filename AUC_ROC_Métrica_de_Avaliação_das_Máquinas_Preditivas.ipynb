{
  "nbformat": 4,
  "nbformat_minor": 0,
  "metadata": {
    "colab": {
      "provenance": [],
      "collapsed_sections": [
        "jyOpEj9mIG6x",
        "zLIXXh7gINx1",
        "pTvorSv1IQyK",
        "zntllGJ2IVZv"
      ],
      "include_colab_link": true
    },
    "kernelspec": {
      "name": "python3",
      "display_name": "Python 3"
    }
  },
  "cells": [
    {
      "cell_type": "markdown",
      "metadata": {
        "id": "view-in-github",
        "colab_type": "text"
      },
      "source": [
        "<a href=\"https://colab.research.google.com/github/mlfigueiredo/CienciaDosDados/blob/main/AUC_ROC_M%C3%A9trica_de_Avalia%C3%A7%C3%A3o_das_M%C3%A1quinas_Preditivas.ipynb\" target=\"_parent\"><img src=\"https://colab.research.google.com/assets/colab-badge.svg\" alt=\"Open In Colab\"/></a>"
      ]
    },
    {
      "cell_type": "markdown",
      "metadata": {
        "id": "xpmZHxI0D2PX"
      },
      "source": [
        "# <font color='Grey'> AUC_ROC - Métrica de Avaliação das Máquinas Preditivas </font>\n",
        "\n",
        "####**Obs**: Aprendizagem Supervisionada Binária e Multi classes\n"
      ]
    },
    {
      "cell_type": "markdown",
      "metadata": {
        "id": "QuRi3i2bu9fp"
      },
      "source": [
        "![alt text](https://miro.medium.com/max/1028/1*tMIpJr1H84Pdb1-UxtCbCw.gif)\n",
        "\n",
        "![alt text](https://miro.medium.com/max/2400/1*Dz0AhFrL2U-Y3FJA8RUpKg.gif)\n",
        "\n",
        "\n"
      ]
    },
    {
      "cell_type": "markdown",
      "metadata": {
        "id": "B4Hqnj6rCjYq"
      },
      "source": [
        "#Entendendo os Componentes da Curva ROC"
      ]
    },
    {
      "cell_type": "markdown",
      "metadata": {
        "id": "cpjUBRQNCRIQ"
      },
      "source": [
        "## ![alt text](https://miro.medium.com/max/2102/1*fxiTNIgOyvAombPJx5KGeA.png)"
      ]
    },
    {
      "cell_type": "markdown",
      "metadata": {
        "id": "PKNa6dpbDA1p"
      },
      "source": [
        "##TPR (taxa de verdadeiro positivo)/  Sentitividade ou   Recall"
      ]
    },
    {
      "cell_type": "markdown",
      "metadata": {
        "id": "k7XhE9d4DRoB"
      },
      "source": [
        "![alt text](https://cdn.analyticsvidhya.com/wp-content/uploads/2020/06/sensitivity.gif)"
      ]
    },
    {
      "cell_type": "markdown",
      "metadata": {
        "id": "RjOEIPLODlrD"
      },
      "source": [
        "##FPR (taxa de falso positivo)"
      ]
    },
    {
      "cell_type": "markdown",
      "metadata": {
        "id": "R2FPGNxPDtsL"
      },
      "source": [
        "![alt text](https://cdn.analyticsvidhya.com/wp-content/uploads/2020/06/FPR.gif)"
      ]
    },
    {
      "cell_type": "markdown",
      "metadata": {
        "id": "xU23Sh22FJEV"
      },
      "source": [
        "### Especificidade"
      ]
    },
    {
      "cell_type": "markdown",
      "metadata": {
        "id": "dTyxgYDCFPJP"
      },
      "source": [
        "![alt text](https://cdn.analyticsvidhya.com/wp-content/uploads/2020/06/Specificity.gif)"
      ]
    },
    {
      "cell_type": "markdown",
      "metadata": {
        "id": "BeQxEirDFY4q"
      },
      "source": [
        "![alt text](https://cdn.analyticsvidhya.com/wp-content/uploads/2020/04/Basic-Confusion-matrix.png)"
      ]
    },
    {
      "cell_type": "markdown",
      "metadata": {
        "id": "Ahcd7HczGBoU"
      },
      "source": [
        "### FNR - Taxa de Falso Negativo"
      ]
    },
    {
      "cell_type": "markdown",
      "metadata": {
        "id": "Gev3FG--Ga_k"
      },
      "source": [
        "![alt text](https://cdn.analyticsvidhya.com/wp-content/uploads/2020/06/FNR.gif)"
      ]
    },
    {
      "cell_type": "markdown",
      "metadata": {
        "id": "OxlvemLJEpSg"
      },
      "source": [
        "# AUC - Area Under the Curve (ROC)"
      ]
    },
    {
      "cell_type": "markdown",
      "metadata": {
        "id": "A0ZdWS8KEv_1"
      },
      "source": [
        "![alt text](https://cdn.analyticsvidhya.com/wp-content/uploads/2020/06/AUC1.png)"
      ]
    },
    {
      "cell_type": "markdown",
      "metadata": {
        "id": "uKvCoukDInRV"
      },
      "source": [
        "### 1 - Problema de Negócio: Calcular a AUC_ROC"
      ]
    },
    {
      "cell_type": "markdown",
      "metadata": {
        "id": "jyOpEj9mIG6x"
      },
      "source": [
        "### 2 - Análise/Fonte de Dados"
      ]
    },
    {
      "cell_type": "code",
      "metadata": {
        "id": "197HB5LuuOkE"
      },
      "source": [
        "# auc roc curve\n",
        "from sklearn.datasets import make_classification\n",
        "from sklearn.model_selection import train_test_split"
      ],
      "execution_count": 1,
      "outputs": []
    },
    {
      "cell_type": "code",
      "source": [
        "make_classification"
      ],
      "metadata": {
        "colab": {
          "base_uri": "https://localhost:8080/"
        },
        "id": "0RytxSz209Dc",
        "outputId": "f583ab01-f724-4f8e-ddd9-94790c30fc18"
      },
      "execution_count": 5,
      "outputs": [
        {
          "output_type": "execute_result",
          "data": {
            "text/plain": [
              "<function sklearn.datasets._samples_generator.make_classification(n_samples=100, n_features=20, *, n_informative=2, n_redundant=2, n_repeated=0, n_classes=2, n_clusters_per_class=2, weights=None, flip_y=0.01, class_sep=1.0, hypercube=True, shift=0.0, scale=1.0, shuffle=True, random_state=None)>"
            ]
          },
          "metadata": {},
          "execution_count": 5
        }
      ]
    },
    {
      "cell_type": "markdown",
      "metadata": {
        "id": "zLIXXh7gINx1"
      },
      "source": [
        "### 3 - Pré-Processamento"
      ]
    },
    {
      "cell_type": "code",
      "metadata": {
        "id": "pQygGx-gHzZf"
      },
      "source": [
        "# generate two class dataset\n",
        "X, y = make_classification(n_samples=1000, n_classes=2, n_features=20, random_state=27)\n",
        "\n",
        "# split into train-test sets\n",
        "X_train, X_test, y_train, y_test = train_test_split(X, y, test_size=0.3, random_state=27)"
      ],
      "execution_count": 6,
      "outputs": []
    },
    {
      "cell_type": "code",
      "source": [
        "X"
      ],
      "metadata": {
        "colab": {
          "base_uri": "https://localhost:8080/"
        },
        "id": "a8wveyRp3bwD",
        "outputId": "64b93279-613c-4793-fe10-ebca13388b53"
      },
      "execution_count": 8,
      "outputs": [
        {
          "output_type": "execute_result",
          "data": {
            "text/plain": [
              "array([[-0.25820289,  1.0198078 ,  1.52456317, ...,  0.33272104,\n",
              "        -0.17540696,  1.50112422],\n",
              "       [-0.45816647,  0.82872793, -0.65696499, ...,  1.2019375 ,\n",
              "        -0.25583476, -0.19931278],\n",
              "       [-0.3873777 ,  0.76181785, -1.31035138, ..., -1.0332091 ,\n",
              "        -1.68667137, -0.76683607],\n",
              "       ...,\n",
              "       [-0.54779315, -0.67453913, -0.83464431, ...,  0.57821623,\n",
              "        -1.17254773,  1.08301901],\n",
              "       [ 0.5596188 , -0.62502523,  1.40453753, ..., -1.66951495,\n",
              "        -0.29276041,  0.48456871],\n",
              "       [-1.42487559,  0.52714552,  0.15786417, ...,  3.25163637,\n",
              "        -0.54779104, -1.51033252]])"
            ]
          },
          "metadata": {},
          "execution_count": 8
        }
      ]
    },
    {
      "cell_type": "code",
      "source": [
        "y"
      ],
      "metadata": {
        "colab": {
          "base_uri": "https://localhost:8080/"
        },
        "id": "1vQbDz7_3dxC",
        "outputId": "aa48925a-86f8-48e6-c4d2-4dd137e48fcf"
      },
      "execution_count": 9,
      "outputs": [
        {
          "output_type": "execute_result",
          "data": {
            "text/plain": [
              "array([1, 1, 1, 0, 0, 1, 1, 0, 1, 0, 0, 0, 1, 1, 1, 1, 0, 1, 1, 1, 0, 0,\n",
              "       0, 1, 1, 0, 0, 0, 0, 0, 1, 0, 1, 0, 1, 1, 1, 0, 0, 0, 0, 0, 1, 1,\n",
              "       0, 0, 0, 0, 1, 0, 0, 0, 1, 0, 0, 0, 0, 1, 1, 1, 1, 0, 0, 1, 0, 1,\n",
              "       0, 0, 0, 0, 1, 1, 1, 1, 0, 1, 0, 1, 1, 1, 1, 1, 0, 1, 0, 1, 0, 1,\n",
              "       1, 1, 0, 1, 0, 1, 0, 0, 1, 1, 1, 0, 0, 0, 1, 0, 0, 1, 1, 0, 0, 0,\n",
              "       0, 1, 0, 0, 1, 0, 1, 1, 1, 0, 0, 1, 1, 1, 1, 0, 0, 0, 1, 0, 1, 1,\n",
              "       1, 0, 1, 1, 0, 0, 1, 0, 0, 0, 1, 0, 0, 0, 0, 0, 0, 1, 1, 1, 0, 0,\n",
              "       0, 0, 0, 0, 0, 1, 1, 1, 0, 1, 1, 1, 0, 1, 0, 0, 1, 0, 0, 1, 1, 0,\n",
              "       1, 0, 1, 0, 0, 1, 1, 1, 1, 0, 0, 1, 0, 1, 0, 1, 1, 1, 1, 1, 0, 1,\n",
              "       0, 0, 1, 0, 0, 0, 0, 0, 0, 1, 1, 0, 1, 1, 0, 1, 1, 0, 0, 0, 1, 0,\n",
              "       1, 0, 0, 0, 0, 0, 0, 0, 1, 0, 1, 0, 0, 0, 1, 0, 1, 0, 1, 1, 1, 0,\n",
              "       0, 0, 1, 0, 0, 1, 1, 0, 0, 1, 0, 0, 1, 1, 1, 0, 0, 0, 0, 1, 0, 1,\n",
              "       0, 1, 1, 1, 0, 1, 1, 0, 0, 0, 1, 1, 0, 1, 0, 1, 1, 1, 1, 1, 1, 1,\n",
              "       0, 0, 0, 0, 0, 1, 0, 0, 0, 1, 0, 1, 1, 1, 1, 0, 0, 0, 1, 1, 1, 0,\n",
              "       0, 1, 0, 0, 0, 0, 0, 0, 1, 1, 0, 0, 0, 0, 0, 1, 0, 1, 0, 1, 0, 0,\n",
              "       0, 1, 1, 0, 1, 0, 0, 0, 1, 0, 1, 1, 1, 0, 0, 0, 1, 0, 1, 0, 0, 0,\n",
              "       1, 1, 1, 1, 1, 0, 1, 0, 1, 0, 0, 0, 0, 0, 0, 1, 1, 1, 1, 1, 1, 0,\n",
              "       1, 0, 0, 0, 0, 1, 1, 1, 0, 1, 1, 1, 1, 1, 1, 1, 0, 1, 0, 0, 0, 0,\n",
              "       0, 0, 0, 0, 1, 0, 0, 0, 1, 1, 0, 1, 0, 1, 1, 0, 0, 1, 0, 1, 0, 1,\n",
              "       1, 1, 1, 1, 0, 1, 1, 0, 1, 1, 1, 0, 0, 1, 1, 1, 1, 1, 1, 0, 0, 1,\n",
              "       1, 0, 1, 1, 1, 1, 1, 0, 0, 1, 0, 0, 1, 1, 1, 1, 0, 0, 1, 0, 1, 0,\n",
              "       1, 0, 1, 1, 0, 1, 1, 1, 1, 0, 0, 1, 1, 1, 0, 1, 1, 0, 1, 1, 0, 0,\n",
              "       1, 1, 0, 0, 0, 1, 1, 1, 0, 0, 1, 0, 0, 1, 1, 1, 1, 0, 0, 0, 1, 0,\n",
              "       0, 1, 1, 0, 0, 1, 1, 0, 0, 1, 0, 0, 0, 0, 1, 0, 0, 0, 0, 0, 0, 0,\n",
              "       1, 0, 1, 1, 1, 0, 0, 1, 0, 0, 1, 1, 0, 0, 0, 1, 1, 1, 1, 1, 0, 1,\n",
              "       0, 1, 0, 1, 0, 1, 0, 0, 1, 0, 0, 1, 0, 1, 0, 1, 1, 1, 1, 1, 0, 0,\n",
              "       0, 0, 1, 0, 1, 0, 0, 1, 1, 0, 0, 1, 1, 1, 0, 0, 1, 0, 0, 1, 1, 1,\n",
              "       0, 1, 1, 1, 0, 1, 1, 1, 1, 1, 1, 0, 0, 1, 1, 1, 1, 1, 0, 0, 0, 0,\n",
              "       0, 1, 1, 1, 0, 1, 0, 1, 0, 0, 0, 1, 0, 0, 0, 1, 0, 1, 0, 1, 1, 1,\n",
              "       1, 0, 1, 0, 1, 0, 1, 1, 0, 1, 1, 1, 1, 1, 1, 1, 1, 1, 1, 1, 0, 0,\n",
              "       0, 1, 1, 1, 0, 1, 0, 0, 0, 0, 0, 0, 0, 1, 0, 1, 1, 0, 0, 1, 1, 1,\n",
              "       1, 1, 0, 1, 0, 0, 1, 1, 0, 0, 0, 1, 0, 0, 1, 1, 0, 0, 0, 1, 1, 1,\n",
              "       0, 1, 0, 1, 1, 0, 0, 1, 1, 0, 1, 1, 1, 0, 0, 0, 0, 1, 1, 0, 0, 1,\n",
              "       1, 0, 0, 0, 0, 1, 0, 1, 1, 1, 1, 0, 1, 1, 0, 1, 1, 0, 0, 1, 1, 0,\n",
              "       0, 0, 0, 1, 0, 1, 1, 0, 1, 0, 0, 0, 0, 0, 0, 0, 1, 0, 0, 0, 0, 1,\n",
              "       1, 1, 0, 0, 1, 1, 0, 1, 1, 1, 1, 1, 0, 0, 0, 1, 0, 1, 0, 1, 1, 0,\n",
              "       1, 0, 1, 0, 0, 0, 1, 0, 0, 1, 0, 0, 1, 0, 0, 1, 1, 1, 1, 0, 1, 1,\n",
              "       0, 1, 0, 0, 1, 0, 1, 1, 0, 1, 0, 0, 1, 1, 1, 0, 1, 1, 1, 0, 1, 1,\n",
              "       1, 0, 1, 1, 0, 1, 1, 1, 0, 0, 0, 1, 1, 1, 0, 1, 1, 0, 0, 1, 0, 1,\n",
              "       0, 1, 0, 1, 1, 0, 0, 0, 0, 1, 1, 1, 0, 1, 0, 0, 0, 1, 0, 1, 0, 0,\n",
              "       1, 1, 0, 1, 0, 1, 0, 0, 0, 0, 0, 0, 0, 1, 1, 1, 1, 0, 1, 0, 0, 0,\n",
              "       0, 1, 0, 1, 0, 1, 1, 0, 0, 1, 1, 0, 0, 1, 0, 0, 1, 0, 0, 1, 1, 0,\n",
              "       0, 1, 1, 0, 1, 0, 1, 1, 1, 1, 1, 0, 0, 1, 1, 0, 1, 1, 1, 1, 1, 0,\n",
              "       1, 0, 0, 1, 0, 1, 0, 0, 0, 0, 1, 0, 0, 1, 0, 1, 0, 0, 1, 1, 1, 0,\n",
              "       1, 1, 0, 1, 1, 0, 1, 1, 0, 1, 1, 0, 1, 1, 0, 1, 0, 1, 0, 0, 0, 1,\n",
              "       0, 0, 0, 0, 1, 1, 0, 1, 0, 1])"
            ]
          },
          "metadata": {},
          "execution_count": 9
        }
      ]
    },
    {
      "cell_type": "markdown",
      "metadata": {
        "id": "pTvorSv1IQyK"
      },
      "source": [
        "### 4 - Criação da Máquina Preditiva"
      ]
    },
    {
      "cell_type": "code",
      "metadata": {
        "id": "MlA8Nq0LH5ag"
      },
      "source": [
        "# train models\n",
        "from sklearn.linear_model import LogisticRegression\n",
        "from sklearn.neighbors import KNeighborsClassifier\n",
        "\n",
        "# logistic regression\n",
        "model1 = LogisticRegression()\n",
        "# knn\n",
        "model2 = KNeighborsClassifier(n_neighbors=5)\n",
        "\n",
        "# fit model\n",
        "model1.fit(X_train, y_train)\n",
        "model2.fit(X_train, y_train)\n",
        "\n",
        "# predict probabilities\n",
        "pred_prob1 = model1.predict_proba(X_test)\n",
        "pred_prob2 = model2.predict_proba(X_test)"
      ],
      "execution_count": 13,
      "outputs": []
    },
    {
      "cell_type": "code",
      "source": [
        "pred_prob2"
      ],
      "metadata": {
        "colab": {
          "base_uri": "https://localhost:8080/"
        },
        "id": "iJZHkAC04o-M",
        "outputId": "cde6f5e8-2e0e-4315-86ba-86e7a7dcbae7"
      },
      "execution_count": 15,
      "outputs": [
        {
          "output_type": "execute_result",
          "data": {
            "text/plain": [
              "array([[0.4, 0.6],\n",
              "       [0.8, 0.2],\n",
              "       [0.2, 0.8],\n",
              "       [0.8, 0.2],\n",
              "       [0. , 1. ],\n",
              "       [1. , 0. ],\n",
              "       [1. , 0. ],\n",
              "       [0.8, 0.2],\n",
              "       [0.4, 0.6],\n",
              "       [0.4, 0.6],\n",
              "       [0.4, 0.6],\n",
              "       [1. , 0. ],\n",
              "       [0.6, 0.4],\n",
              "       [0.6, 0.4],\n",
              "       [0.8, 0.2],\n",
              "       [1. , 0. ],\n",
              "       [1. , 0. ],\n",
              "       [0. , 1. ],\n",
              "       [1. , 0. ],\n",
              "       [0.6, 0.4],\n",
              "       [0.8, 0.2],\n",
              "       [0.4, 0.6],\n",
              "       [1. , 0. ],\n",
              "       [0. , 1. ],\n",
              "       [0.6, 0.4],\n",
              "       [0.2, 0.8],\n",
              "       [0.2, 0.8],\n",
              "       [0.8, 0.2],\n",
              "       [1. , 0. ],\n",
              "       [1. , 0. ],\n",
              "       [1. , 0. ],\n",
              "       [0.6, 0.4],\n",
              "       [0.4, 0.6],\n",
              "       [0.2, 0.8],\n",
              "       [0.6, 0.4],\n",
              "       [0.2, 0.8],\n",
              "       [0.8, 0.2],\n",
              "       [0.8, 0.2],\n",
              "       [0.4, 0.6],\n",
              "       [0.8, 0.2],\n",
              "       [0.2, 0.8],\n",
              "       [0.4, 0.6],\n",
              "       [1. , 0. ],\n",
              "       [0. , 1. ],\n",
              "       [0. , 1. ],\n",
              "       [0. , 1. ],\n",
              "       [0.8, 0.2],\n",
              "       [0. , 1. ],\n",
              "       [0.6, 0.4],\n",
              "       [1. , 0. ],\n",
              "       [0.8, 0.2],\n",
              "       [0. , 1. ],\n",
              "       [0.2, 0.8],\n",
              "       [0.2, 0.8],\n",
              "       [0. , 1. ],\n",
              "       [1. , 0. ],\n",
              "       [0.4, 0.6],\n",
              "       [0.2, 0.8],\n",
              "       [0.2, 0.8],\n",
              "       [1. , 0. ],\n",
              "       [0. , 1. ],\n",
              "       [0.2, 0.8],\n",
              "       [0.6, 0.4],\n",
              "       [1. , 0. ],\n",
              "       [0. , 1. ],\n",
              "       [0.8, 0.2],\n",
              "       [1. , 0. ],\n",
              "       [0. , 1. ],\n",
              "       [0.8, 0.2],\n",
              "       [0.2, 0.8],\n",
              "       [0. , 1. ],\n",
              "       [0.2, 0.8],\n",
              "       [0.8, 0.2],\n",
              "       [1. , 0. ],\n",
              "       [0.6, 0.4],\n",
              "       [0.8, 0.2],\n",
              "       [0.4, 0.6],\n",
              "       [0.4, 0.6],\n",
              "       [0.2, 0.8],\n",
              "       [0. , 1. ],\n",
              "       [0.2, 0.8],\n",
              "       [0.2, 0.8],\n",
              "       [0.4, 0.6],\n",
              "       [0.6, 0.4],\n",
              "       [0.6, 0.4],\n",
              "       [1. , 0. ],\n",
              "       [0.6, 0.4],\n",
              "       [0.8, 0.2],\n",
              "       [0.2, 0.8],\n",
              "       [1. , 0. ],\n",
              "       [0.8, 0.2],\n",
              "       [0. , 1. ],\n",
              "       [0.6, 0.4],\n",
              "       [0.8, 0.2],\n",
              "       [0.6, 0.4],\n",
              "       [0.8, 0.2],\n",
              "       [1. , 0. ],\n",
              "       [0. , 1. ],\n",
              "       [0.8, 0.2],\n",
              "       [0.8, 0.2],\n",
              "       [1. , 0. ],\n",
              "       [1. , 0. ],\n",
              "       [0.2, 0.8],\n",
              "       [1. , 0. ],\n",
              "       [0.4, 0.6],\n",
              "       [0. , 1. ],\n",
              "       [0.6, 0.4],\n",
              "       [0.8, 0.2],\n",
              "       [0.8, 0.2],\n",
              "       [1. , 0. ],\n",
              "       [0. , 1. ],\n",
              "       [0.6, 0.4],\n",
              "       [0.8, 0.2],\n",
              "       [0.8, 0.2],\n",
              "       [0.2, 0.8],\n",
              "       [0.2, 0.8],\n",
              "       [0.4, 0.6],\n",
              "       [0. , 1. ],\n",
              "       [1. , 0. ],\n",
              "       [0.4, 0.6],\n",
              "       [0.6, 0.4],\n",
              "       [1. , 0. ],\n",
              "       [1. , 0. ],\n",
              "       [0. , 1. ],\n",
              "       [0.8, 0.2],\n",
              "       [0.4, 0.6],\n",
              "       [1. , 0. ],\n",
              "       [0.8, 0.2],\n",
              "       [0.8, 0.2],\n",
              "       [0.2, 0.8],\n",
              "       [0.8, 0.2],\n",
              "       [1. , 0. ],\n",
              "       [0.8, 0.2],\n",
              "       [0.8, 0.2],\n",
              "       [0. , 1. ],\n",
              "       [0.8, 0.2],\n",
              "       [0.8, 0.2],\n",
              "       [1. , 0. ],\n",
              "       [0.2, 0.8],\n",
              "       [0. , 1. ],\n",
              "       [0.6, 0.4],\n",
              "       [0. , 1. ],\n",
              "       [0.2, 0.8],\n",
              "       [0.4, 0.6],\n",
              "       [0.6, 0.4],\n",
              "       [0.2, 0.8],\n",
              "       [1. , 0. ],\n",
              "       [1. , 0. ],\n",
              "       [0.8, 0.2],\n",
              "       [0. , 1. ],\n",
              "       [0.2, 0.8],\n",
              "       [0. , 1. ],\n",
              "       [0.6, 0.4],\n",
              "       [0.2, 0.8],\n",
              "       [0.4, 0.6],\n",
              "       [0.2, 0.8],\n",
              "       [0.8, 0.2],\n",
              "       [0. , 1. ],\n",
              "       [0.6, 0.4],\n",
              "       [0.6, 0.4],\n",
              "       [0. , 1. ],\n",
              "       [1. , 0. ],\n",
              "       [0.6, 0.4],\n",
              "       [0.6, 0.4],\n",
              "       [0.8, 0.2],\n",
              "       [0. , 1. ],\n",
              "       [0.4, 0.6],\n",
              "       [0.4, 0.6],\n",
              "       [0. , 1. ],\n",
              "       [1. , 0. ],\n",
              "       [1. , 0. ],\n",
              "       [0. , 1. ],\n",
              "       [0. , 1. ],\n",
              "       [0. , 1. ],\n",
              "       [0.2, 0.8],\n",
              "       [0.8, 0.2],\n",
              "       [0. , 1. ],\n",
              "       [0.4, 0.6],\n",
              "       [0. , 1. ],\n",
              "       [0. , 1. ],\n",
              "       [0. , 1. ],\n",
              "       [0.2, 0.8],\n",
              "       [0.6, 0.4],\n",
              "       [0.6, 0.4],\n",
              "       [0.4, 0.6],\n",
              "       [0.6, 0.4],\n",
              "       [1. , 0. ],\n",
              "       [0.8, 0.2],\n",
              "       [0. , 1. ],\n",
              "       [0. , 1. ],\n",
              "       [0.6, 0.4],\n",
              "       [0.4, 0.6],\n",
              "       [0.6, 0.4],\n",
              "       [1. , 0. ],\n",
              "       [0.6, 0.4],\n",
              "       [0.4, 0.6],\n",
              "       [0.8, 0.2],\n",
              "       [1. , 0. ],\n",
              "       [1. , 0. ],\n",
              "       [0.8, 0.2],\n",
              "       [1. , 0. ],\n",
              "       [0.6, 0.4],\n",
              "       [0. , 1. ],\n",
              "       [0. , 1. ],\n",
              "       [1. , 0. ],\n",
              "       [0. , 1. ],\n",
              "       [1. , 0. ],\n",
              "       [1. , 0. ],\n",
              "       [0.2, 0.8],\n",
              "       [0.2, 0.8],\n",
              "       [1. , 0. ],\n",
              "       [0. , 1. ],\n",
              "       [0.6, 0.4],\n",
              "       [0.4, 0.6],\n",
              "       [0.8, 0.2],\n",
              "       [0. , 1. ],\n",
              "       [0. , 1. ],\n",
              "       [0.4, 0.6],\n",
              "       [1. , 0. ],\n",
              "       [1. , 0. ],\n",
              "       [0. , 1. ],\n",
              "       [0. , 1. ],\n",
              "       [0. , 1. ],\n",
              "       [0.8, 0.2],\n",
              "       [0. , 1. ],\n",
              "       [0.2, 0.8],\n",
              "       [0.8, 0.2],\n",
              "       [0.6, 0.4],\n",
              "       [1. , 0. ],\n",
              "       [1. , 0. ],\n",
              "       [0.8, 0.2],\n",
              "       [0.8, 0.2],\n",
              "       [0. , 1. ],\n",
              "       [0.2, 0.8],\n",
              "       [0.6, 0.4],\n",
              "       [0.8, 0.2],\n",
              "       [0.2, 0.8],\n",
              "       [1. , 0. ],\n",
              "       [0.6, 0.4],\n",
              "       [0. , 1. ],\n",
              "       [0.8, 0.2],\n",
              "       [0.2, 0.8],\n",
              "       [1. , 0. ],\n",
              "       [0.2, 0.8],\n",
              "       [0.2, 0.8],\n",
              "       [1. , 0. ],\n",
              "       [0.6, 0.4],\n",
              "       [0.6, 0.4],\n",
              "       [0.4, 0.6],\n",
              "       [0.8, 0.2],\n",
              "       [1. , 0. ],\n",
              "       [1. , 0. ],\n",
              "       [0.8, 0.2],\n",
              "       [0.6, 0.4],\n",
              "       [0.8, 0.2],\n",
              "       [1. , 0. ],\n",
              "       [0. , 1. ],\n",
              "       [0.8, 0.2],\n",
              "       [0. , 1. ],\n",
              "       [0. , 1. ],\n",
              "       [0.8, 0.2],\n",
              "       [0. , 1. ],\n",
              "       [0. , 1. ],\n",
              "       [1. , 0. ],\n",
              "       [0.6, 0.4],\n",
              "       [0.6, 0.4],\n",
              "       [0.4, 0.6],\n",
              "       [0.2, 0.8],\n",
              "       [0.8, 0.2],\n",
              "       [0.6, 0.4],\n",
              "       [1. , 0. ],\n",
              "       [0.8, 0.2],\n",
              "       [0.4, 0.6],\n",
              "       [1. , 0. ],\n",
              "       [0.2, 0.8],\n",
              "       [0. , 1. ],\n",
              "       [0.8, 0.2],\n",
              "       [0.4, 0.6],\n",
              "       [0. , 1. ],\n",
              "       [1. , 0. ],\n",
              "       [1. , 0. ],\n",
              "       [0.2, 0.8],\n",
              "       [0.2, 0.8],\n",
              "       [1. , 0. ],\n",
              "       [0.2, 0.8],\n",
              "       [0.2, 0.8],\n",
              "       [0.6, 0.4],\n",
              "       [0.2, 0.8],\n",
              "       [1. , 0. ],\n",
              "       [0.6, 0.4],\n",
              "       [0. , 1. ],\n",
              "       [0. , 1. ],\n",
              "       [0.6, 0.4],\n",
              "       [0.4, 0.6],\n",
              "       [0.8, 0.2],\n",
              "       [1. , 0. ],\n",
              "       [0. , 1. ],\n",
              "       [0. , 1. ],\n",
              "       [0. , 1. ],\n",
              "       [0.6, 0.4]])"
            ]
          },
          "metadata": {},
          "execution_count": 15
        }
      ]
    },
    {
      "cell_type": "markdown",
      "metadata": {
        "id": "zntllGJ2IVZv"
      },
      "source": [
        "### 5 - Avaliação da Máquina"
      ]
    },
    {
      "cell_type": "code",
      "metadata": {
        "id": "TxPrgY1kH9I0"
      },
      "source": [
        "from sklearn.metrics import roc_curve\n",
        "\n",
        "# roc curve for models\n",
        "fpr1, tpr1, thresh1 = roc_curve(y_test, pred_prob1[:,1], pos_label=1)\n",
        "fpr2, tpr2, thresh2 = roc_curve(y_test, pred_prob2[:,1], pos_label=1)\n",
        "\n",
        "# roc curve for tpr = fpr \n",
        "random_probs = [0 for i in range(len(y_test))]\n",
        "p_fpr, p_tpr, _ = roc_curve(y_test, random_probs, pos_label=1)\n"
      ],
      "execution_count": 16,
      "outputs": []
    },
    {
      "cell_type": "code",
      "metadata": {
        "colab": {
          "base_uri": "https://localhost:8080/",
          "height": 376
        },
        "id": "VagI8i8j0N0N",
        "outputId": "6f641338-2b55-4b6f-cb32-b18bdf30b9f7"
      },
      "source": [
        "# multi-class classification\n",
        "import matplotlib.pyplot as plt\n",
        "plt.style.use('seaborn')\n",
        "\n",
        "# plot roc curves\n",
        "plt.plot(fpr1, tpr1, linestyle='--',color='orange', label='Logistic Regression')\n",
        "plt.plot(fpr2, tpr2, linestyle='--',color='green', label='KNN')\n",
        "plt.plot(p_fpr, p_tpr, linestyle='--', color='blue')\n",
        "# title\n",
        "plt.title('ROC curve')\n",
        "# x label\n",
        "plt.xlabel('False Positive Rate')\n",
        "# y label\n",
        "plt.ylabel('True Positive rate')\n",
        "\n",
        "plt.legend(loc='best')\n",
        "plt.savefig('ROC',dpi=300)\n",
        "plt.show();"
      ],
      "execution_count": 19,
      "outputs": [
        {
          "output_type": "display_data",
          "data": {
            "text/plain": [
              "<Figure size 576x396 with 1 Axes>"
            ],
            "image/png": "[encoded data removed]"
          },
          "metadata": {}
        }
      ]
    },
    {
      "cell_type": "code",
      "metadata": {
        "id": "pajKLltXICFR",
        "colab": {
          "base_uri": "https://localhost:8080/"
        },
        "outputId": "c1fe06d8-42cc-4410-9928-2b91dd462c43"
      },
      "source": [
        "from sklearn.metrics import roc_auc_score\n",
        "# auc scores\n",
        "auc_score1 = roc_auc_score(y_test, pred_prob1[:,1])\n",
        "auc_score2 = roc_auc_score(y_test, pred_prob2[:,1])\n",
        "\n",
        "print(auc_score1, auc_score2)"
      ],
      "execution_count": 20,
      "outputs": [
        {
          "output_type": "stream",
          "name": "stdout",
          "text": [
            "0.9762374461979914 0.9373206599713056\n"
          ]
        }
      ]
    },
    {
      "cell_type": "markdown",
      "metadata": {
        "id": "HPoQzv8pCM39"
      },
      "source": [
        "\n",
        "![alt text](https://www.spectrumnews.org/wp-content/uploads/2016/08/fig-3-1.gif)\n"
      ]
    }
  ]
}