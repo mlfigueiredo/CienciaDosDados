{
  "nbformat": 4,
  "nbformat_minor": 0,
  "metadata": {
    "colab": {
      "provenance": [],
      "collapsed_sections": [
        "iKSPxOQ88GDJ"
      ],
      "include_colab_link": true
    },
    "kernelspec": {
      "name": "python3",
      "display_name": "Python 3"
    },
    "language_info": {
      "name": "python"
    }
  },
  "cells": [
    {
      "cell_type": "markdown",
      "metadata": {
        "id": "view-in-github",
        "colab_type": "text"
      },
      "source": [
        "<a href=\"https://colab.research.google.com/github/mlfigueiredo/CienciaDosDados/blob/main/Detec%C3%A7%C3%A3o_de_Outliers_em_Machine_Learning.ipynb\" target=\"_parent\"><img src=\"https://colab.research.google.com/assets/colab-badge.svg\" alt=\"Open In Colab\"/></a>"
      ]
    },
    {
      "cell_type": "markdown",
      "metadata": {
        "id": "et7tEEYP52Uh"
      },
      "source": [
        "![](https://www.itl.nist.gov/div898/handbook/prc/section1/prc16_r01.gif)"
      ]
    },
    {
      "cell_type": "markdown",
      "metadata": {
        "id": "l0v6oHit6DJa"
      },
      "source": [
        "![](http://playfairdata.com/wp-content/uploads/2021/08/How-and-Why-to-Make-Box-Plots-in-Tableau.gif)"
      ]
    },
    {
      "cell_type": "markdown",
      "metadata": {
        "id": "wDO-tXKrB7UJ"
      },
      "source": [
        "## Detecção de outlier em aprendizado de máquina usando teste de hipóteses\n",
        "![](https://lh3.googleusercontent.com/proxy/AJ7OJEHOufzWGs8Aixt3axJRImJBx6gNyl2adYkS9lMF_1SwKFZOk8ZZiiv6b1OB1xalb8TRI7c7kHfk4F1PXHjPYrq2hQr3WcnKJZ0tFzdHvAqgpAxG-4DW_5eYM3ezvEna8WakRMzdAp7DYxw3VyooryOz3oLlePrFUTMhkDZu7d0)"
      ]
    },
    {
      "cell_type": "markdown",
      "metadata": {
        "id": "9c2xRu9YB7Wp"
      },
      "source": [
        "Um outlier pode ser de dois tipos: univariado e multivariado. Acima, discutimos o exemplo de um outlier univariado. Esses outliers podem ser encontrados quando olhamos para a distribuição de uma única variável. Outliers multivariados são outliers em um espaço n-dimensional.\n",
        "\n",
        "O **teste de hipóteses** é uma técnica comum para detectar outliers no aprendizado de máquina. O teste de hipótese é um método de testar uma afirmação ou hipótese sobre um parâmetro em uma população, usando dados medidos em uma amostra. \n",
        "\n",
        "Nesse método, testamos uma hipótese determinando a probabilidade de que uma estatística amostral pudesse ter sido selecionada, se a hipótese sobre o parâmetro populacional fosse verdadeira."
      ]
    },
    {
      "cell_type": "markdown",
      "metadata": {
        "id": "YwI3eSgEB7aR"
      },
      "source": [
        "O objetivo do teste de hipótese é determinar a probabilidade de que um parâmetro populacional, como a média, seja verdadeiro. Existem quatro etapas no teste de hipótese:"
      ]
    },
    {
      "cell_type": "markdown",
      "metadata": {
        "id": "fx1loYleB7dQ"
      },
      "source": [
        "1. Declare as suposições.\n",
        "2. Defina os critérios para uma decisão.\n",
        "3. Calcule a estatística de teste.\n",
        "4. Tomar uma decisão."
      ]
    },
    {
      "cell_type": "markdown",
      "metadata": {
        "id": "y5O-I3B2DvUr"
      },
      "source": [
        "![](https://cienciadosdados.com/images/2021/Thumbs/Grubbs.png)"
      ]
    },
    {
      "cell_type": "markdown",
      "metadata": {
        "id": "JJ_jM3fx7xR-"
      },
      "source": [
        "### 1. Importação dos Pacotes"
      ]
    },
    {
      "cell_type": "code",
      "metadata": {
        "id": "MB_H4w8K87kx"
      },
      "source": [
        "import numpy as np\n",
        "import scipy.stats as stats"
      ],
      "execution_count": 1,
      "outputs": []
    },
    {
      "cell_type": "markdown",
      "metadata": {
        "id": "Hw16Df2S71gu"
      },
      "source": [
        "### 2. Criando 2 variáveis (x e y) só para testar"
      ]
    },
    {
      "cell_type": "code",
      "metadata": {
        "id": "1ooYMaVNDV7a"
      },
      "source": [
        "x = np.array([12,13,14,19,21,23,405])"
      ],
      "execution_count": 2,
      "outputs": []
    },
    {
      "cell_type": "code",
      "metadata": {
        "id": "sfiurgjfDes7"
      },
      "source": [
        "y = np.array([12,13,14,19,21,23,405])"
      ],
      "execution_count": 3,
      "outputs": []
    },
    {
      "cell_type": "markdown",
      "metadata": {
        "id": "iKSPxOQ88GDJ"
      },
      "source": [
        "### 3. Criando um Detector de Outliers"
      ]
    },
    {
      "cell_type": "code",
      "metadata": {
        "colab": {
          "base_uri": "https://localhost:8080/"
        },
        "id": "eBhdUv22DXKU",
        "outputId": "f2d2279b-3108-49aa-e78f-559ffbad9dd4"
      },
      "source": [
        "def outliers_test(x):\n",
        "\n",
        "    ################################################\n",
        "    n = len(x)\n",
        "\n",
        "    mean_x = np.mean(x)\n",
        "\n",
        "    sd_x = np.std(x)\n",
        "\n",
        "    numerator = max(abs(x-mean_x))\n",
        "\n",
        "    g_calculated = numerator/sd_x\n",
        "\n",
        "\n",
        "    ### Valor Calculado\n",
        "    print(\"Grubbs Valor Calculado:\", g_calculated)\n",
        "\n",
        "    ################################################\n",
        "\n",
        "    # Teste \"T\"\n",
        "    t_value = stats.t.ppf(1 - 0.05 / (2 * n), n - 2)\n",
        "\n",
        "\n",
        "    # Fórmula de Grubbs\n",
        "    g_critical = ((n - 1) * np.sqrt(np.square(t_value))) / (np.sqrt(n) * np.sqrt(n - 2 + np.square(t_value)))\n",
        "\n",
        "\n",
        "    ### Valor Crítico\n",
        "    print(\"Grubbs Valor Crítico:\", g_critical)\n",
        "    \n",
        "    \n",
        "    \n",
        "    ################################################\n",
        "\n",
        "    # Avaliando o Resultado do Teste de Grubbs para confirmar se pode existir Outliers\n",
        "    if g_critical > g_calculated:\n",
        "       print(\"Para a Variável X , observamos que o valor calculado é menor que o valor Crítico. Aceitamos a Hipótese de que NÃO há outliers\\n\")\n",
        "    else:\n",
        "       print(\"Para a Variável Y , observamos que o valor calculado é MAIOR que o valor Crítico. Confirmamos a Hipótese de que HÁ outliers\\n\")\n",
        "\n",
        "\n",
        "\n",
        "\n",
        "outliers_test(x)\n",
        "outliers_test(y)"
      ],
      "execution_count": 4,
      "outputs": [
        {
          "output_type": "stream",
          "name": "stdout",
          "text": [
            "Grubbs Valor Calculado: 2.4484842768384905\n",
            "Grubbs Valor Crítico: 2.019968507680656\n",
            "Para a Variável Y , observamos que o valor calculado é MAIOR que o valor Crítico. Confirmamos a Hipótese de que HÁ outliers\n",
            "\n",
            "Grubbs Valor Calculado: 2.4484842768384905\n",
            "Grubbs Valor Crítico: 2.019968507680656\n",
            "Para a Variável Y , observamos que o valor calculado é MAIOR que o valor Crítico. Confirmamos a Hipótese de que HÁ outliers\n",
            "\n"
          ]
        }
      ]
    }
  ]
}