{
  "nbformat": 4,
  "nbformat_minor": 0,
  "metadata": {
    "anaconda-cloud": {},
    "colab": {
      "name": "Comparação_de_Modelos SVM Redes KNN.ipynb",
      "provenance": [],
      "collapsed_sections": [],
      "include_colab_link": true
    },
    "kernelspec": {
      "display_name": "Python 3",
      "language": "python",
      "name": "python3"
    },
    "language_info": {
      "codemirror_mode": {
        "name": "ipython",
        "version": 3
      },
      "file_extension": ".py",
      "mimetype": "text/x-python",
      "name": "python",
      "nbconvert_exporter": "python",
      "pygments_lexer": "ipython3",
      "version": "3.7.6"
    }
  },
  "cells": [
    {
      "cell_type": "markdown",
      "metadata": {
        "id": "view-in-github",
        "colab_type": "text"
      },
      "source": [
        "<a href=\"https://colab.research.google.com/github/mlfigueiredo/CienciaDosDados/blob/main/Compara%C3%A7%C3%A3o_de_Modelos_SVM_Redes_KNN.ipynb\" target=\"_parent\"><img src=\"https://colab.research.google.com/assets/colab-badge.svg\" alt=\"Open In Colab\"/></a>"
      ]
    },
    {
      "cell_type": "code",
      "metadata": {
        "id": "TveegZ0D5e92"
      },
      "source": [
        "from sklearn.svm import SVC\n",
        "from sklearn.linear_model import Perceptron # Redes Neurais com Percepton\n",
        "from sklearn.neighbors import KNeighborsClassifier  # KNN\n",
        "from sklearn.metrics import accuracy_score\n",
        "import numpy as np"
      ],
      "execution_count": 2,
      "outputs": []
    },
    {
      "cell_type": "code",
      "metadata": {
        "id": "QATXJMpvgMSB"
      },
      "source": [
        "# Importação dos Dados e Atrubuição das Variáveis de Entrada (Altura/Peso/Idade) e Variável a ser Predita (se é homem ou mulher)\n",
        "X = [[181, 80, 44], [177, 70, 43], [160, 60, 38], [154, 54, 37], [166, 65, 40], [190, 90, 47], [175, 64, 39], \n",
        "     [177, 70, 40], [159, 55, 37], [171, 75, 42], [181, 85, 43]]\n",
        "\n",
        "Y = ['homem', 'homem', 'mulher', 'mulher', 'homem', 'homem', 'mulher', 'mulher', 'mulher', 'homem', 'homem']\n",
        "\n"
      ],
      "execution_count": 3,
      "outputs": []
    },
    {
      "cell_type": "code",
      "metadata": {
        "id": "mtsHkmVFgbpG"
      },
      "source": [
        "# Criando os Classificadores - Os algoritmos \n",
        "# Aqui vamos usar os hyperparâmetros \"default\" dos algorítmos\n",
        "\n",
        "clf_svm = SVC() # Algoritmo SVM\n",
        "clf_perceptron = Perceptron() # Algoritmo Rede Neural\n",
        "clf_KNN = KNeighborsClassifier() # Algoritmo KNN\n",
        "\n"
      ],
      "execution_count": 4,
      "outputs": []
    },
    {
      "cell_type": "code",
      "metadata": {
        "id": "B1ZJZ5AXhW1S",
        "colab": {
          "base_uri": "https://localhost:8080/"
        },
        "outputId": "b86e9831-e969-445b-da3b-495ae6e8f4bd"
      },
      "source": [
        "# Treinamento dos Modelos\n",
        "clf_svm.fit(X, Y)\n",
        "\n",
        "clf_perceptron.fit(X, Y)\n",
        "\n",
        "clf_KNN.fit(X, Y)\n",
        "\n"
      ],
      "execution_count": 5,
      "outputs": [
        {
          "output_type": "execute_result",
          "data": {
            "text/plain": [
              "KNeighborsClassifier()"
            ]
          },
          "metadata": {},
          "execution_count": 5
        }
      ]
    },
    {
      "cell_type": "code",
      "metadata": {
        "id": "gGsPHWerhYhC",
        "colab": {
          "base_uri": "https://localhost:8080/"
        },
        "outputId": "bb3fdf2a-832f-459d-b5bd-ceb28f3b39c9"
      },
      "source": [
        "# Teste dos modelos (como  exemplo vamos usar os mesmos dados, pois são dados fictícios)\n",
        "\n",
        "## Teste do SVM\n",
        "pred_svm = clf_svm.predict(X)\n",
        "acc_svm = accuracy_score(Y, pred_svm) * 100\n",
        "print(acc_svm)"
      ],
      "execution_count": 9,
      "outputs": [
        {
          "output_type": "stream",
          "name": "stdout",
          "text": [
            "54.54545454545454\n"
          ]
        }
      ]
    },
    {
      "cell_type": "code",
      "metadata": {
        "id": "1dhkT-uKhbYD",
        "colab": {
          "base_uri": "https://localhost:8080/"
        },
        "outputId": "e3348dc5-5391-499b-a1b8-d647a280fd21"
      },
      "source": [
        "## Teste da Rede Neural\n",
        "pred_per = clf_perceptron.predict(X)\n",
        "acc_per = accuracy_score(Y, pred_per) * 100\n",
        "print('Accuracy for perceptron: ', acc_per)"
      ],
      "execution_count": 11,
      "outputs": [
        {
          "output_type": "stream",
          "name": "stdout",
          "text": [
            "Accuracy for perceptron:  45.45454545454545\n"
          ]
        }
      ]
    },
    {
      "cell_type": "code",
      "metadata": {
        "id": "Lv0xGwPghd8v",
        "colab": {
          "base_uri": "https://localhost:8080/"
        },
        "outputId": "f4fa1919-db97-4478-db53-35f7f55bcf4a"
      },
      "source": [
        "## Teste do KNN\n",
        "pred_KNN = clf_KNN.predict(X)\n",
        "acc_KNN = accuracy_score(Y, pred_KNN) * 100\n",
        "print('Accuracy for KNN: {}'.format(acc_KNN))"
      ],
      "execution_count": 12,
      "outputs": [
        {
          "output_type": "stream",
          "name": "stdout",
          "text": [
            "Accuracy for KNN: 72.72727272727273\n"
          ]
        }
      ]
    },
    {
      "cell_type": "code",
      "metadata": {
        "id": "N3fVHVgrhfR4",
        "colab": {
          "base_uri": "https://localhost:8080/"
        },
        "outputId": "adca9689-728b-47e3-f5bc-26c2309c9fbf"
      },
      "source": [
        "# Calcular o Melhor modelo Classificador\n",
        "index = np.argmax([acc_svm, acc_per, acc_KNN]) #Retorna os índices dos valores máximos ao longo de um eixo.\n",
        "classifiers = {0: 'SVM', 1: 'Perceptron', 2: 'KNN'}\n",
        "print('O melhor modelo de classificação de Gênero é o {}'.format(classifiers[index]))"
      ],
      "execution_count": 15,
      "outputs": [
        {
          "output_type": "stream",
          "name": "stdout",
          "text": [
            "O melhor modelo de classificação de Gênero é o KNN\n"
          ]
        }
      ]
    }
  ]
}