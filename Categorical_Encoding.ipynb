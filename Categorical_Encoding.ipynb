{
  "nbformat": 4,
  "nbformat_minor": 0,
  "metadata": {
    "colab": {
      "name": "Categorical_Encoding.ipynb",
      "provenance": [],
      "collapsed_sections": [],
      "include_colab_link": true
    },
    "kernelspec": {
      "name": "python3",
      "display_name": "Python 3"
    }
  },
  "cells": [
    {
      "cell_type": "markdown",
      "metadata": {
        "id": "view-in-github",
        "colab_type": "text"
      },
      "source": [
        "<a href=\"https://colab.research.google.com/github/mlfigueiredo/CienciaDosDados/blob/main/Categorical_Encoding.ipynb\" target=\"_parent\"><img src=\"https://colab.research.google.com/assets/colab-badge.svg\" alt=\"Open In Colab\"/></a>"
      ]
    },
    {
      "cell_type": "markdown",
      "metadata": {
        "id": "8A1Xg6Wx9gng"
      },
      "source": [
        "\n",
        "\n",
        "\n",
        "### <font color='BLUE'>Categorical Encoding - O que é ? pra quê fazer? </font>\n",
        "### <font color='Grey'>Label Encoder e One-Hot Encoder </font>\n",
        " \n"
      ]
    },
    {
      "cell_type": "markdown",
      "metadata": {
        "id": "EJq0PM4d_3iY"
      },
      "source": [
        "### **Tipos de Variáveis**"
      ]
    },
    {
      "cell_type": "markdown",
      "metadata": {
        "id": "pJZbqMBcA7Wm"
      },
      "source": [
        "![alt text](https://miro.medium.com/max/786/1*grFS9Tlufu9HmhqfEpjTJw.png)"
      ]
    },
    {
      "cell_type": "markdown",
      "metadata": {
        "id": "EXw9f5cIBOrG"
      },
      "source": [
        "Como Computador entende números, precisamos então fazer essa transformação, essa codificação dos valores das variáveis. \n",
        "\n",
        "Existem várias maneiras de lidar com variáveis ​​categóricas. Neste aula, discutirei as duas técnicas mais amplamente utilizadas: Label e One-Hot Encoder"
      ]
    },
    {
      "cell_type": "markdown",
      "metadata": {
        "id": "aa9RYscSBxda"
      },
      "source": [
        "# Label Encoder\n",
        "\n",
        "Nessa técnica, cada rótulo (ou cada domínio/cada caracter) **recebe um número inteiro exclusivo** com base **na ordem alfabética.**"
      ]
    },
    {
      "cell_type": "code",
      "metadata": {
        "colab": {
          "base_uri": "https://localhost:8080/",
          "height": 206
        },
        "id": "psmJuzxsCTCq",
        "outputId": "645c1c00-f9ca-4623-f941-f20b2335d786"
      },
      "source": [
        "import pandas as pd\n",
        "data = {'Empregador':[\"Corpo de Bombeiros\",\"Secretaria da Saúde\",\"Polícia Civil\", \"Secretaria da Saúde\",'Polícia Civil'] , 'Idade': [44,34,46,35,23], 'Remuneração': [72000,65000,98000,45000,34000]}\n",
        "df = pd.DataFrame(data)\n",
        "df"
      ],
      "execution_count": 14,
      "outputs": [
        {
          "output_type": "execute_result",
          "data": {
            "text/plain": [
              "            Empregador  Idade  Remuneração\n",
              "0   Corpo de Bombeiros     44        72000\n",
              "1  Secretaria da Saúde     34        65000\n",
              "2        Polícia Civil     46        98000\n",
              "3  Secretaria da Saúde     35        45000\n",
              "4        Polícia Civil     23        34000"
            ],
            "text/html": [
              "\n",
              "  <div id=\"df-76b7c3a0-b30a-47df-a6db-399b0ac82bc7\">\n",
              "    <div class=\"colab-df-container\">\n",
              "      <div>\n",
              "<style scoped>\n",
              "    .dataframe tbody tr th:only-of-type {\n",
              "        vertical-align: middle;\n",
              "    }\n",
              "\n",
              "    .dataframe tbody tr th {\n",
              "        vertical-align: top;\n",
              "    }\n",
              "\n",
              "    .dataframe thead th {\n",
              "        text-align: right;\n",
              "    }\n",
              "</style>\n",
              "<table border=\"1\" class=\"dataframe\">\n",
              "  <thead>\n",
              "    <tr style=\"text-align: right;\">\n",
              "      <th></th>\n",
              "      <th>Empregador</th>\n",
              "      <th>Idade</th>\n",
              "      <th>Remuneração</th>\n",
              "    </tr>\n",
              "  </thead>\n",
              "  <tbody>\n",
              "    <tr>\n",
              "      <th>0</th>\n",
              "      <td>Corpo de Bombeiros</td>\n",
              "      <td>44</td>\n",
              "      <td>72000</td>\n",
              "    </tr>\n",
              "    <tr>\n",
              "      <th>1</th>\n",
              "      <td>Secretaria da Saúde</td>\n",
              "      <td>34</td>\n",
              "      <td>65000</td>\n",
              "    </tr>\n",
              "    <tr>\n",
              "      <th>2</th>\n",
              "      <td>Polícia Civil</td>\n",
              "      <td>46</td>\n",
              "      <td>98000</td>\n",
              "    </tr>\n",
              "    <tr>\n",
              "      <th>3</th>\n",
              "      <td>Secretaria da Saúde</td>\n",
              "      <td>35</td>\n",
              "      <td>45000</td>\n",
              "    </tr>\n",
              "    <tr>\n",
              "      <th>4</th>\n",
              "      <td>Polícia Civil</td>\n",
              "      <td>23</td>\n",
              "      <td>34000</td>\n",
              "    </tr>\n",
              "  </tbody>\n",
              "</table>\n",
              "</div>\n",
              "      <button class=\"colab-df-convert\" onclick=\"convertToInteractive('df-76b7c3a0-b30a-47df-a6db-399b0ac82bc7')\"\n",
              "              title=\"Convert this dataframe to an interactive table.\"\n",
              "              style=\"display:none;\">\n",
              "        \n",
              "  <svg xmlns=\"http://www.w3.org/2000/svg\" height=\"24px\"viewBox=\"0 0 24 24\"\n",
              "       width=\"24px\">\n",
              "    <path d=\"M0 0h24v24H0V0z\" fill=\"none\"/>\n",
              "    <path d=\"M18.56 5.44l.94 2.06.94-2.06 2.06-.94-2.06-.94-.94-2.06-.94 2.06-2.06.94zm-11 1L8.5 8.5l.94-2.06 2.06-.94-2.06-.94L8.5 2.5l-.94 2.06-2.06.94zm10 10l.94 2.06.94-2.06 2.06-.94-2.06-.94-.94-2.06-.94 2.06-2.06.94z\"/><path d=\"M17.41 7.96l-1.37-1.37c-.4-.4-.92-.59-1.43-.59-.52 0-1.04.2-1.43.59L10.3 9.45l-7.72 7.72c-.78.78-.78 2.05 0 2.83L4 21.41c.39.39.9.59 1.41.59.51 0 1.02-.2 1.41-.59l7.78-7.78 2.81-2.81c.8-.78.8-2.07 0-2.86zM5.41 20L4 18.59l7.72-7.72 1.47 1.35L5.41 20z\"/>\n",
              "  </svg>\n",
              "      </button>\n",
              "      \n",
              "  <style>\n",
              "    .colab-df-container {\n",
              "      display:flex;\n",
              "      flex-wrap:wrap;\n",
              "      gap: 12px;\n",
              "    }\n",
              "\n",
              "    .colab-df-convert {\n",
              "      background-color: #E8F0FE;\n",
              "      border: none;\n",
              "      border-radius: 50%;\n",
              "      cursor: pointer;\n",
              "      display: none;\n",
              "      fill: #1967D2;\n",
              "      height: 32px;\n",
              "      padding: 0 0 0 0;\n",
              "      width: 32px;\n",
              "    }\n",
              "\n",
              "    .colab-df-convert:hover {\n",
              "      background-color: #E2EBFA;\n",
              "      box-shadow: 0px 1px 2px rgba(60, 64, 67, 0.3), 0px 1px 3px 1px rgba(60, 64, 67, 0.15);\n",
              "      fill: #174EA6;\n",
              "    }\n",
              "\n",
              "    [theme=dark] .colab-df-convert {\n",
              "      background-color: #3B4455;\n",
              "      fill: #D2E3FC;\n",
              "    }\n",
              "\n",
              "    [theme=dark] .colab-df-convert:hover {\n",
              "      background-color: #434B5C;\n",
              "      box-shadow: 0px 1px 3px 1px rgba(0, 0, 0, 0.15);\n",
              "      filter: drop-shadow(0px 1px 2px rgba(0, 0, 0, 0.3));\n",
              "      fill: #FFFFFF;\n",
              "    }\n",
              "  </style>\n",
              "\n",
              "      <script>\n",
              "        const buttonEl =\n",
              "          document.querySelector('#df-76b7c3a0-b30a-47df-a6db-399b0ac82bc7 button.colab-df-convert');\n",
              "        buttonEl.style.display =\n",
              "          google.colab.kernel.accessAllowed ? 'block' : 'none';\n",
              "\n",
              "        async function convertToInteractive(key) {\n",
              "          const element = document.querySelector('#df-76b7c3a0-b30a-47df-a6db-399b0ac82bc7');\n",
              "          const dataTable =\n",
              "            await google.colab.kernel.invokeFunction('convertToInteractive',\n",
              "                                                     [key], {});\n",
              "          if (!dataTable) return;\n",
              "\n",
              "          const docLinkHtml = 'Like what you see? Visit the ' +\n",
              "            '<a target=\"_blank\" href=https://colab.research.google.com/notebooks/data_table.ipynb>data table notebook</a>'\n",
              "            + ' to learn more about interactive tables.';\n",
              "          element.innerHTML = '';\n",
              "          dataTable['output_type'] = 'display_data';\n",
              "          await google.colab.output.renderOutput(dataTable, element);\n",
              "          const docLink = document.createElement('div');\n",
              "          docLink.innerHTML = docLinkHtml;\n",
              "          element.appendChild(docLink);\n",
              "        }\n",
              "      </script>\n",
              "    </div>\n",
              "  </div>\n",
              "  "
            ]
          },
          "metadata": {},
          "execution_count": 14
        }
      ]
    },
    {
      "cell_type": "code",
      "metadata": {
        "id": "0TmkDca8EqjJ",
        "colab": {
          "base_uri": "https://localhost:8080/"
        },
        "outputId": "91db2cec-76c9-4bd7-c25c-02d0803b43c3"
      },
      "source": [
        "data"
      ],
      "execution_count": 15,
      "outputs": [
        {
          "output_type": "execute_result",
          "data": {
            "text/plain": [
              "{'Empregador': ['Corpo de Bombeiros',\n",
              "  'Secretaria da Saúde',\n",
              "  'Polícia Civil',\n",
              "  'Secretaria da Saúde',\n",
              "  'Polícia Civil'],\n",
              " 'Idade': [44, 34, 46, 35, 23],\n",
              " 'Remuneração': [72000, 65000, 98000, 45000, 34000]}"
            ]
          },
          "metadata": {},
          "execution_count": 15
        }
      ]
    },
    {
      "cell_type": "code",
      "metadata": {
        "id": "mA28J5jgD80t",
        "colab": {
          "base_uri": "https://localhost:8080/"
        },
        "outputId": "0a3214ab-34bb-43ac-ded8-0b7919dd9685"
      },
      "source": [
        "df.info()"
      ],
      "execution_count": 16,
      "outputs": [
        {
          "output_type": "stream",
          "name": "stdout",
          "text": [
            "<class 'pandas.core.frame.DataFrame'>\n",
            "RangeIndex: 5 entries, 0 to 4\n",
            "Data columns (total 3 columns):\n",
            " #   Column       Non-Null Count  Dtype \n",
            "---  ------       --------------  ----- \n",
            " 0   Empregador   5 non-null      object\n",
            " 1   Idade        5 non-null      int64 \n",
            " 2   Remuneração  5 non-null      int64 \n",
            "dtypes: int64(2), object(1)\n",
            "memory usage: 248.0+ bytes\n"
          ]
        }
      ]
    },
    {
      "cell_type": "code",
      "metadata": {
        "colab": {
          "base_uri": "https://localhost:8080/"
        },
        "id": "bHclyRelEJ17",
        "outputId": "dedb8a5f-c004-43ba-8902-0aa809887482"
      },
      "source": [
        "# Import label encoder \n",
        "from sklearn import preprocessing\n",
        "\n",
        "# label_encoder object knows how to understand word labels. \n",
        "label_encoder = preprocessing.LabelEncoder()\n",
        "\n",
        "# Encode labels in column 'Country'. \n",
        "df['Empregador']= label_encoder.fit_transform(df['Empregador']) \n",
        "print(df)"
      ],
      "execution_count": 17,
      "outputs": [
        {
          "output_type": "stream",
          "name": "stdout",
          "text": [
            "   Empregador  Idade  Remuneração\n",
            "0           0     44        72000\n",
            "1           2     34        65000\n",
            "2           1     46        98000\n",
            "3           2     35        45000\n",
            "4           1     23        34000\n"
          ]
        }
      ]
    },
    {
      "cell_type": "markdown",
      "metadata": {
        "id": "NpCeeJnsE4WL"
      },
      "source": [
        "# Só que a parada é o seguinte:\n",
        "\n",
        "E se a ordem for importante?\n",
        "\n",
        "No cenário acima, os nomes dos Empregadores não têm uma ordem ou classificação. \n",
        "\n",
        "\n",
        "Mas, quando o LabelEncoder é realizado, os nomes dos Empregadores são classificados com base nos alfabetos. \n",
        "\n",
        "\n",
        "Devido a isso, há uma probabilidade muito alta de que o modelo capture a relação **ORDINAL** entre Empregadores. \n",
        "\n",
        "\n",
        "Isso é algo que não queremos, porque não é a realizade! \n",
        "\n",
        "\n",
        "**Então, como podemos superar esse obstáculo?**\n",
        "\n",
        "Aí vem o conceito de **One-Hot Encoding .**"
      ]
    },
    {
      "cell_type": "markdown",
      "metadata": {
        "id": "Z_ieWrQoGFsr"
      },
      "source": [
        "# One-Hot Encoder - ou One-Hot Encoding é o processo de criação de variáveis ​​dummy (fictícias).\n",
        "Nessa técnica de codificação, cada categoria é representada como um vetor one-hot. Vamos ver como implementar a codificação one-hot em Python:"
      ]
    },
    {
      "cell_type": "code",
      "metadata": {
        "colab": {
          "base_uri": "https://localhost:8080/"
        },
        "id": "JTbwS4rRGQ9p",
        "outputId": "e07d78bf-5799-460a-f96c-2e1a2bec2e04"
      },
      "source": [
        "# importing one hot encoder \n",
        "from sklearn.preprocessing import OneHotEncoder\n",
        "\n",
        "# creating one hot encoder object \n",
        "onehotencoder = OneHotEncoder()\n",
        "\n",
        "#remodelar a matriz de país 1-D para 2-D, já que fit_transform espera 2-D e finalmente ajusta o objeto\n",
        "X = onehotencoder.fit_transform(df.Empregador.values.reshape(-1,1)).toarray()\n",
        "X\n"
      ],
      "execution_count": 18,
      "outputs": [
        {
          "output_type": "execute_result",
          "data": {
            "text/plain": [
              "array([[1., 0., 0.],\n",
              "       [0., 0., 1.],\n",
              "       [0., 1., 0.],\n",
              "       [0., 0., 1.],\n",
              "       [0., 1., 0.]])"
            ]
          },
          "metadata": {},
          "execution_count": 18
        }
      ]
    },
    {
      "cell_type": "code",
      "metadata": {
        "colab": {
          "base_uri": "https://localhost:8080/"
        },
        "id": "FEiZK7OmGoeo",
        "outputId": "ea193c1f-7fa7-40b6-8da0-05b0af96e423"
      },
      "source": [
        "\n",
        "#To add this back into the original dataframe \n",
        "dfOneHot = pd.DataFrame(X, columns = [\"Empregador_\"+str(int(i)) for i in range(df.shape[1])]) \n",
        "df = pd.concat([df, dfOneHot], axis=1)\n",
        "\n",
        "#droping the country column \n",
        "df= df.drop(['Empregador'], axis=1) \n",
        "\n",
        "#printing to verify \n",
        "print(df.head())"
      ],
      "execution_count": 19,
      "outputs": [
        {
          "output_type": "stream",
          "name": "stdout",
          "text": [
            "   Idade  Remuneração  Empregador_0  Empregador_1  Empregador_2\n",
            "0     44        72000           1.0           0.0           0.0\n",
            "1     34        65000           0.0           0.0           1.0\n",
            "2     46        98000           0.0           1.0           0.0\n",
            "3     35        45000           0.0           0.0           1.0\n",
            "4     23        34000           0.0           1.0           0.0\n"
          ]
        }
      ]
    },
    {
      "cell_type": "markdown",
      "metadata": {
        "id": "O7CDleVNKCfS"
      },
      "source": [
        "## Só que a parada é o seguinte:\n",
        "\n",
        "O One-Hot Encoding, geralmente, resulta em um **Dummy Variable Trap**, pois o resultado de uma variável pode ser facilmente previsto com a ajuda das variáveis ​​restantes.\n",
        "\n",
        "Que é isso, Eduardo?\n",
        "\n",
        "A **armadilha de variáveis ​​fictícias** é um cenário em que as variáveis ​​são altamente **correlacionadas** entre si. Um problema conhecido como **multicolinearidade** . \n",
        "\n",
        "\n"
      ]
    },
    {
      "cell_type": "markdown",
      "metadata": {
        "id": "B151_z68Kjsf"
      },
      "source": [
        "# Como a gente resolve isso...\n",
        "\n",
        "Portanto, para superar o problema da multicolinearidade, **uma das variáveis** ​​**dummy deve ser descartada**. \n",
        "\n",
        "Vou mostrar na prática como o problema da multicolinearidade é introduzido após realizar a codificação one-hot.\n",
        "\n"
      ]
    },
    {
      "cell_type": "markdown",
      "metadata": {
        "id": "JpGxHfvOK5-2"
      },
      "source": [
        "#Uma das maneiras comuns de verificar a multicolinearidade é \n",
        "#o Variance Inflation Factor **(VIF):**\n",
        "\n",
        "VIF = 1, menos multicolinearidade\n",
        "\n",
        "VIF <5, multicolinearidade moderada\n",
        "\n",
        "VIF> 5, multicolinearidade extrema (isso é o que devemos evitar)\n",
        "\n",
        "\n",
        "**Calcule as pontuações VIF :**"
      ]
    },
    {
      "cell_type": "code",
      "metadata": {
        "colab": {
          "base_uri": "https://localhost:8080/",
          "height": 206
        },
        "id": "N6cA0ZvaLMyy",
        "outputId": "357dc208-ff46-4775-ed1b-408a48692738"
      },
      "source": [
        "# Function to calculate VIF\n",
        "import statsmodels.api as sm\n",
        "\n",
        "def calculate_vif(data):\n",
        "    vif_df = pd.DataFrame(columns = ['Var', 'Vif'])\n",
        "    x_var_names = df.columns\n",
        "\n",
        "    for i in range(0, x_var_names.shape[0]):\n",
        "        y = df[x_var_names[i]]\n",
        "        x = df[x_var_names.drop([x_var_names[i]])]\n",
        "        r_squared = sm.OLS(y,x).fit().rsquared\n",
        "\n",
        "        vif = round(1/(1-r_squared),2)\n",
        "        \n",
        "        \n",
        "        vif_df.loc[i] = [x_var_names[i], vif]\n",
        "    return vif_df.sort_values(by = 'Vif', axis = 0, ascending=False, inplace=False)\n",
        "\n",
        "X=df.drop(['Remuneração'],axis=1)\n",
        "calculate_vif(X)"
      ],
      "execution_count": 20,
      "outputs": [
        {
          "output_type": "execute_result",
          "data": {
            "text/plain": [
              "            Var    Vif\n",
              "4  Empregador_2  22.04\n",
              "2  Empregador_0  17.40\n",
              "3  Empregador_1  16.26\n",
              "0         Idade  11.04\n",
              "1   Remuneração   9.55"
            ],
            "text/html": [
              "\n",
              "  <div id=\"df-28d863f7-4ef8-4c4c-b0b4-47e1b79030bc\">\n",
              "    <div class=\"colab-df-container\">\n",
              "      <div>\n",
              "<style scoped>\n",
              "    .dataframe tbody tr th:only-of-type {\n",
              "        vertical-align: middle;\n",
              "    }\n",
              "\n",
              "    .dataframe tbody tr th {\n",
              "        vertical-align: top;\n",
              "    }\n",
              "\n",
              "    .dataframe thead th {\n",
              "        text-align: right;\n",
              "    }\n",
              "</style>\n",
              "<table border=\"1\" class=\"dataframe\">\n",
              "  <thead>\n",
              "    <tr style=\"text-align: right;\">\n",
              "      <th></th>\n",
              "      <th>Var</th>\n",
              "      <th>Vif</th>\n",
              "    </tr>\n",
              "  </thead>\n",
              "  <tbody>\n",
              "    <tr>\n",
              "      <th>4</th>\n",
              "      <td>Empregador_2</td>\n",
              "      <td>22.04</td>\n",
              "    </tr>\n",
              "    <tr>\n",
              "      <th>2</th>\n",
              "      <td>Empregador_0</td>\n",
              "      <td>17.40</td>\n",
              "    </tr>\n",
              "    <tr>\n",
              "      <th>3</th>\n",
              "      <td>Empregador_1</td>\n",
              "      <td>16.26</td>\n",
              "    </tr>\n",
              "    <tr>\n",
              "      <th>0</th>\n",
              "      <td>Idade</td>\n",
              "      <td>11.04</td>\n",
              "    </tr>\n",
              "    <tr>\n",
              "      <th>1</th>\n",
              "      <td>Remuneração</td>\n",
              "      <td>9.55</td>\n",
              "    </tr>\n",
              "  </tbody>\n",
              "</table>\n",
              "</div>\n",
              "      <button class=\"colab-df-convert\" onclick=\"convertToInteractive('df-28d863f7-4ef8-4c4c-b0b4-47e1b79030bc')\"\n",
              "              title=\"Convert this dataframe to an interactive table.\"\n",
              "              style=\"display:none;\">\n",
              "        \n",
              "  <svg xmlns=\"http://www.w3.org/2000/svg\" height=\"24px\"viewBox=\"0 0 24 24\"\n",
              "       width=\"24px\">\n",
              "    <path d=\"M0 0h24v24H0V0z\" fill=\"none\"/>\n",
              "    <path d=\"M18.56 5.44l.94 2.06.94-2.06 2.06-.94-2.06-.94-.94-2.06-.94 2.06-2.06.94zm-11 1L8.5 8.5l.94-2.06 2.06-.94-2.06-.94L8.5 2.5l-.94 2.06-2.06.94zm10 10l.94 2.06.94-2.06 2.06-.94-2.06-.94-.94-2.06-.94 2.06-2.06.94z\"/><path d=\"M17.41 7.96l-1.37-1.37c-.4-.4-.92-.59-1.43-.59-.52 0-1.04.2-1.43.59L10.3 9.45l-7.72 7.72c-.78.78-.78 2.05 0 2.83L4 21.41c.39.39.9.59 1.41.59.51 0 1.02-.2 1.41-.59l7.78-7.78 2.81-2.81c.8-.78.8-2.07 0-2.86zM5.41 20L4 18.59l7.72-7.72 1.47 1.35L5.41 20z\"/>\n",
              "  </svg>\n",
              "      </button>\n",
              "      \n",
              "  <style>\n",
              "    .colab-df-container {\n",
              "      display:flex;\n",
              "      flex-wrap:wrap;\n",
              "      gap: 12px;\n",
              "    }\n",
              "\n",
              "    .colab-df-convert {\n",
              "      background-color: #E8F0FE;\n",
              "      border: none;\n",
              "      border-radius: 50%;\n",
              "      cursor: pointer;\n",
              "      display: none;\n",
              "      fill: #1967D2;\n",
              "      height: 32px;\n",
              "      padding: 0 0 0 0;\n",
              "      width: 32px;\n",
              "    }\n",
              "\n",
              "    .colab-df-convert:hover {\n",
              "      background-color: #E2EBFA;\n",
              "      box-shadow: 0px 1px 2px rgba(60, 64, 67, 0.3), 0px 1px 3px 1px rgba(60, 64, 67, 0.15);\n",
              "      fill: #174EA6;\n",
              "    }\n",
              "\n",
              "    [theme=dark] .colab-df-convert {\n",
              "      background-color: #3B4455;\n",
              "      fill: #D2E3FC;\n",
              "    }\n",
              "\n",
              "    [theme=dark] .colab-df-convert:hover {\n",
              "      background-color: #434B5C;\n",
              "      box-shadow: 0px 1px 3px 1px rgba(0, 0, 0, 0.15);\n",
              "      filter: drop-shadow(0px 1px 2px rgba(0, 0, 0, 0.3));\n",
              "      fill: #FFFFFF;\n",
              "    }\n",
              "  </style>\n",
              "\n",
              "      <script>\n",
              "        const buttonEl =\n",
              "          document.querySelector('#df-28d863f7-4ef8-4c4c-b0b4-47e1b79030bc button.colab-df-convert');\n",
              "        buttonEl.style.display =\n",
              "          google.colab.kernel.accessAllowed ? 'block' : 'none';\n",
              "\n",
              "        async function convertToInteractive(key) {\n",
              "          const element = document.querySelector('#df-28d863f7-4ef8-4c4c-b0b4-47e1b79030bc');\n",
              "          const dataTable =\n",
              "            await google.colab.kernel.invokeFunction('convertToInteractive',\n",
              "                                                     [key], {});\n",
              "          if (!dataTable) return;\n",
              "\n",
              "          const docLinkHtml = 'Like what you see? Visit the ' +\n",
              "            '<a target=\"_blank\" href=https://colab.research.google.com/notebooks/data_table.ipynb>data table notebook</a>'\n",
              "            + ' to learn more about interactive tables.';\n",
              "          element.innerHTML = '';\n",
              "          dataTable['output_type'] = 'display_data';\n",
              "          await google.colab.output.renderOutput(dataTable, element);\n",
              "          const docLink = document.createElement('div');\n",
              "          docLink.innerHTML = docLinkHtml;\n",
              "          element.appendChild(docLink);\n",
              "        }\n",
              "      </script>\n",
              "    </div>\n",
              "  </div>\n",
              "  "
            ]
          },
          "metadata": {},
          "execution_count": 20
        }
      ]
    },
    {
      "cell_type": "markdown",
      "metadata": {
        "id": "EVdh1LylL_S1"
      },
      "source": [
        "Na saída, podemos ver que as variáveis ​​fictícias que são criadas usando a codificação one-hot têm VIF acima de 5. Temos um problema de multicolinearidade."
      ]
    },
    {
      "cell_type": "code",
      "metadata": {
        "id": "X2_R7UyvMRCb",
        "colab": {
          "base_uri": "https://localhost:8080/",
          "height": 175
        },
        "outputId": "a5e1b047-cc20-4499-b50c-a43f1b7ebda3"
      },
      "source": [
        "df = df.drop(df.columns[[0]], axis=1)\n",
        "calculate_vif(df)"
      ],
      "execution_count": 21,
      "outputs": [
        {
          "output_type": "execute_result",
          "data": {
            "text/plain": [
              "            Var   Vif\n",
              "2  Empregador_1  4.88\n",
              "3  Empregador_2  3.69\n",
              "1  Empregador_0  3.31\n",
              "0   Remuneração  1.10"
            ],
            "text/html": [
              "\n",
              "  <div id=\"df-b51eea48-fae3-4269-8010-286f83cdbd60\">\n",
              "    <div class=\"colab-df-container\">\n",
              "      <div>\n",
              "<style scoped>\n",
              "    .dataframe tbody tr th:only-of-type {\n",
              "        vertical-align: middle;\n",
              "    }\n",
              "\n",
              "    .dataframe tbody tr th {\n",
              "        vertical-align: top;\n",
              "    }\n",
              "\n",
              "    .dataframe thead th {\n",
              "        text-align: right;\n",
              "    }\n",
              "</style>\n",
              "<table border=\"1\" class=\"dataframe\">\n",
              "  <thead>\n",
              "    <tr style=\"text-align: right;\">\n",
              "      <th></th>\n",
              "      <th>Var</th>\n",
              "      <th>Vif</th>\n",
              "    </tr>\n",
              "  </thead>\n",
              "  <tbody>\n",
              "    <tr>\n",
              "      <th>2</th>\n",
              "      <td>Empregador_1</td>\n",
              "      <td>4.88</td>\n",
              "    </tr>\n",
              "    <tr>\n",
              "      <th>3</th>\n",
              "      <td>Empregador_2</td>\n",
              "      <td>3.69</td>\n",
              "    </tr>\n",
              "    <tr>\n",
              "      <th>1</th>\n",
              "      <td>Empregador_0</td>\n",
              "      <td>3.31</td>\n",
              "    </tr>\n",
              "    <tr>\n",
              "      <th>0</th>\n",
              "      <td>Remuneração</td>\n",
              "      <td>1.10</td>\n",
              "    </tr>\n",
              "  </tbody>\n",
              "</table>\n",
              "</div>\n",
              "      <button class=\"colab-df-convert\" onclick=\"convertToInteractive('df-b51eea48-fae3-4269-8010-286f83cdbd60')\"\n",
              "              title=\"Convert this dataframe to an interactive table.\"\n",
              "              style=\"display:none;\">\n",
              "        \n",
              "  <svg xmlns=\"http://www.w3.org/2000/svg\" height=\"24px\"viewBox=\"0 0 24 24\"\n",
              "       width=\"24px\">\n",
              "    <path d=\"M0 0h24v24H0V0z\" fill=\"none\"/>\n",
              "    <path d=\"M18.56 5.44l.94 2.06.94-2.06 2.06-.94-2.06-.94-.94-2.06-.94 2.06-2.06.94zm-11 1L8.5 8.5l.94-2.06 2.06-.94-2.06-.94L8.5 2.5l-.94 2.06-2.06.94zm10 10l.94 2.06.94-2.06 2.06-.94-2.06-.94-.94-2.06-.94 2.06-2.06.94z\"/><path d=\"M17.41 7.96l-1.37-1.37c-.4-.4-.92-.59-1.43-.59-.52 0-1.04.2-1.43.59L10.3 9.45l-7.72 7.72c-.78.78-.78 2.05 0 2.83L4 21.41c.39.39.9.59 1.41.59.51 0 1.02-.2 1.41-.59l7.78-7.78 2.81-2.81c.8-.78.8-2.07 0-2.86zM5.41 20L4 18.59l7.72-7.72 1.47 1.35L5.41 20z\"/>\n",
              "  </svg>\n",
              "      </button>\n",
              "      \n",
              "  <style>\n",
              "    .colab-df-container {\n",
              "      display:flex;\n",
              "      flex-wrap:wrap;\n",
              "      gap: 12px;\n",
              "    }\n",
              "\n",
              "    .colab-df-convert {\n",
              "      background-color: #E8F0FE;\n",
              "      border: none;\n",
              "      border-radius: 50%;\n",
              "      cursor: pointer;\n",
              "      display: none;\n",
              "      fill: #1967D2;\n",
              "      height: 32px;\n",
              "      padding: 0 0 0 0;\n",
              "      width: 32px;\n",
              "    }\n",
              "\n",
              "    .colab-df-convert:hover {\n",
              "      background-color: #E2EBFA;\n",
              "      box-shadow: 0px 1px 2px rgba(60, 64, 67, 0.3), 0px 1px 3px 1px rgba(60, 64, 67, 0.15);\n",
              "      fill: #174EA6;\n",
              "    }\n",
              "\n",
              "    [theme=dark] .colab-df-convert {\n",
              "      background-color: #3B4455;\n",
              "      fill: #D2E3FC;\n",
              "    }\n",
              "\n",
              "    [theme=dark] .colab-df-convert:hover {\n",
              "      background-color: #434B5C;\n",
              "      box-shadow: 0px 1px 3px 1px rgba(0, 0, 0, 0.15);\n",
              "      filter: drop-shadow(0px 1px 2px rgba(0, 0, 0, 0.3));\n",
              "      fill: #FFFFFF;\n",
              "    }\n",
              "  </style>\n",
              "\n",
              "      <script>\n",
              "        const buttonEl =\n",
              "          document.querySelector('#df-b51eea48-fae3-4269-8010-286f83cdbd60 button.colab-df-convert');\n",
              "        buttonEl.style.display =\n",
              "          google.colab.kernel.accessAllowed ? 'block' : 'none';\n",
              "\n",
              "        async function convertToInteractive(key) {\n",
              "          const element = document.querySelector('#df-b51eea48-fae3-4269-8010-286f83cdbd60');\n",
              "          const dataTable =\n",
              "            await google.colab.kernel.invokeFunction('convertToInteractive',\n",
              "                                                     [key], {});\n",
              "          if (!dataTable) return;\n",
              "\n",
              "          const docLinkHtml = 'Like what you see? Visit the ' +\n",
              "            '<a target=\"_blank\" href=https://colab.research.google.com/notebooks/data_table.ipynb>data table notebook</a>'\n",
              "            + ' to learn more about interactive tables.';\n",
              "          element.innerHTML = '';\n",
              "          dataTable['output_type'] = 'display_data';\n",
              "          await google.colab.output.renderOutput(dataTable, element);\n",
              "          const docLink = document.createElement('div');\n",
              "          docLink.innerHTML = docLinkHtml;\n",
              "          element.appendChild(docLink);\n",
              "        }\n",
              "      </script>\n",
              "    </div>\n",
              "  </div>\n",
              "  "
            ]
          },
          "metadata": {},
          "execution_count": 21
        }
      ]
    },
    {
      "cell_type": "markdown",
      "metadata": {
        "id": "3CWclQHoNB8P"
      },
      "source": [
        "Uau! VIF diminuiu. Resolvemos o problema da multicolinearidade. Agora, o conjunto de dados está pronto para construir o modelo."
      ]
    },
    {
      "cell_type": "markdown",
      "metadata": {
        "id": "OA_PyYbqZyjw"
      },
      "source": [
        "#**Resumão**\n",
        "![alt text](https://static.imagensparawhats.com.br/content/assetz/uploads/2018/08/imagens-para-whats-praia-e-mar-gifs.gif)"
      ]
    },
    {
      "cell_type": "markdown",
      "metadata": {
        "id": "E9fC-q0LZ4Gm"
      },
      "source": [
        "**Quando usar um Label Encoding vs. One Hot Encoding**\n",
        "\n",
        "Essa questão geralmente depende do seu conjunto de dados e do modelo que você deseja aplicar. Mesmo assim, alguns pontos a serem observados antes de escolher a técnica de codificação certa para o seu modelo:\n",
        "\n",
        "**Aplicamos a codificação One-Hot Encoder quando:**\n",
        "\n",
        "* 1° A característica categórica não é ordinal (como os empregadores acima)\n",
        "\n",
        "* 2° O número de recursos categóricos é menor, então a codificação one-hot pode ser aplicada de forma eficaz\n",
        "\n",
        "**Aplicamos a codificação labelEncoder quando:**\n",
        "\n",
        "* 1° A característica categórica é ordinal (como Jr. Pleno, Sênior, kg, ml, escola primária, escola secundária, doutorado...)\n",
        "\n",
        "* 2° O número de categorias é bastante grande, pois a codificação one-hot pode levar a um alto consumo de memória\n",
        "\n",
        "\n",
        "\n",
        "Simbóra!\n",
        "\n"
      ]
    }
  ]
}